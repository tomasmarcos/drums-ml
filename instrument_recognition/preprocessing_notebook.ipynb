{
  "nbformat": 4,
  "nbformat_minor": 0,
  "metadata": {
    "colab": {
      "name": "ESP_Pipe003_forPublicGitHub_GenerateBarsFor3Different models.ipynb",
      "provenance": [],
      "collapsed_sections": []
    },
    "kernelspec": {
      "name": "python3",
      "display_name": "Python 3"
    }
  },
  "cells": [
    {
      "cell_type": "code",
      "metadata": {
        "colab": {
          "base_uri": "https://localhost:8080/"
        },
        "id": "eaYla0WTiIOn",
        "outputId": "ebe7cc61-c047-40f0-9bdf-e5331b1b1e8f"
      },
      "source": [
        " script_idea = \"\"\"\n",
        "SCRIPT FOR PREPROCESSING THE DATA:\n",
        "Given annotations .txt and .wavs of a couple of songs we will:\n",
        "For each song:\n",
        "  For each label (drumtype, ie: KD , HH, SD...):\n",
        "    1) Binarize the data (ie KD / OTHER)\n",
        "    2) Drop close observations\n",
        "    3) For each onset in the song:\n",
        "      3.1) Take +- a few miliseconds (ie : dMS = +-50) of the signal\n",
        "      3.2) Pad the signal\n",
        "      3.3) Perform STFT over the padded signal.\n",
        "\n",
        "\"\"\"\n",
        "print(script_idea)"
      ],
      "execution_count": 36,
      "outputs": [
        {
          "output_type": "stream",
          "name": "stdout",
          "text": [
            "\n",
            "SCRIPT FOR PREPROCESSING THE DATA:\n",
            "Given annotations .txt and .wavs of a couple of songs we will:\n",
            "For each song:\n",
            " For each label (drumtype, ie: KD , HH, SD...):\n",
            "   1) Binarize the data (ie KD / OTHER)\n",
            "   2) Drop close observations\n",
            "   3) For each onset in the song:\n",
            "     3.1) Take +- a few miliseconds (ie : dMS = +-50) of the signal\n",
            "     3.2) Pad the signal\n",
            "     3.3) Perform STFT over the padded signal.\n",
            "\n",
            "\n"
          ]
        }
      ]
    },
    {
      "cell_type": "code",
      "metadata": {
        "id": "dS5TRims5WaP",
        "colab": {
          "base_uri": "https://localhost:8080/"
        },
        "outputId": "6e767e04-510e-40c8-88ae-93e39c4f3509"
      },
      "source": [
        "import librosa\n",
        "import sympy\n",
        "import warnings\n",
        "from librosa import display\n",
        "import matplotlib.pyplot as plt\n",
        "from google.colab import drive\n",
        "import os,sys,re,pandas as pd,numpy as np\n",
        "import seaborn as sns\n",
        "from scipy.io import wavfile\n",
        "import math\n",
        "import glob\n",
        "from sympy import Interval\n",
        "import logging\n",
        "import warnings\n",
        "\n",
        "\n",
        "drive.mount(ROOT_DIR)\n"
      ],
      "execution_count": null,
      "outputs": [
        {
          "output_type": "stream",
          "name": "stdout",
          "text": [
            "Drive already mounted at /content/drive; to attempt to forcibly remount, call drive.mount(\"/content/drive\", force_remount=True).\n"
          ]
        }
      ]
    },
    {
      "cell_type": "code",
      "metadata": {
        "colab": {
          "base_uri": "https://localhost:8080/",
          "height": 35
        },
        "id": "CDBppZWqIvHm",
        "outputId": "1e2b1f82-abb7-40c2-b634-44fdac80dca2"
      },
      "source": [
        "# Don't orget to type My Drive before the whole path\n",
        "ROOT_DIR = \"/content/drive\"\n",
        "MUSIC_DIR = os.path.join(ROOT_DIR,'My Drive/Maestria DM y KDD/Especializacion tesis/MDBDrums/MDB Drums')\n",
        "AUDIO_DIR = os.path.join(MUSIC_DIR,'audio','drum_only')\n",
        "wavs_traintest_allpaths = glob.glob(AUDIO_DIR+\"/*/*.wav\")\n",
        "wavs_traintest_allpaths[0]\n"
      ],
      "execution_count": null,
      "outputs": [
        {
          "output_type": "execute_result",
          "data": {
            "text/plain": [
              "'/content/drive/My Drive/Maestria DM y KDD/Especializacion tesis/MDBDrums/MDB Drums/audio/drum_only/train/MusicDelta_80sRock_Drum.wav'"
            ],
            "application/vnd.google.colaboratory.intrinsic+json": {
              "type": "string"
            }
          },
          "metadata": {},
          "execution_count": 8
        }
      ]
    },
    {
      "cell_type": "code",
      "metadata": {
        "colab": {
          "base_uri": "https://localhost:8080/",
          "height": 35
        },
        "id": "YuI8TZvGiHZf",
        "outputId": "98bf977c-8f3c-4449-85cc-153800c6e4e2"
      },
      "source": [
        "ANNOTATIONS_DIR = os.path.join(MUSIC_DIR,'annotations','class')\n",
        "annotations_traintest_allpaths = glob.glob(ANNOTATIONS_DIR+\"/*/*.txt\")\n",
        "annotations_traintest_allpaths[0]"
      ],
      "execution_count": null,
      "outputs": [
        {
          "output_type": "execute_result",
          "data": {
            "text/plain": [
              "'/content/drive/My Drive/Maestria DM y KDD/Especializacion tesis/MDBDrums/MDB Drums/annotations/class/test/MusicDelta_Hendrix_class.txt'"
            ],
            "application/vnd.google.colaboratory.intrinsic+json": {
              "type": "string"
            }
          },
          "metadata": {},
          "execution_count": 9
        }
      ]
    },
    {
      "cell_type": "code",
      "metadata": {
        "id": "XuNucqMgkGQU"
      },
      "source": [
        "def annotation_file2df(annotation_path):\n",
        "  \"\"\"\n",
        "  Preprocessing function for parsing the annotation path from MDB Drums.\n",
        "  params : annotation_path must be .txt from MDB drums (class)\n",
        "  returns : df with annotations\n",
        "  \"\"\"\n",
        "  with open(annotation_path,\"r\") as f:\n",
        "    myfile = f.read()\n",
        "  my_annotations = [x.split(\"\\t\") for x in myfile.split(\"\\n\")[:-1]]\n",
        "  df_annotations = pd.DataFrame(my_annotations,columns=[\"time\",\"class\"])\n",
        "  df_annotations['class'] =  df_annotations['class'].str.strip()\n",
        "  df_annotations['time'] = df_annotations['time'].astype('float')\n",
        "  return df_annotations\n",
        "\n",
        "def search_correspondingpath_given_annotation(annotation_txt):\n",
        "  \"\"\"\n",
        "  Params: \n",
        "    annotation_txt \n",
        "  Returns:\n",
        "    Correspondng annotation in .wav for this folder\n",
        "  Example:\n",
        "    annotation_txt = ./my_drums_class.txt\n",
        "    output = search_correspondingpath_given_annotation(annotation_txt)\n",
        "    >> ./my_drums_Drum.wav\n",
        "  \"\"\"\n",
        "  filepath_wav = os.path.basename(annotation_txt).replace(\".txt\",\".wav\")\n",
        "  # required preprocess \n",
        "  filepath_wav = filepath_wav.replace(\"_class\",\"_Drum\")\n",
        "  if \"test\" in annotation_txt: #means need to go to perform the search where the ttest set is\n",
        "    filepath_wav = os.path.join(AUDIO_DIR,\"test\",filepath_wav)\n",
        "  elif \"train\" in annotation_txt:#means need to go to perform the search where the train  set is\n",
        "    filepath_wav = os.path.join(AUDIO_DIR,\"train\",filepath_wav)\n",
        "  else:\n",
        "    raise ValueError(\"must be either in test or train , review the file\")\n",
        "    assert os.path.exists(filepath_wav),\"The file doesn't exist , review your annotation process\"\n",
        "  return filepath_wav\n",
        "\n",
        "def signal_zero_padding(original_signal,desired_signal_size,verbose=0):\n",
        "  \"\"\"\n",
        "  Perform signal_zero_padding adding the same (or almost, diff by 1) quantity of zeros to the left and to the right of the original_signal ; the final\n",
        "  signal length will be equal to  desired_signal_size\n",
        "  \"\"\"\n",
        "  original_signal_size = len(original_signal)\n",
        "  if verbose>0:\n",
        "    print(\"Original Signal length:\",original_signal_size)\n",
        "  x = (desired_signal_size-original_signal_size)/2\n",
        "  signal_start,signal_end = math.floor(x),math.floor(x)+original_signal_size\n",
        "  new_signal = np.zeros(desired_signal_size)\n",
        "  new_signal[signal_start:signal_end] = original_signal\n",
        "  return new_signal\n",
        "\n",
        "def signal2melspectrogram(signal: np.array,samping_rate:int,*args):\n",
        "  S = librosa.feature.melspectrogram(y=signal, sr=samping_rate, n_mels=4096,fmax=8000,*args)\n",
        "  return S\n",
        "\n",
        "def onset2stft(onset_padded, sampling_rate=22050,stride=4,window_size = 128):\n",
        "  \"\"\"\n",
        "  Function for performing stft based on librosa. Taking the positive part of the signal.\n",
        "  Function taken from https://colab.research.google.com/drive/1coMGL4gJhmSS93C1JK74uOUewL1lDZvU#scrollTo=XuNucqMgkGQU\n",
        "\n",
        "  Params:\n",
        "    onset_padded -> signal 1darray (you should perform padding before)\n",
        "    sampling_rate int : sampling rate (in MDB drums is 22050)\n",
        "    --- Check librosa.stft for the following params:\n",
        "    stride: hop_length\n",
        "    window_size: n_fft \n",
        "  Returns:\n",
        "    signal after stft with only the positive part \n",
        "  \"\"\"\n",
        "  # from https://stackoverflow.com/questions/56286595/librosas-fft-and-scipys-fft-are-different\n",
        "  # option 2\n",
        "  #window_size = 128  # 2048-sample fourier windows\n",
        "  #stride = 4      # 512 samples between windows\n",
        "  wps = sampling_rate/float(stride) # ~86 windows/second\n",
        "  X_libs = librosa.stft(onset_padded, n_fft=window_size, hop_length=stride)\n",
        "  X_libs = np.abs(X_libs)[:,:int(2*wps)]\n",
        "  # important\n",
        "  # wsize = 64 ; so output expected is 64/2+1 =33 rows  (positive part of the fft)\n",
        "  #  columns: depends on how much stride there is; stride = 64 ; signal of 128 --> 128/64 +1 = 3 ; stride = 16 --> 128/16 +1  =8  +1 = 9\n",
        "  return X_libs\n",
        "\n",
        "def song2taggedbars(annotation:pd.DataFrame(),signal:np.array,sampling_rate:int,secondswindow=0.1,desired_signal_size=1024,stride=32,window_size = 128,verbose=1):\n",
        "  \"\"\"\n",
        "  convert the signal using the annotations sets to a lot of 'bars' onset + - 0.1 seconds , perform stft overthat and goes to npy\n",
        "  \"\"\"\n",
        "  #zero_point_one_seconds = int(secondswindow*sampling_rate/60) # 36 samples = approximately 0.1 seconds\n",
        "  # why over 60??\n",
        "  mseconds_samples = int(secondswindow*sampling_rate) # 36 samples = approximately 0.1 seconds\n",
        "  if verbose>0:\n",
        "    print(\"Mseconds taken:\",mseconds_samples)\n",
        "  onsets_list,labels_list = list(),list()\n",
        "  number_onsets_song = len(annotation)\n",
        "  for onset_annotation_idx in range(number_onsets_song):\n",
        "    onset_annotation,label = annotation.loc[onset_annotation_idx,\"sampling_time\"],annotation.loc[onset_annotation_idx,\"class\"]\n",
        "    onset_start,onset_end = max(0,onset_annotation-mseconds_samples),min(len(signal),onset_annotation+mseconds_samples)\n",
        "\n",
        "    if verbose>0:\n",
        "      print(\"Onset annotation label:\",onset_annotation)\n",
        "      print(\"Onset start:\",onset_start)\n",
        "      print(\"Onset end:\",onset_end)\n",
        "    onset = signal[onset_start:onset_end]\n",
        "    onset_padded = signal_zero_padding(original_signal=onset,desired_signal_size=desired_signal_size, verbose = verbose)\n",
        "    onset_stft = onset2stft(onset_padded,sampling_rate=sampling_rate,stride=stride,window_size = window_size)\n",
        "    onsets_list.append(onset_stft)\n",
        "    labels_list.append(label)\n",
        "  return onsets_list,labels_list"
      ],
      "execution_count": null,
      "outputs": []
    },
    {
      "cell_type": "code",
      "source": [
        "config_signal_params = {\"hop_size\":256,\"n_fft\":1024,\"desired_signal_size_for_padding\":4096,\"seconds_window\":0.05}\n",
        "# LITTLE Explanation about  the params that i made for myself \n",
        "\"\"\"\n",
        "513x17 is shape: 1024 / 2 is 512 (so 513?)  (config_signal_params[\"n_fft\"]/2 +1 ) using the positive part of the ft\n",
        "Signal is 4096 (config_signal_params[\"desired_signal_size_for_padding\"])\n",
        "seconds_window: has impact on how much your you go forward and backwards to get the signal LOL!\n",
        "                so if seconds_window = 0.05 you will take a signal of 10ms (from your annotation point, 5 ms forward and 5ms backward)\n",
        "                then you will pad that to 4096 samples.\n",
        "                (since 10ms *22050 =2250 samples -> 2048 is not enough padding -> therefore 4096)\n",
        "hop_size: 256 ; n_fft: length of the window 1024 moving by 256: how many times we get?:\n",
        "4096/256 +1 = 17 ; config_signal_params[\"n_fft\"]/config_signal_params[\"hop_size\"] +1 ; so, 17 windows in the interval\n",
        "\"\"\""
      ],
      "metadata": {
        "colab": {
          "base_uri": "https://localhost:8080/",
          "height": 105
        },
        "id": "ECgkQo-vuXqx",
        "outputId": "4b01a58e-0f75-4a6f-a55a-c8adb1c0e2d9"
      },
      "execution_count": null,
      "outputs": [
        {
          "output_type": "execute_result",
          "data": {
            "text/plain": [
              "'\\n513x17 is shape: 1024 / 2 is 512 (so 513?)  (config_signal_params[\"n_fft\"]/2 +1 ) using the positive part of the ft\\nSignal is 4096 (config_signal_params[\"desired_signal_size_for_padding\"])\\nseconds_window: has impact on how much your you go forward and backwards to get the signal LOL!\\n                so if seconds_window = 0.05 you will take a signal of 10ms (from your annotation point, 5 ms forward and 5ms backward)\\n                then you will pad that to 4096 samples.\\n                (since 10ms *22050 =2250 samples -> 2048 is not enough padding -> therefore 4096)\\nhop_size: 256 ; n_fft: length of the window 1024 moving by 256: how many times we get?:\\n4096/256 +1 = 17 ; config_signal_params[\"n_fft\"]/config_signal_params[\"hop_size\"] +1 ; so, 17 windows in the interval\\n'"
            ],
            "application/vnd.google.colaboratory.intrinsic+json": {
              "type": "string"
            }
          },
          "metadata": {},
          "execution_count": 24
        }
      ]
    },
    {
      "cell_type": "code",
      "metadata": {
        "id": "938Ep6yaT128",
        "colab": {
          "base_uri": "https://localhost:8080/"
        },
        "outputId": "eb8e751e-c6a4-4830-c133-76f4bc16ff98"
      },
      "source": [
        "expected_height = config_signal_params[\"desired_signal_size_for_padding\"]/config_signal_params[\"hop_size\"] + 1 \n",
        "expected_width = config_signal_params[\"n_fft\"]/2 +1 # for accounting only the positive part\n",
        "total_nfeatures4model = expected_height*expected_width\n",
        "current_sampling_rate = 22050 \n",
        "total_samples_per_onset = (config_signal_params[\"seconds_window\"]*current_sampling_rate)*2 # goes 0.05 secdonds ahead and 0.05 seconds back\n",
        "\n",
        "\n",
        "# Little explanation I mad for myself about min_signal_size_for_padding\n",
        "\"\"\"\n",
        "2^x = total_samples_per_onset\n",
        "log2(2^x) = log2(total_samples_per_onset)\n",
        "x * log2(2) = log2(total_samples_per_onset)\n",
        "x = log2(total_samples_per_onset) # need to be a rounded integer so\n",
        "x ~ round(log2(total_samples_per_onset))\n",
        "so min_singal_size is 2**x \n",
        "\"\"\"\n",
        "min_signal_size_for_padding = int(2**(np.trunc(np.log2(total_samples_per_onset)+1)))\n",
        "\n",
        "warnings.warn(f\"\\n ====== Current samlping rate for calculus is {current_sampling_rate} if you change the dataset, you SHOULD change this as well \\n ======\")\n",
        "print(f\"Expected height: {expected_height} ; Expected width: {expected_width} ; Total featuers for the model:  {total_nfeatures4model}; Min signal size4padding: {min_signal_size_for_padding}\")"
      ],
      "execution_count": null,
      "outputs": [
        {
          "output_type": "stream",
          "name": "stdout",
          "text": [
            "Expected height: 17.0 ; Expected width: 513.0 ; Total featuers for the model:  8721.0; Min signal size4padding: 4096\n"
          ]
        },
        {
          "output_type": "stream",
          "name": "stderr",
          "text": [
            "/usr/local/lib/python3.7/dist-packages/ipykernel_launcher.py:19: UserWarning: \n",
            " ====== Current samlping rate for calculus is 22050 if you change the dataset, you SHOULD change this as well \n",
            " ======\n"
          ]
        }
      ]
    },
    {
      "cell_type": "code",
      "source": [
        "print(f\"[INFO] Config signal params are: {config_signal_params}\")"
      ],
      "metadata": {
        "colab": {
          "base_uri": "https://localhost:8080/"
        },
        "id": "f_sD7Geyu7v6",
        "outputId": "25acb3b6-84c4-4e67-e5b5-4e57cf38e98c"
      },
      "execution_count": null,
      "outputs": [
        {
          "output_type": "stream",
          "name": "stdout",
          "text": [
            "[INFO] Config signal params are: {'hop_size': 256, 'n_fft': 1024, 'desired_signal_size_for_padding': 4096, 'seconds_window': 0.05}\n"
          ]
        }
      ]
    },
    {
      "cell_type": "code",
      "metadata": {
        "id": "hekHERfO1Cn6"
      },
      "source": [
        "def retag_labels(label:str,target_label:str) -> str:\n",
        "  \"\"\"\n",
        "  Function that:\n",
        "    Retag labels to Other , if the label doesn't match with the target_label\n",
        "    For example if label = 'KD' then for all labels thata re not kd will be targetted as 'OTHER'\n",
        "  \n",
        "  Params:\n",
        "    label: str label like 'KD' or 'HH'\n",
        "    target_label: label that should not be changed to OTHER\n",
        "  Returns:\n",
        "    the name of the label if it is ieuqla to target_label; else will be 'OTHER'\n",
        "  \"\"\"\n",
        "  if label == target_label:\n",
        "    newlabel = target_label\n",
        "  else:\n",
        "    newlabel = 'OTHER'\n",
        "  return newlabel\n",
        "\n",
        "def onsetsidx2drop(annotation:pd.DataFrame,target_label:str,seconds_window:float) -> list:\n",
        "  \"\"\"\n",
        "  This function creates upperbound and lowerbounds if any onset falls between the bounds,\n",
        "  means our objecti veonset and a certain onset occurs at the same window and therefore\n",
        "  we must delete the nonobjective onset (to avoid overlapping of sounds).\n",
        "\n",
        "  Params:\n",
        "    annotation: annotations dataset\n",
        "    target_label: target_label in the dataset For example 'KD'\n",
        "    seconds_window: How much close two onsets need to be for thinking about\n",
        "                    dropping one of them.\n",
        "  Returns:\n",
        "    Indexes of the onsets we should drop, since they are overlapping with a sound.\n",
        "    Example: Let's say a HiHat occurs at second 0.113 and KickDrum at 0.115; \n",
        "            Then you take +- 0.005s and take the stft: the signal of the HiHat\n",
        "            will start at 0.108 and end at 0.118 ; the kcikdrum from 0.110 to 0.12\n",
        "            Both onsets will share a huge part, thefore for the model will\n",
        "            be confusing to say the first one is a HiHat and the second one\n",
        "            not (the signal is ALMOST the same); thus , we delete that.\n",
        "\n",
        "  \"\"\"\n",
        "  indexes2drop = []\n",
        "  nlabels = len(annotation)\n",
        "  for idx in range(nlabels):\n",
        "    curent_label = annotation['class'][idx]\n",
        "    if curent_label == target_label:\n",
        "      current_time = annotation['time'][idx]\n",
        "      uppercap,lowercap = current_time+seconds_window,current_time-seconds_window\n",
        "      cap_tuple = (lowercap,uppercap)\n",
        "      cap_tuple_interval = sympy.Interval(*cap_tuple)\n",
        "      # Now go to previous and next label if possible\n",
        "      prev_idx,next_idx = idx-1,idx+1\n",
        "      if prev_idx>=0:\n",
        "        prev_time = annotation['time'][prev_idx]\n",
        "        contains_onsetime = cap_tuple_interval.contains(prev_time)\n",
        "        if contains_onsetime:\n",
        "          indexes2drop.append(prev_idx)\n",
        "      if next_idx<nlabels:\n",
        "        next_time = annotation['time'][next_idx]\n",
        "        #perform here\n",
        "        contains_onsetime = cap_tuple_interval.contains(next_time)\n",
        "        if contains_onsetime:\n",
        "          indexes2drop.append(next_idx)\n",
        "  return indexes2drop\n",
        "\n",
        "def drop_close_obs(annotation:pd.DataFrame,target_label:str,seconds_window:float) ->pd.DataFrame:\n",
        "  \"\"\"\n",
        "  This function will drop labels that are close enough to our objective labels. IE: Say our target_label is kick drum , so if a kickdrum and a hihat occurs\n",
        "  at the same time , we will have training data for kickdrum and for hihat(rebaled as other) for the same signal ,that will confuse the model and this is why need to be dropped.\n",
        "  \n",
        "  target_label : \n",
        "  returns : newannotation dataset without the onsets close enough to our target_label's onsets\n",
        "  \"\"\"\n",
        "  #relabel data\n",
        "  newannotation = annotation.copy()\n",
        "  newannotation['class'] = [retag_labels(label,target_label) for label in newannotation['class']]\n",
        "  indexes2drop = onsetsidx2drop(newannotation,target_label,seconds_window)\n",
        "  newannotation = newannotation.loc[set(newannotation.index)-set(indexes2drop)].reset_index(drop=True)\n",
        "  return newannotation"
      ],
      "execution_count": null,
      "outputs": []
    },
    {
      "cell_type": "markdown",
      "metadata": {
        "id": "ikBdvQg7JDMe"
      },
      "source": [
        "Wit this, we'll be generating for each target level its respective onset with stft"
      ]
    },
    {
      "cell_type": "code",
      "source": [
        "# we will generate a dataset of stft , for each label\n",
        "target_labels_list = ['KD','SD','HH','TT','CY','OT']"
      ],
      "metadata": {
        "id": "l62uJtn5w6WV"
      },
      "execution_count": null,
      "outputs": []
    },
    {
      "cell_type": "code",
      "metadata": {
        "id": "Hj_MNmiouf1L"
      },
      "source": [
        "EXP_PIPE_DATA = os.path.join(MUSIC_DIR,\"pipe_example_multiplemodelsdata\")\n",
        "\n",
        "if not os.path.exists(EXP_PIPE_DATA):\n",
        "  os.mkdir(EXP_PIPE_DATA)\n",
        "\n",
        "log_file_path = os.path.join(EXP_PIPE_DATA,\"trained_models_info.log\")\n",
        "logging.basicConfig(filename=log_file_path, level=logging.INFO,\n",
        "format='%(asctime)s %(message)s', datefmt='%m/%d/%Y %I:%M:%S %p')\n",
        "logging.info(config_signal_params)\n",
        "\n",
        "EXP_PIPE_DATA_TRAIN = os.path.join(EXP_PIPE_DATA,\"train\")\n",
        "EXP_PIPE_DATA_TEST = os.path.join(EXP_PIPE_DATA,\"test\")\n",
        "\n",
        "#create folders if neccesary\n",
        "if not os.path.exists(EXP_PIPE_DATA_TRAIN):\n",
        "  os.mkdir(EXP_PIPE_DATA_TRAIN)\n",
        "  \n",
        "if not os.path.exists(EXP_PIPE_DATA_TEST):\n",
        "  os.mkdir(EXP_PIPE_DATA_TEST)\n",
        "\n",
        "def run_fullpipeline(dataset_type:str) -> None:\n",
        "  \"\"\"\n",
        "  Run the whole pipeline of preprocessing\n",
        "  Params:\n",
        "    dataset_type: \"train\" if you wanna do it for all train files ;\n",
        "                      \"test\" if yo uwanna do it for all test files\n",
        "  Returns:\n",
        "    Nothing\n",
        "    This saves in output dirs: EXP_PIPE_DATA_TRAIN IN CASE dataset_type train\n",
        "                              EXP_PIPE_DATA_TEST in case dataset_type test \n",
        "  \"\"\"\n",
        "  npaths = len(annotations_traintest_allpaths)\n",
        "  for filepath_idx in range(npaths):\n",
        "    filepath_txt = annotations_traintest_allpaths[filepath_idx]\n",
        "    if dataset_type in filepath_txt:\n",
        "        for target_label in target_labels_list: # for each instrument\n",
        "          print(f\"[INFO] Generating data for the label {target_label} and with these filepath {filepath_txt}\")\n",
        "          annotation = annotation_file2df(filepath_txt)\n",
        "          # drop overlapping labels and transform to OBJECTIVE LABEL VS OTHER DATA\n",
        "          annotation = drop_close_obs(annotation = annotation,\n",
        "                                      target_label = target_label,\n",
        "                                      seconds_window = config_signal_params[\"seconds_window\"]\n",
        "                                      )\n",
        "          wav_path = search_correspondingpath_given_annotation(filepath_txt)\n",
        "          signal, sampling_rate = librosa.load(wav_path)\n",
        "          \n",
        "          # sampling time means the index of when the onset occurs\n",
        "          annotation[\"sampling_time\"] = annotation[\"time\"].astype(\"float64\")*sampling_rate # when the sample occurs\n",
        "          annotation[\"sampling_time\"] = annotation[\"sampling_time\"].astype(\"int64\")\n",
        "          # to do the +-1 zero\n",
        "          songs_stfts,labels = song2taggedbars(annotation,\n",
        "                                              signal,\n",
        "                                              sampling_rate,\n",
        "                                              secondswindow=config_signal_params[\"seconds_window\"],\n",
        "                                              desired_signal_size=config_signal_params[\"desired_signal_size_for_padding\"],\n",
        "                                              stride=config_signal_params[\"hop_size\"],\n",
        "                                              window_size = config_signal_params[\"n_fft\"],\n",
        "                                              verbose=0\n",
        "                                            )\n",
        "          print(\"[INFO] Song Signal length:\",len(signal),\"; Sampling rate:\",sampling_rate, \"; Sound shape:\",songs_stfts[0].shape)\n",
        "          #configure paths to save it with the proper names\n",
        "          outfile_npy_path = os.path.basename(filepath_txt).replace(\".txt\",f\"__{target_label}.npy\")\n",
        "          outfile_txt_path = os.path.basename(filepath_txt).replace(\".txt\",f\"__{target_label}.txt\")\n",
        "          outfile_npy_path = os.path.join(eval(\"EXP_PIPE_DATA_\"+dataset_type.upper() ), outfile_npy_path)\n",
        "          outfile_txt_path = os.path.join(eval(\"EXP_PIPE_DATA_\"+dataset_type.upper() ), outfile_txt_path)\n",
        "\n",
        "          # save files\n",
        "          with open(outfile_npy_path,\"wb\") as f:\n",
        "            np.save(f,songs_stfts)\n",
        "          with open(outfile_txt_path,\"w\") as f:\n",
        "            labels_joined = \"\\n\".join(labels)\n",
        "            f.write(labels_joined)\n"
      ],
      "execution_count": null,
      "outputs": []
    },
    {
      "cell_type": "markdown",
      "source": [
        "Run the whole pipeline for the train dataset and the test datastet respectivey"
      ],
      "metadata": {
        "id": "x1Zb9l_72W4h"
      }
    },
    {
      "cell_type": "code",
      "source": [
        "run_fullpipeline(dataset_type = \"train\")"
      ],
      "metadata": {
        "colab": {
          "base_uri": "https://localhost:8080/"
        },
        "id": "wS4wNWDd2cSq",
        "outputId": "aa4d427f-315e-4e52-8859-d08d6ab218eb"
      },
      "execution_count": null,
      "outputs": [
        {
          "output_type": "stream",
          "name": "stdout",
          "text": [
            "[INFO] Generating data for the label KD and with these filepath /content/drive/My Drive/Maestria DM y KDD/Especializacion tesis/MDBDrums/MDB Drums/annotations/class/train/MusicDelta_Disco_class.txt\n",
            "[INFO] Song Signal length: 2751398 ; Sampling rate: 22050 ; Sound shape: (513, 17)\n",
            "[INFO] Generating data for the label SD and with these filepath /content/drive/My Drive/Maestria DM y KDD/Especializacion tesis/MDBDrums/MDB Drums/annotations/class/train/MusicDelta_Disco_class.txt\n",
            "[INFO] Song Signal length: 2751398 ; Sampling rate: 22050 ; Sound shape: (513, 17)\n",
            "[INFO] Generating data for the label HH and with these filepath /content/drive/My Drive/Maestria DM y KDD/Especializacion tesis/MDBDrums/MDB Drums/annotations/class/train/MusicDelta_Disco_class.txt\n",
            "[INFO] Song Signal length: 2751398 ; Sampling rate: 22050 ; Sound shape: (513, 17)\n",
            "[INFO] Generating data for the label TT and with these filepath /content/drive/My Drive/Maestria DM y KDD/Especializacion tesis/MDBDrums/MDB Drums/annotations/class/train/MusicDelta_Disco_class.txt\n",
            "[INFO] Song Signal length: 2751398 ; Sampling rate: 22050 ; Sound shape: (513, 17)\n",
            "[INFO] Generating data for the label CY and with these filepath /content/drive/My Drive/Maestria DM y KDD/Especializacion tesis/MDBDrums/MDB Drums/annotations/class/train/MusicDelta_Disco_class.txt\n",
            "[INFO] Song Signal length: 2751398 ; Sampling rate: 22050 ; Sound shape: (513, 17)\n",
            "[INFO] Generating data for the label OT and with these filepath /content/drive/My Drive/Maestria DM y KDD/Especializacion tesis/MDBDrums/MDB Drums/annotations/class/train/MusicDelta_Disco_class.txt\n",
            "[INFO] Song Signal length: 2751398 ; Sampling rate: 22050 ; Sound shape: (513, 17)\n",
            "[INFO] Generating data for the label KD and with these filepath /content/drive/My Drive/Maestria DM y KDD/Especializacion tesis/MDBDrums/MDB Drums/annotations/class/train/MusicDelta_Britpop_class.txt\n",
            "[INFO] Song Signal length: 811195 ; Sampling rate: 22050 ; Sound shape: (513, 17)\n",
            "[INFO] Generating data for the label SD and with these filepath /content/drive/My Drive/Maestria DM y KDD/Especializacion tesis/MDBDrums/MDB Drums/annotations/class/train/MusicDelta_Britpop_class.txt\n",
            "[INFO] Song Signal length: 811195 ; Sampling rate: 22050 ; Sound shape: (513, 17)\n",
            "[INFO] Generating data for the label HH and with these filepath /content/drive/My Drive/Maestria DM y KDD/Especializacion tesis/MDBDrums/MDB Drums/annotations/class/train/MusicDelta_Britpop_class.txt\n",
            "[INFO] Song Signal length: 811195 ; Sampling rate: 22050 ; Sound shape: (513, 17)\n",
            "[INFO] Generating data for the label TT and with these filepath /content/drive/My Drive/Maestria DM y KDD/Especializacion tesis/MDBDrums/MDB Drums/annotations/class/train/MusicDelta_Britpop_class.txt\n",
            "[INFO] Song Signal length: 811195 ; Sampling rate: 22050 ; Sound shape: (513, 17)\n",
            "[INFO] Generating data for the label CY and with these filepath /content/drive/My Drive/Maestria DM y KDD/Especializacion tesis/MDBDrums/MDB Drums/annotations/class/train/MusicDelta_Britpop_class.txt\n",
            "[INFO] Song Signal length: 811195 ; Sampling rate: 22050 ; Sound shape: (513, 17)\n",
            "[INFO] Generating data for the label OT and with these filepath /content/drive/My Drive/Maestria DM y KDD/Especializacion tesis/MDBDrums/MDB Drums/annotations/class/train/MusicDelta_Britpop_class.txt\n",
            "[INFO] Song Signal length: 811195 ; Sampling rate: 22050 ; Sound shape: (513, 17)\n",
            "[INFO] Generating data for the label KD and with these filepath /content/drive/My Drive/Maestria DM y KDD/Especializacion tesis/MDBDrums/MDB Drums/annotations/class/train/MusicDelta_Rock_class.txt\n",
            "[INFO] Song Signal length: 288660 ; Sampling rate: 22050 ; Sound shape: (513, 17)\n",
            "[INFO] Generating data for the label SD and with these filepath /content/drive/My Drive/Maestria DM y KDD/Especializacion tesis/MDBDrums/MDB Drums/annotations/class/train/MusicDelta_Rock_class.txt\n",
            "[INFO] Song Signal length: 288660 ; Sampling rate: 22050 ; Sound shape: (513, 17)\n",
            "[INFO] Generating data for the label HH and with these filepath /content/drive/My Drive/Maestria DM y KDD/Especializacion tesis/MDBDrums/MDB Drums/annotations/class/train/MusicDelta_Rock_class.txt\n",
            "[INFO] Song Signal length: 288660 ; Sampling rate: 22050 ; Sound shape: (513, 17)\n",
            "[INFO] Generating data for the label TT and with these filepath /content/drive/My Drive/Maestria DM y KDD/Especializacion tesis/MDBDrums/MDB Drums/annotations/class/train/MusicDelta_Rock_class.txt\n",
            "[INFO] Song Signal length: 288660 ; Sampling rate: 22050 ; Sound shape: (513, 17)\n",
            "[INFO] Generating data for the label CY and with these filepath /content/drive/My Drive/Maestria DM y KDD/Especializacion tesis/MDBDrums/MDB Drums/annotations/class/train/MusicDelta_Rock_class.txt\n",
            "[INFO] Song Signal length: 288660 ; Sampling rate: 22050 ; Sound shape: (513, 17)\n",
            "[INFO] Generating data for the label OT and with these filepath /content/drive/My Drive/Maestria DM y KDD/Especializacion tesis/MDBDrums/MDB Drums/annotations/class/train/MusicDelta_Rock_class.txt\n",
            "[INFO] Song Signal length: 288660 ; Sampling rate: 22050 ; Sound shape: (513, 17)\n",
            "[INFO] Generating data for the label KD and with these filepath /content/drive/My Drive/Maestria DM y KDD/Especializacion tesis/MDBDrums/MDB Drums/annotations/class/train/MusicDelta_BebopJazz_class.txt\n",
            "[INFO] Song Signal length: 2270248 ; Sampling rate: 22050 ; Sound shape: (513, 17)\n",
            "[INFO] Generating data for the label SD and with these filepath /content/drive/My Drive/Maestria DM y KDD/Especializacion tesis/MDBDrums/MDB Drums/annotations/class/train/MusicDelta_BebopJazz_class.txt\n",
            "[INFO] Song Signal length: 2270248 ; Sampling rate: 22050 ; Sound shape: (513, 17)\n",
            "[INFO] Generating data for the label HH and with these filepath /content/drive/My Drive/Maestria DM y KDD/Especializacion tesis/MDBDrums/MDB Drums/annotations/class/train/MusicDelta_BebopJazz_class.txt\n",
            "[INFO] Song Signal length: 2270248 ; Sampling rate: 22050 ; Sound shape: (513, 17)\n",
            "[INFO] Generating data for the label TT and with these filepath /content/drive/My Drive/Maestria DM y KDD/Especializacion tesis/MDBDrums/MDB Drums/annotations/class/train/MusicDelta_BebopJazz_class.txt\n",
            "[INFO] Song Signal length: 2270248 ; Sampling rate: 22050 ; Sound shape: (513, 17)\n",
            "[INFO] Generating data for the label CY and with these filepath /content/drive/My Drive/Maestria DM y KDD/Especializacion tesis/MDBDrums/MDB Drums/annotations/class/train/MusicDelta_BebopJazz_class.txt\n",
            "[INFO] Song Signal length: 2270248 ; Sampling rate: 22050 ; Sound shape: (513, 17)\n",
            "[INFO] Generating data for the label OT and with these filepath /content/drive/My Drive/Maestria DM y KDD/Especializacion tesis/MDBDrums/MDB Drums/annotations/class/train/MusicDelta_BebopJazz_class.txt\n",
            "[INFO] Song Signal length: 2270248 ; Sampling rate: 22050 ; Sound shape: (513, 17)\n",
            "[INFO] Generating data for the label KD and with these filepath /content/drive/My Drive/Maestria DM y KDD/Especializacion tesis/MDBDrums/MDB Drums/annotations/class/train/MusicDelta_Shadows_class.txt\n",
            "[INFO] Song Signal length: 738477 ; Sampling rate: 22050 ; Sound shape: (513, 17)\n",
            "[INFO] Generating data for the label SD and with these filepath /content/drive/My Drive/Maestria DM y KDD/Especializacion tesis/MDBDrums/MDB Drums/annotations/class/train/MusicDelta_Shadows_class.txt\n",
            "[INFO] Song Signal length: 738477 ; Sampling rate: 22050 ; Sound shape: (513, 17)\n",
            "[INFO] Generating data for the label HH and with these filepath /content/drive/My Drive/Maestria DM y KDD/Especializacion tesis/MDBDrums/MDB Drums/annotations/class/train/MusicDelta_Shadows_class.txt\n",
            "[INFO] Song Signal length: 738477 ; Sampling rate: 22050 ; Sound shape: (513, 17)\n",
            "[INFO] Generating data for the label TT and with these filepath /content/drive/My Drive/Maestria DM y KDD/Especializacion tesis/MDBDrums/MDB Drums/annotations/class/train/MusicDelta_Shadows_class.txt\n",
            "[INFO] Song Signal length: 738477 ; Sampling rate: 22050 ; Sound shape: (513, 17)\n",
            "[INFO] Generating data for the label CY and with these filepath /content/drive/My Drive/Maestria DM y KDD/Especializacion tesis/MDBDrums/MDB Drums/annotations/class/train/MusicDelta_Shadows_class.txt\n",
            "[INFO] Song Signal length: 738477 ; Sampling rate: 22050 ; Sound shape: (513, 17)\n",
            "[INFO] Generating data for the label OT and with these filepath /content/drive/My Drive/Maestria DM y KDD/Especializacion tesis/MDBDrums/MDB Drums/annotations/class/train/MusicDelta_Shadows_class.txt\n",
            "[INFO] Song Signal length: 738477 ; Sampling rate: 22050 ; Sound shape: (513, 17)\n",
            "[INFO] Generating data for the label KD and with these filepath /content/drive/My Drive/Maestria DM y KDD/Especializacion tesis/MDBDrums/MDB Drums/annotations/class/train/MusicDelta_Reggae_class.txt\n",
            "[INFO] Song Signal length: 385052 ; Sampling rate: 22050 ; Sound shape: (513, 17)\n",
            "[INFO] Generating data for the label SD and with these filepath /content/drive/My Drive/Maestria DM y KDD/Especializacion tesis/MDBDrums/MDB Drums/annotations/class/train/MusicDelta_Reggae_class.txt\n",
            "[INFO] Song Signal length: 385052 ; Sampling rate: 22050 ; Sound shape: (513, 17)\n",
            "[INFO] Generating data for the label HH and with these filepath /content/drive/My Drive/Maestria DM y KDD/Especializacion tesis/MDBDrums/MDB Drums/annotations/class/train/MusicDelta_Reggae_class.txt\n",
            "[INFO] Song Signal length: 385052 ; Sampling rate: 22050 ; Sound shape: (513, 17)\n",
            "[INFO] Generating data for the label TT and with these filepath /content/drive/My Drive/Maestria DM y KDD/Especializacion tesis/MDBDrums/MDB Drums/annotations/class/train/MusicDelta_Reggae_class.txt\n",
            "[INFO] Song Signal length: 385052 ; Sampling rate: 22050 ; Sound shape: (513, 17)\n",
            "[INFO] Generating data for the label CY and with these filepath /content/drive/My Drive/Maestria DM y KDD/Especializacion tesis/MDBDrums/MDB Drums/annotations/class/train/MusicDelta_Reggae_class.txt\n",
            "[INFO] Song Signal length: 385052 ; Sampling rate: 22050 ; Sound shape: (513, 17)\n",
            "[INFO] Generating data for the label OT and with these filepath /content/drive/My Drive/Maestria DM y KDD/Especializacion tesis/MDBDrums/MDB Drums/annotations/class/train/MusicDelta_Reggae_class.txt\n",
            "[INFO] Song Signal length: 385052 ; Sampling rate: 22050 ; Sound shape: (513, 17)\n",
            "[INFO] Generating data for the label KD and with these filepath /content/drive/My Drive/Maestria DM y KDD/Especializacion tesis/MDBDrums/MDB Drums/annotations/class/train/MusicDelta_CoolJazz_class.txt\n",
            "[INFO] Song Signal length: 2239453 ; Sampling rate: 22050 ; Sound shape: (513, 17)\n",
            "[INFO] Generating data for the label SD and with these filepath /content/drive/My Drive/Maestria DM y KDD/Especializacion tesis/MDBDrums/MDB Drums/annotations/class/train/MusicDelta_CoolJazz_class.txt\n",
            "[INFO] Song Signal length: 2239453 ; Sampling rate: 22050 ; Sound shape: (513, 17)\n",
            "[INFO] Generating data for the label HH and with these filepath /content/drive/My Drive/Maestria DM y KDD/Especializacion tesis/MDBDrums/MDB Drums/annotations/class/train/MusicDelta_CoolJazz_class.txt\n",
            "[INFO] Song Signal length: 2239453 ; Sampling rate: 22050 ; Sound shape: (513, 17)\n",
            "[INFO] Generating data for the label TT and with these filepath /content/drive/My Drive/Maestria DM y KDD/Especializacion tesis/MDBDrums/MDB Drums/annotations/class/train/MusicDelta_CoolJazz_class.txt\n",
            "[INFO] Song Signal length: 2239453 ; Sampling rate: 22050 ; Sound shape: (513, 17)\n",
            "[INFO] Generating data for the label CY and with these filepath /content/drive/My Drive/Maestria DM y KDD/Especializacion tesis/MDBDrums/MDB Drums/annotations/class/train/MusicDelta_CoolJazz_class.txt\n",
            "[INFO] Song Signal length: 2239453 ; Sampling rate: 22050 ; Sound shape: (513, 17)\n",
            "[INFO] Generating data for the label OT and with these filepath /content/drive/My Drive/Maestria DM y KDD/Especializacion tesis/MDBDrums/MDB Drums/annotations/class/train/MusicDelta_CoolJazz_class.txt\n",
            "[INFO] Song Signal length: 2239453 ; Sampling rate: 22050 ; Sound shape: (513, 17)\n",
            "[INFO] Generating data for the label KD and with these filepath /content/drive/My Drive/Maestria DM y KDD/Especializacion tesis/MDBDrums/MDB Drums/annotations/class/train/MusicDelta_Rockabilly_class.txt\n",
            "[INFO] Song Signal length: 572179 ; Sampling rate: 22050 ; Sound shape: (513, 17)\n",
            "[INFO] Generating data for the label SD and with these filepath /content/drive/My Drive/Maestria DM y KDD/Especializacion tesis/MDBDrums/MDB Drums/annotations/class/train/MusicDelta_Rockabilly_class.txt\n",
            "[INFO] Song Signal length: 572179 ; Sampling rate: 22050 ; Sound shape: (513, 17)\n",
            "[INFO] Generating data for the label HH and with these filepath /content/drive/My Drive/Maestria DM y KDD/Especializacion tesis/MDBDrums/MDB Drums/annotations/class/train/MusicDelta_Rockabilly_class.txt\n",
            "[INFO] Song Signal length: 572179 ; Sampling rate: 22050 ; Sound shape: (513, 17)\n",
            "[INFO] Generating data for the label TT and with these filepath /content/drive/My Drive/Maestria DM y KDD/Especializacion tesis/MDBDrums/MDB Drums/annotations/class/train/MusicDelta_Rockabilly_class.txt\n",
            "[INFO] Song Signal length: 572179 ; Sampling rate: 22050 ; Sound shape: (513, 17)\n",
            "[INFO] Generating data for the label CY and with these filepath /content/drive/My Drive/Maestria DM y KDD/Especializacion tesis/MDBDrums/MDB Drums/annotations/class/train/MusicDelta_Rockabilly_class.txt\n",
            "[INFO] Song Signal length: 572179 ; Sampling rate: 22050 ; Sound shape: (513, 17)\n",
            "[INFO] Generating data for the label OT and with these filepath /content/drive/My Drive/Maestria DM y KDD/Especializacion tesis/MDBDrums/MDB Drums/annotations/class/train/MusicDelta_Rockabilly_class.txt\n",
            "[INFO] Song Signal length: 572179 ; Sampling rate: 22050 ; Sound shape: (513, 17)\n",
            "[INFO] Generating data for the label KD and with these filepath /content/drive/My Drive/Maestria DM y KDD/Especializacion tesis/MDBDrums/MDB Drums/annotations/class/train/MusicDelta_FunkJazz_class.txt\n",
            "[INFO] Song Signal length: 1088969 ; Sampling rate: 22050 ; Sound shape: (513, 17)\n",
            "[INFO] Generating data for the label SD and with these filepath /content/drive/My Drive/Maestria DM y KDD/Especializacion tesis/MDBDrums/MDB Drums/annotations/class/train/MusicDelta_FunkJazz_class.txt\n",
            "[INFO] Song Signal length: 1088969 ; Sampling rate: 22050 ; Sound shape: (513, 17)\n",
            "[INFO] Generating data for the label HH and with these filepath /content/drive/My Drive/Maestria DM y KDD/Especializacion tesis/MDBDrums/MDB Drums/annotations/class/train/MusicDelta_FunkJazz_class.txt\n",
            "[INFO] Song Signal length: 1088969 ; Sampling rate: 22050 ; Sound shape: (513, 17)\n",
            "[INFO] Generating data for the label TT and with these filepath /content/drive/My Drive/Maestria DM y KDD/Especializacion tesis/MDBDrums/MDB Drums/annotations/class/train/MusicDelta_FunkJazz_class.txt\n",
            "[INFO] Song Signal length: 1088969 ; Sampling rate: 22050 ; Sound shape: (513, 17)\n",
            "[INFO] Generating data for the label CY and with these filepath /content/drive/My Drive/Maestria DM y KDD/Especializacion tesis/MDBDrums/MDB Drums/annotations/class/train/MusicDelta_FunkJazz_class.txt\n",
            "[INFO] Song Signal length: 1088969 ; Sampling rate: 22050 ; Sound shape: (513, 17)\n",
            "[INFO] Generating data for the label OT and with these filepath /content/drive/My Drive/Maestria DM y KDD/Especializacion tesis/MDBDrums/MDB Drums/annotations/class/train/MusicDelta_FunkJazz_class.txt\n",
            "[INFO] Song Signal length: 1088969 ; Sampling rate: 22050 ; Sound shape: (513, 17)\n",
            "[INFO] Generating data for the label KD and with these filepath /content/drive/My Drive/Maestria DM y KDD/Especializacion tesis/MDBDrums/MDB Drums/annotations/class/train/MusicDelta_FusionJazz_class.txt\n",
            "[INFO] Song Signal length: 2447233 ; Sampling rate: 22050 ; Sound shape: (513, 17)\n",
            "[INFO] Generating data for the label SD and with these filepath /content/drive/My Drive/Maestria DM y KDD/Especializacion tesis/MDBDrums/MDB Drums/annotations/class/train/MusicDelta_FusionJazz_class.txt\n",
            "[INFO] Song Signal length: 2447233 ; Sampling rate: 22050 ; Sound shape: (513, 17)\n",
            "[INFO] Generating data for the label HH and with these filepath /content/drive/My Drive/Maestria DM y KDD/Especializacion tesis/MDBDrums/MDB Drums/annotations/class/train/MusicDelta_FusionJazz_class.txt\n",
            "[INFO] Song Signal length: 2447233 ; Sampling rate: 22050 ; Sound shape: (513, 17)\n",
            "[INFO] Generating data for the label TT and with these filepath /content/drive/My Drive/Maestria DM y KDD/Especializacion tesis/MDBDrums/MDB Drums/annotations/class/train/MusicDelta_FusionJazz_class.txt\n",
            "[INFO] Song Signal length: 2447233 ; Sampling rate: 22050 ; Sound shape: (513, 17)\n",
            "[INFO] Generating data for the label CY and with these filepath /content/drive/My Drive/Maestria DM y KDD/Especializacion tesis/MDBDrums/MDB Drums/annotations/class/train/MusicDelta_FusionJazz_class.txt\n",
            "[INFO] Song Signal length: 2447233 ; Sampling rate: 22050 ; Sound shape: (513, 17)\n",
            "[INFO] Generating data for the label OT and with these filepath /content/drive/My Drive/Maestria DM y KDD/Especializacion tesis/MDBDrums/MDB Drums/annotations/class/train/MusicDelta_FusionJazz_class.txt\n",
            "[INFO] Song Signal length: 2447233 ; Sampling rate: 22050 ; Sound shape: (513, 17)\n",
            "[INFO] Generating data for the label KD and with these filepath /content/drive/My Drive/Maestria DM y KDD/Especializacion tesis/MDBDrums/MDB Drums/annotations/class/train/MusicDelta_80sRock_class.txt\n",
            "[INFO] Song Signal length: 814080 ; Sampling rate: 22050 ; Sound shape: (513, 17)\n",
            "[INFO] Generating data for the label SD and with these filepath /content/drive/My Drive/Maestria DM y KDD/Especializacion tesis/MDBDrums/MDB Drums/annotations/class/train/MusicDelta_80sRock_class.txt\n",
            "[INFO] Song Signal length: 814080 ; Sampling rate: 22050 ; Sound shape: (513, 17)\n",
            "[INFO] Generating data for the label HH and with these filepath /content/drive/My Drive/Maestria DM y KDD/Especializacion tesis/MDBDrums/MDB Drums/annotations/class/train/MusicDelta_80sRock_class.txt\n",
            "[INFO] Song Signal length: 814080 ; Sampling rate: 22050 ; Sound shape: (513, 17)\n",
            "[INFO] Generating data for the label TT and with these filepath /content/drive/My Drive/Maestria DM y KDD/Especializacion tesis/MDBDrums/MDB Drums/annotations/class/train/MusicDelta_80sRock_class.txt\n",
            "[INFO] Song Signal length: 814080 ; Sampling rate: 22050 ; Sound shape: (513, 17)\n",
            "[INFO] Generating data for the label CY and with these filepath /content/drive/My Drive/Maestria DM y KDD/Especializacion tesis/MDBDrums/MDB Drums/annotations/class/train/MusicDelta_80sRock_class.txt\n",
            "[INFO] Song Signal length: 814080 ; Sampling rate: 22050 ; Sound shape: (513, 17)\n",
            "[INFO] Generating data for the label OT and with these filepath /content/drive/My Drive/Maestria DM y KDD/Especializacion tesis/MDBDrums/MDB Drums/annotations/class/train/MusicDelta_80sRock_class.txt\n",
            "[INFO] Song Signal length: 814080 ; Sampling rate: 22050 ; Sound shape: (513, 17)\n"
          ]
        }
      ]
    },
    {
      "cell_type": "code",
      "source": [
        "run_fullpipeline(dataset_type = \"test\")"
      ],
      "metadata": {
        "colab": {
          "base_uri": "https://localhost:8080/"
        },
        "id": "__fwFgtxw97q",
        "outputId": "717d597a-0899-4285-9457-9fc5172e94c1"
      },
      "execution_count": null,
      "outputs": [
        {
          "output_type": "stream",
          "name": "stdout",
          "text": [
            "[INFO] Generating data for the label KD and with these filepath /content/drive/My Drive/Maestria DM y KDD/Especializacion tesis/MDBDrums/MDB Drums/annotations/class/test/MusicDelta_Hendrix_class.txt\n",
            "[INFO] Song Signal length: 437559 ; Sampling rate: 22050 ; Sound shape: (513, 17)\n",
            "[INFO] Generating data for the label SD and with these filepath /content/drive/My Drive/Maestria DM y KDD/Especializacion tesis/MDBDrums/MDB Drums/annotations/class/test/MusicDelta_Hendrix_class.txt\n",
            "[INFO] Song Signal length: 437559 ; Sampling rate: 22050 ; Sound shape: (513, 17)\n",
            "[INFO] Generating data for the label HH and with these filepath /content/drive/My Drive/Maestria DM y KDD/Especializacion tesis/MDBDrums/MDB Drums/annotations/class/test/MusicDelta_Hendrix_class.txt\n",
            "[INFO] Song Signal length: 437559 ; Sampling rate: 22050 ; Sound shape: (513, 17)\n",
            "[INFO] Generating data for the label TT and with these filepath /content/drive/My Drive/Maestria DM y KDD/Especializacion tesis/MDBDrums/MDB Drums/annotations/class/test/MusicDelta_Hendrix_class.txt\n",
            "[INFO] Song Signal length: 437559 ; Sampling rate: 22050 ; Sound shape: (513, 17)\n",
            "[INFO] Generating data for the label CY and with these filepath /content/drive/My Drive/Maestria DM y KDD/Especializacion tesis/MDBDrums/MDB Drums/annotations/class/test/MusicDelta_Hendrix_class.txt\n",
            "[INFO] Song Signal length: 437559 ; Sampling rate: 22050 ; Sound shape: (513, 17)\n",
            "[INFO] Generating data for the label OT and with these filepath /content/drive/My Drive/Maestria DM y KDD/Especializacion tesis/MDBDrums/MDB Drums/annotations/class/test/MusicDelta_Hendrix_class.txt\n",
            "[INFO] Song Signal length: 437559 ; Sampling rate: 22050 ; Sound shape: (513, 17)\n",
            "[INFO] Generating data for the label KD and with these filepath /content/drive/My Drive/Maestria DM y KDD/Especializacion tesis/MDBDrums/MDB Drums/annotations/class/test/MusicDelta_SwingJazz_class.txt\n",
            "[INFO] Song Signal length: 1973760 ; Sampling rate: 22050 ; Sound shape: (513, 17)\n",
            "[INFO] Generating data for the label SD and with these filepath /content/drive/My Drive/Maestria DM y KDD/Especializacion tesis/MDBDrums/MDB Drums/annotations/class/test/MusicDelta_SwingJazz_class.txt\n",
            "[INFO] Song Signal length: 1973760 ; Sampling rate: 22050 ; Sound shape: (513, 17)\n",
            "[INFO] Generating data for the label HH and with these filepath /content/drive/My Drive/Maestria DM y KDD/Especializacion tesis/MDBDrums/MDB Drums/annotations/class/test/MusicDelta_SwingJazz_class.txt\n",
            "[INFO] Song Signal length: 1973760 ; Sampling rate: 22050 ; Sound shape: (513, 17)\n",
            "[INFO] Generating data for the label TT and with these filepath /content/drive/My Drive/Maestria DM y KDD/Especializacion tesis/MDBDrums/MDB Drums/annotations/class/test/MusicDelta_SwingJazz_class.txt\n",
            "[INFO] Song Signal length: 1973760 ; Sampling rate: 22050 ; Sound shape: (513, 17)\n",
            "[INFO] Generating data for the label CY and with these filepath /content/drive/My Drive/Maestria DM y KDD/Especializacion tesis/MDBDrums/MDB Drums/annotations/class/test/MusicDelta_SwingJazz_class.txt\n",
            "[INFO] Song Signal length: 1973760 ; Sampling rate: 22050 ; Sound shape: (513, 17)\n",
            "[INFO] Generating data for the label OT and with these filepath /content/drive/My Drive/Maestria DM y KDD/Especializacion tesis/MDBDrums/MDB Drums/annotations/class/test/MusicDelta_SwingJazz_class.txt\n",
            "[INFO] Song Signal length: 1973760 ; Sampling rate: 22050 ; Sound shape: (513, 17)\n",
            "[INFO] Generating data for the label KD and with these filepath /content/drive/My Drive/Maestria DM y KDD/Especializacion tesis/MDBDrums/MDB Drums/annotations/class/test/MusicDelta_FreeJazz_class.txt\n",
            "[INFO] Song Signal length: 2300303 ; Sampling rate: 22050 ; Sound shape: (513, 17)\n",
            "[INFO] Generating data for the label SD and with these filepath /content/drive/My Drive/Maestria DM y KDD/Especializacion tesis/MDBDrums/MDB Drums/annotations/class/test/MusicDelta_FreeJazz_class.txt\n",
            "[INFO] Song Signal length: 2300303 ; Sampling rate: 22050 ; Sound shape: (513, 17)\n",
            "[INFO] Generating data for the label HH and with these filepath /content/drive/My Drive/Maestria DM y KDD/Especializacion tesis/MDBDrums/MDB Drums/annotations/class/test/MusicDelta_FreeJazz_class.txt\n",
            "[INFO] Song Signal length: 2300303 ; Sampling rate: 22050 ; Sound shape: (513, 17)\n",
            "[INFO] Generating data for the label TT and with these filepath /content/drive/My Drive/Maestria DM y KDD/Especializacion tesis/MDBDrums/MDB Drums/annotations/class/test/MusicDelta_FreeJazz_class.txt\n",
            "[INFO] Song Signal length: 2300303 ; Sampling rate: 22050 ; Sound shape: (513, 17)\n",
            "[INFO] Generating data for the label CY and with these filepath /content/drive/My Drive/Maestria DM y KDD/Especializacion tesis/MDBDrums/MDB Drums/annotations/class/test/MusicDelta_FreeJazz_class.txt\n",
            "[INFO] Song Signal length: 2300303 ; Sampling rate: 22050 ; Sound shape: (513, 17)\n",
            "[INFO] Generating data for the label OT and with these filepath /content/drive/My Drive/Maestria DM y KDD/Especializacion tesis/MDBDrums/MDB Drums/annotations/class/test/MusicDelta_FreeJazz_class.txt\n",
            "[INFO] Song Signal length: 2300303 ; Sampling rate: 22050 ; Sound shape: (513, 17)\n",
            "[INFO] Generating data for the label KD and with these filepath /content/drive/My Drive/Maestria DM y KDD/Especializacion tesis/MDBDrums/MDB Drums/annotations/class/test/MusicDelta_Beatles_class.txt\n",
            "[INFO] Song Signal length: 802036 ; Sampling rate: 22050 ; Sound shape: (513, 17)\n",
            "[INFO] Generating data for the label SD and with these filepath /content/drive/My Drive/Maestria DM y KDD/Especializacion tesis/MDBDrums/MDB Drums/annotations/class/test/MusicDelta_Beatles_class.txt\n",
            "[INFO] Song Signal length: 802036 ; Sampling rate: 22050 ; Sound shape: (513, 17)\n",
            "[INFO] Generating data for the label HH and with these filepath /content/drive/My Drive/Maestria DM y KDD/Especializacion tesis/MDBDrums/MDB Drums/annotations/class/test/MusicDelta_Beatles_class.txt\n",
            "[INFO] Song Signal length: 802036 ; Sampling rate: 22050 ; Sound shape: (513, 17)\n",
            "[INFO] Generating data for the label TT and with these filepath /content/drive/My Drive/Maestria DM y KDD/Especializacion tesis/MDBDrums/MDB Drums/annotations/class/test/MusicDelta_Beatles_class.txt\n",
            "[INFO] Song Signal length: 802036 ; Sampling rate: 22050 ; Sound shape: (513, 17)\n",
            "[INFO] Generating data for the label CY and with these filepath /content/drive/My Drive/Maestria DM y KDD/Especializacion tesis/MDBDrums/MDB Drums/annotations/class/test/MusicDelta_Beatles_class.txt\n",
            "[INFO] Song Signal length: 802036 ; Sampling rate: 22050 ; Sound shape: (513, 17)\n",
            "[INFO] Generating data for the label OT and with these filepath /content/drive/My Drive/Maestria DM y KDD/Especializacion tesis/MDBDrums/MDB Drums/annotations/class/test/MusicDelta_Beatles_class.txt\n",
            "[INFO] Song Signal length: 802036 ; Sampling rate: 22050 ; Sound shape: (513, 17)\n",
            "[INFO] Generating data for the label KD and with these filepath /content/drive/My Drive/Maestria DM y KDD/Especializacion tesis/MDBDrums/MDB Drums/annotations/class/test/MusicDelta_Country1_class.txt\n",
            "[INFO] Song Signal length: 766080 ; Sampling rate: 22050 ; Sound shape: (513, 17)\n",
            "[INFO] Generating data for the label SD and with these filepath /content/drive/My Drive/Maestria DM y KDD/Especializacion tesis/MDBDrums/MDB Drums/annotations/class/test/MusicDelta_Country1_class.txt\n",
            "[INFO] Song Signal length: 766080 ; Sampling rate: 22050 ; Sound shape: (513, 17)\n",
            "[INFO] Generating data for the label HH and with these filepath /content/drive/My Drive/Maestria DM y KDD/Especializacion tesis/MDBDrums/MDB Drums/annotations/class/test/MusicDelta_Country1_class.txt\n",
            "[INFO] Song Signal length: 766080 ; Sampling rate: 22050 ; Sound shape: (513, 17)\n",
            "[INFO] Generating data for the label TT and with these filepath /content/drive/My Drive/Maestria DM y KDD/Especializacion tesis/MDBDrums/MDB Drums/annotations/class/test/MusicDelta_Country1_class.txt\n",
            "[INFO] Song Signal length: 766080 ; Sampling rate: 22050 ; Sound shape: (513, 17)\n",
            "[INFO] Generating data for the label CY and with these filepath /content/drive/My Drive/Maestria DM y KDD/Especializacion tesis/MDBDrums/MDB Drums/annotations/class/test/MusicDelta_Country1_class.txt\n",
            "[INFO] Song Signal length: 766080 ; Sampling rate: 22050 ; Sound shape: (513, 17)\n",
            "[INFO] Generating data for the label OT and with these filepath /content/drive/My Drive/Maestria DM y KDD/Especializacion tesis/MDBDrums/MDB Drums/annotations/class/test/MusicDelta_Country1_class.txt\n",
            "[INFO] Song Signal length: 766080 ; Sampling rate: 22050 ; Sound shape: (513, 17)\n",
            "[INFO] Generating data for the label KD and with these filepath /content/drive/My Drive/Maestria DM y KDD/Especializacion tesis/MDBDrums/MDB Drums/annotations/class/test/MusicDelta_SpeedMetal_class.txt\n",
            "[INFO] Song Signal length: 793984 ; Sampling rate: 22050 ; Sound shape: (513, 17)\n",
            "[INFO] Generating data for the label SD and with these filepath /content/drive/My Drive/Maestria DM y KDD/Especializacion tesis/MDBDrums/MDB Drums/annotations/class/test/MusicDelta_SpeedMetal_class.txt\n",
            "[INFO] Song Signal length: 793984 ; Sampling rate: 22050 ; Sound shape: (513, 17)\n",
            "[INFO] Generating data for the label HH and with these filepath /content/drive/My Drive/Maestria DM y KDD/Especializacion tesis/MDBDrums/MDB Drums/annotations/class/test/MusicDelta_SpeedMetal_class.txt\n",
            "[INFO] Song Signal length: 793984 ; Sampling rate: 22050 ; Sound shape: (513, 17)\n",
            "[INFO] Generating data for the label TT and with these filepath /content/drive/My Drive/Maestria DM y KDD/Especializacion tesis/MDBDrums/MDB Drums/annotations/class/test/MusicDelta_SpeedMetal_class.txt\n",
            "[INFO] Song Signal length: 793984 ; Sampling rate: 22050 ; Sound shape: (513, 17)\n",
            "[INFO] Generating data for the label CY and with these filepath /content/drive/My Drive/Maestria DM y KDD/Especializacion tesis/MDBDrums/MDB Drums/annotations/class/test/MusicDelta_SpeedMetal_class.txt\n",
            "[INFO] Song Signal length: 793984 ; Sampling rate: 22050 ; Sound shape: (513, 17)\n",
            "[INFO] Generating data for the label OT and with these filepath /content/drive/My Drive/Maestria DM y KDD/Especializacion tesis/MDBDrums/MDB Drums/annotations/class/test/MusicDelta_SpeedMetal_class.txt\n",
            "[INFO] Song Signal length: 793984 ; Sampling rate: 22050 ; Sound shape: (513, 17)\n",
            "[INFO] Generating data for the label KD and with these filepath /content/drive/My Drive/Maestria DM y KDD/Especializacion tesis/MDBDrums/MDB Drums/annotations/class/test/MusicDelta_Punk_class.txt\n",
            "[INFO] Song Signal length: 634214 ; Sampling rate: 22050 ; Sound shape: (513, 17)\n",
            "[INFO] Generating data for the label SD and with these filepath /content/drive/My Drive/Maestria DM y KDD/Especializacion tesis/MDBDrums/MDB Drums/annotations/class/test/MusicDelta_Punk_class.txt\n",
            "[INFO] Song Signal length: 634214 ; Sampling rate: 22050 ; Sound shape: (513, 17)\n",
            "[INFO] Generating data for the label HH and with these filepath /content/drive/My Drive/Maestria DM y KDD/Especializacion tesis/MDBDrums/MDB Drums/annotations/class/test/MusicDelta_Punk_class.txt\n",
            "[INFO] Song Signal length: 634214 ; Sampling rate: 22050 ; Sound shape: (513, 17)\n",
            "[INFO] Generating data for the label TT and with these filepath /content/drive/My Drive/Maestria DM y KDD/Especializacion tesis/MDBDrums/MDB Drums/annotations/class/test/MusicDelta_Punk_class.txt\n",
            "[INFO] Song Signal length: 634214 ; Sampling rate: 22050 ; Sound shape: (513, 17)\n",
            "[INFO] Generating data for the label CY and with these filepath /content/drive/My Drive/Maestria DM y KDD/Especializacion tesis/MDBDrums/MDB Drums/annotations/class/test/MusicDelta_Punk_class.txt\n",
            "[INFO] Song Signal length: 634214 ; Sampling rate: 22050 ; Sound shape: (513, 17)\n",
            "[INFO] Generating data for the label OT and with these filepath /content/drive/My Drive/Maestria DM y KDD/Especializacion tesis/MDBDrums/MDB Drums/annotations/class/test/MusicDelta_Punk_class.txt\n",
            "[INFO] Song Signal length: 634214 ; Sampling rate: 22050 ; Sound shape: (513, 17)\n",
            "[INFO] Generating data for the label KD and with these filepath /content/drive/My Drive/Maestria DM y KDD/Especializacion tesis/MDBDrums/MDB Drums/annotations/class/test/MusicDelta_ModalJazz_class.txt\n",
            "[INFO] Song Signal length: 2288320 ; Sampling rate: 22050 ; Sound shape: (513, 17)\n",
            "[INFO] Generating data for the label SD and with these filepath /content/drive/My Drive/Maestria DM y KDD/Especializacion tesis/MDBDrums/MDB Drums/annotations/class/test/MusicDelta_ModalJazz_class.txt\n",
            "[INFO] Song Signal length: 2288320 ; Sampling rate: 22050 ; Sound shape: (513, 17)\n",
            "[INFO] Generating data for the label HH and with these filepath /content/drive/My Drive/Maestria DM y KDD/Especializacion tesis/MDBDrums/MDB Drums/annotations/class/test/MusicDelta_ModalJazz_class.txt\n",
            "[INFO] Song Signal length: 2288320 ; Sampling rate: 22050 ; Sound shape: (513, 17)\n",
            "[INFO] Generating data for the label TT and with these filepath /content/drive/My Drive/Maestria DM y KDD/Especializacion tesis/MDBDrums/MDB Drums/annotations/class/test/MusicDelta_ModalJazz_class.txt\n",
            "[INFO] Song Signal length: 2288320 ; Sampling rate: 22050 ; Sound shape: (513, 17)\n",
            "[INFO] Generating data for the label CY and with these filepath /content/drive/My Drive/Maestria DM y KDD/Especializacion tesis/MDBDrums/MDB Drums/annotations/class/test/MusicDelta_ModalJazz_class.txt\n",
            "[INFO] Song Signal length: 2288320 ; Sampling rate: 22050 ; Sound shape: (513, 17)\n",
            "[INFO] Generating data for the label OT and with these filepath /content/drive/My Drive/Maestria DM y KDD/Especializacion tesis/MDBDrums/MDB Drums/annotations/class/test/MusicDelta_ModalJazz_class.txt\n",
            "[INFO] Song Signal length: 2288320 ; Sampling rate: 22050 ; Sound shape: (513, 17)\n",
            "[INFO] Generating data for the label KD and with these filepath /content/drive/My Drive/Maestria DM y KDD/Especializacion tesis/MDBDrums/MDB Drums/annotations/class/test/MusicDelta_Gospel_class.txt\n",
            "[INFO] Song Signal length: 1670008 ; Sampling rate: 22050 ; Sound shape: (513, 17)\n",
            "[INFO] Generating data for the label SD and with these filepath /content/drive/My Drive/Maestria DM y KDD/Especializacion tesis/MDBDrums/MDB Drums/annotations/class/test/MusicDelta_Gospel_class.txt\n",
            "[INFO] Song Signal length: 1670008 ; Sampling rate: 22050 ; Sound shape: (513, 17)\n",
            "[INFO] Generating data for the label HH and with these filepath /content/drive/My Drive/Maestria DM y KDD/Especializacion tesis/MDBDrums/MDB Drums/annotations/class/test/MusicDelta_Gospel_class.txt\n",
            "[INFO] Song Signal length: 1670008 ; Sampling rate: 22050 ; Sound shape: (513, 17)\n",
            "[INFO] Generating data for the label TT and with these filepath /content/drive/My Drive/Maestria DM y KDD/Especializacion tesis/MDBDrums/MDB Drums/annotations/class/test/MusicDelta_Gospel_class.txt\n",
            "[INFO] Song Signal length: 1670008 ; Sampling rate: 22050 ; Sound shape: (513, 17)\n",
            "[INFO] Generating data for the label CY and with these filepath /content/drive/My Drive/Maestria DM y KDD/Especializacion tesis/MDBDrums/MDB Drums/annotations/class/test/MusicDelta_Gospel_class.txt\n",
            "[INFO] Song Signal length: 1670008 ; Sampling rate: 22050 ; Sound shape: (513, 17)\n",
            "[INFO] Generating data for the label OT and with these filepath /content/drive/My Drive/Maestria DM y KDD/Especializacion tesis/MDBDrums/MDB Drums/annotations/class/test/MusicDelta_Gospel_class.txt\n",
            "[INFO] Song Signal length: 1670008 ; Sampling rate: 22050 ; Sound shape: (513, 17)\n",
            "[INFO] Generating data for the label KD and with these filepath /content/drive/My Drive/Maestria DM y KDD/Especializacion tesis/MDBDrums/MDB Drums/annotations/class/test/MusicDelta_LatinJazz_class.txt\n",
            "[INFO] Song Signal length: 1476596 ; Sampling rate: 22050 ; Sound shape: (513, 17)\n",
            "[INFO] Generating data for the label SD and with these filepath /content/drive/My Drive/Maestria DM y KDD/Especializacion tesis/MDBDrums/MDB Drums/annotations/class/test/MusicDelta_LatinJazz_class.txt\n",
            "[INFO] Song Signal length: 1476596 ; Sampling rate: 22050 ; Sound shape: (513, 17)\n",
            "[INFO] Generating data for the label HH and with these filepath /content/drive/My Drive/Maestria DM y KDD/Especializacion tesis/MDBDrums/MDB Drums/annotations/class/test/MusicDelta_LatinJazz_class.txt\n",
            "[INFO] Song Signal length: 1476596 ; Sampling rate: 22050 ; Sound shape: (513, 17)\n",
            "[INFO] Generating data for the label TT and with these filepath /content/drive/My Drive/Maestria DM y KDD/Especializacion tesis/MDBDrums/MDB Drums/annotations/class/test/MusicDelta_LatinJazz_class.txt\n",
            "[INFO] Song Signal length: 1476596 ; Sampling rate: 22050 ; Sound shape: (513, 17)\n",
            "[INFO] Generating data for the label CY and with these filepath /content/drive/My Drive/Maestria DM y KDD/Especializacion tesis/MDBDrums/MDB Drums/annotations/class/test/MusicDelta_LatinJazz_class.txt\n",
            "[INFO] Song Signal length: 1476596 ; Sampling rate: 22050 ; Sound shape: (513, 17)\n",
            "[INFO] Generating data for the label OT and with these filepath /content/drive/My Drive/Maestria DM y KDD/Especializacion tesis/MDBDrums/MDB Drums/annotations/class/test/MusicDelta_LatinJazz_class.txt\n",
            "[INFO] Song Signal length: 1476596 ; Sampling rate: 22050 ; Sound shape: (513, 17)\n",
            "[INFO] Generating data for the label KD and with these filepath /content/drive/My Drive/Maestria DM y KDD/Especializacion tesis/MDBDrums/MDB Drums/annotations/class/test/MusicDelta_Grunge_class.txt\n",
            "[INFO] Song Signal length: 922884 ; Sampling rate: 22050 ; Sound shape: (513, 17)\n",
            "[INFO] Generating data for the label SD and with these filepath /content/drive/My Drive/Maestria DM y KDD/Especializacion tesis/MDBDrums/MDB Drums/annotations/class/test/MusicDelta_Grunge_class.txt\n",
            "[INFO] Song Signal length: 922884 ; Sampling rate: 22050 ; Sound shape: (513, 17)\n",
            "[INFO] Generating data for the label HH and with these filepath /content/drive/My Drive/Maestria DM y KDD/Especializacion tesis/MDBDrums/MDB Drums/annotations/class/test/MusicDelta_Grunge_class.txt\n",
            "[INFO] Song Signal length: 922884 ; Sampling rate: 22050 ; Sound shape: (513, 17)\n",
            "[INFO] Generating data for the label TT and with these filepath /content/drive/My Drive/Maestria DM y KDD/Especializacion tesis/MDBDrums/MDB Drums/annotations/class/test/MusicDelta_Grunge_class.txt\n",
            "[INFO] Song Signal length: 922884 ; Sampling rate: 22050 ; Sound shape: (513, 17)\n",
            "[INFO] Generating data for the label CY and with these filepath /content/drive/My Drive/Maestria DM y KDD/Especializacion tesis/MDBDrums/MDB Drums/annotations/class/test/MusicDelta_Grunge_class.txt\n",
            "[INFO] Song Signal length: 922884 ; Sampling rate: 22050 ; Sound shape: (513, 17)\n",
            "[INFO] Generating data for the label OT and with these filepath /content/drive/My Drive/Maestria DM y KDD/Especializacion tesis/MDBDrums/MDB Drums/annotations/class/test/MusicDelta_Grunge_class.txt\n",
            "[INFO] Song Signal length: 922884 ; Sampling rate: 22050 ; Sound shape: (513, 17)\n"
          ]
        }
      ]
    },
    {
      "cell_type": "code",
      "source": [
        ""
      ],
      "metadata": {
        "id": "pScDRP5l2a2v"
      },
      "execution_count": null,
      "outputs": []
    }
  ]
}