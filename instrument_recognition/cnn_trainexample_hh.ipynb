{
  "nbformat": 4,
  "nbformat_minor": 0,
  "metadata": {
    "colab": {
      "name": "v2_nnHH_ESP_Pipe003_For_GitHub_refactored_[1NN for each drumtype]_TrainFirstCNN.ipynb",
      "provenance": [],
      "collapsed_sections": []
    },
    "kernelspec": {
      "name": "python3",
      "display_name": "Python 3"
    }
  },
  "cells": [
    {
      "cell_type": "code",
      "metadata": {
        "colab": {
          "base_uri": "https://localhost:8080/"
        },
        "id": "eaYla0WTiIOn",
        "outputId": "00859d21-12ca-4860-c8b1-203a28722884"
      },
      "source": [
        "script_idea = \"\"\"\n",
        "Script intended to train 1 NN for each drumtype, this is the UPDATED version.\n",
        "Before training the model, you have to preprocess the songs and the annotations \n",
        "After processing, everything is going to EXP_PIPE_DATA (path, see bellow)\n",
        "\"\"\"\n",
        "print(script_idea)"
      ],
      "execution_count": 1,
      "outputs": [
        {
          "output_type": "stream",
          "name": "stdout",
          "text": [
            "\n",
            "Script intended to train 1 NN for each drumtype, this is the UPDATED version.\n",
            "Before training the model, you have to preprocess the songs and the annotations \n",
            "After processing, everything is going to EXP_PIPE_DATA (see bellow)\n",
            "\n"
          ]
        }
      ]
    },
    {
      "cell_type": "markdown",
      "source": [
        "# Define libraries, paths and import data"
      ],
      "metadata": {
        "id": "ERgjOG1avXWv"
      }
    },
    {
      "cell_type": "code",
      "source": [
        "# Which instrument you want to run the pipeline for; ie if target_label = \"HH\" -> create model for hihat. \n",
        "target_label = \"HH\""
      ],
      "metadata": {
        "id": "rYmCcn3T2xXx"
      },
      "execution_count": 6,
      "outputs": []
    },
    {
      "cell_type": "code",
      "metadata": {
        "id": "dS5TRims5WaP",
        "colab": {
          "base_uri": "https://localhost:8080/"
        },
        "outputId": "178517c9-7682-4aae-dbb6-5ea469cfa32a"
      },
      "source": [
        "# preprocess modules\n",
        "import librosa\n",
        "from librosa import display\n",
        "import os,sys,re,pandas as pd,numpy as np\n",
        "from scipy.io import wavfile\n",
        "import math\n",
        "from sympy import Interval\n",
        "# viz\n",
        "import seaborn as sns\n",
        "import plotly.express as px\n",
        "import matplotlib.pyplot as plt\n",
        "# sklearn\n",
        "from sklearn.model_selection import train_test_split\n",
        "from sklearn.metrics import confusion_matrix, classification_report, f1_score, recall_score, precision_score\n",
        "# torch\n",
        "import torch.nn as nn\n",
        "import torch.nn.functional as F\n",
        "import torchvision\n",
        "import torch\n",
        "import torch.optim as optim\n",
        "# other\n",
        "import random\n",
        "import logging\n",
        "import glob\n",
        "import warnings\n",
        "from google.colab import drive\n",
        "import sys\n",
        "\n",
        "ROOT_DIR = \"/content/drive\"\n",
        "#  Just use this if you are using google as a bucket\n",
        "drive.mount(ROOT_DIR, force_remount=True)\n",
        "# Don't forget to type My Drive before the whole path (in case you are using gdrive)\n",
        "# In case you're not using gdrive; MUSIC_DIR should be your rootdir\n",
        "MUSIC_DIR = os.path.join(ROOT_DIR,'My Drive/Maestria DM y KDD/Especializacion tesis/MDBDrums/MDB Drums')\n",
        "AUDIO_DIR = os.path.join(MUSIC_DIR,'audio','drum_only')\n",
        "ANNOTATIONS_DIR = os.path.join(MUSIC_DIR,'annotations','class')\n",
        "# where your preprocessed data is for train & test (for the preprocesing script see )\n",
        "EXP_PIPE_DATA = os.path.join(MUSIC_DIR,\"pipe005_multiplemodelsdata_corrected_over60\")\n",
        "EXP_PIPE_DATA_TRAIN = os.path.join(EXP_PIPE_DATA,\"train\")\n",
        "EXP_PIPE_DATA_TEST = os.path.join(EXP_PIPE_DATA,\"test\")"
      ],
      "execution_count": 7,
      "outputs": [
        {
          "output_type": "stream",
          "name": "stdout",
          "text": [
            "Mounted at /content/drive\n"
          ]
        }
      ]
    },
    {
      "cell_type": "code",
      "metadata": {
        "id": "JPrVlqsTscub"
      },
      "source": [
        "# download trainmodel_utils.py and import it \n",
        "sys.path.insert(0,'/content/drive/My Drive/Colab Notebooks/tesis_esp')\n",
        "import trainmodel_utils"
      ],
      "execution_count": 8,
      "outputs": []
    },
    {
      "cell_type": "code",
      "source": [
        "# reproductibility\n",
        "myseed = 1995\n",
        "torch.manual_seed(0)\n",
        "random.seed(0)\n",
        "np.random.seed(0)"
      ],
      "metadata": {
        "id": "m1ICJ4g1LlMD"
      },
      "execution_count": 9,
      "outputs": []
    },
    {
      "cell_type": "markdown",
      "source": [
        "We will split the whole \"trainingdata\" into 3 splits (train, val, test) ;Do NOT confuse this test split with tthe testfolder, the later one are OutOfSample  songs, that were not seen during training. Test ratio was not seen during training but we changed  some experiments according to it."
      ],
      "metadata": {
        "id": "n6QrnbkE1FkU"
      }
    },
    {
      "cell_type": "code",
      "metadata": {
        "id": "ayru0Sh8BQlg"
      },
      "source": [
        "#get filepaths\n",
        "file_paths_txt_train = glob.glob(EXP_PIPE_DATA_TRAIN+\"/*.txt\")\n",
        "file_paths_npy_train = glob.glob(EXP_PIPE_DATA_TRAIN+\"/*.npy\")\n",
        "# we should this one in the evaluation script, not in this one\n",
        "file_paths_txt_test = glob.glob(EXP_PIPE_DATA_TEST+\"/*.txt\")\n",
        "file_paths_npy_test = glob.glob(EXP_PIPE_DATA_TEST+\"/*.npy\")\n",
        "## ------------params ------------\n",
        "train_ratio = 0.8\n",
        "validation_ratio = 0.2 # you should use then after\n",
        "# test_ratio = 0.0\n"
      ],
      "execution_count": 10,
      "outputs": []
    },
    {
      "cell_type": "code",
      "metadata": {
        "colab": {
          "base_uri": "https://localhost:8080/"
        },
        "id": "PpCCFB3zhYpK",
        "outputId": "28b5935f-5f6a-4e60-ccc7-2ea183a371da"
      },
      "source": [
        "logfile_path = os.path.join(EXP_PIPE_DATA,f'BinaryClassBCEnn_model_{target_label}_logfile.log')\n",
        "logging.basicConfig(filename = logfile_path, format='%(asctime)s %(levelname)s:%(message)s', level=logging.DEBUG, datefmt='%m/%d/%Y %I:%M:%S %p')\n",
        "file_paths_txt_targeted,file_paths_npy_targeted = trainmodel_utils.filter_path_for_target_label(file_paths_txt_train,file_paths_npy_train,target_label)\n",
        "\n",
        "# load all data in memory\n",
        "labels_list,data_npy_list = trainmodel_utils.load_labels_and_data_from_npy(file_paths_npy_all = file_paths_npy_targeted)\n",
        "data = trainmodel_utils.merge_numpy_data(data_npy_list) # X\n",
        "labels = trainmodel_utils.merge_labels_data(labels_list) # y\n",
        "assert data.shape[0] == len(labels)\n",
        "print(f\" Dataset is of {data.shape[0]} onsets, \\n with a 33x9 (64-> window size, strides of 16 to a padded signal of len 128\")\n",
        "# x_train, x_val, x_test,y_train,y_val,y_test = trainmodel_utils.trainvaltest_split(data,labels,train_ratio,validation_ratio,test_ratio, myseed)\n",
        "# remember: if none, then it will be stratified by y.\n",
        "x_train, x_val, y_train, y_val = train_test_split(data,labels,test_size=validation_ratio,random_state=myseed, stratify = None)"
      ],
      "execution_count": 12,
      "outputs": [
        {
          "output_type": "stream",
          "name": "stdout",
          "text": [
            "User must verify if the following files correspoond eaco other :\n",
            " /content/drive/My Drive/Maestria DM y KDD/Especializacion tesis/MDBDrums/MDB Drums/pipe005_multiplemodelsdata_corrected_over60/train/MusicDelta_Disco_class__HH.txt \n",
            " /content/drive/My Drive/Maestria DM y KDD/Especializacion tesis/MDBDrums/MDB Drums/pipe005_multiplemodelsdata_corrected_over60/train/MusicDelta_Disco_class__HH.npy\n",
            "User must verify if the following files correspoond eaco other :\n",
            " /content/drive/My Drive/Maestria DM y KDD/Especializacion tesis/MDBDrums/MDB Drums/pipe005_multiplemodelsdata_corrected_over60/train/MusicDelta_Britpop_class__HH.txt \n",
            " /content/drive/My Drive/Maestria DM y KDD/Especializacion tesis/MDBDrums/MDB Drums/pipe005_multiplemodelsdata_corrected_over60/train/MusicDelta_Britpop_class__HH.npy\n",
            "User must verify if the following files correspoond eaco other :\n",
            " /content/drive/My Drive/Maestria DM y KDD/Especializacion tesis/MDBDrums/MDB Drums/pipe005_multiplemodelsdata_corrected_over60/train/MusicDelta_Rock_class__HH.txt \n",
            " /content/drive/My Drive/Maestria DM y KDD/Especializacion tesis/MDBDrums/MDB Drums/pipe005_multiplemodelsdata_corrected_over60/train/MusicDelta_Rock_class__HH.npy\n",
            "User must verify if the following files correspoond eaco other :\n",
            " /content/drive/My Drive/Maestria DM y KDD/Especializacion tesis/MDBDrums/MDB Drums/pipe005_multiplemodelsdata_corrected_over60/train/MusicDelta_BebopJazz_class__HH.txt \n",
            " /content/drive/My Drive/Maestria DM y KDD/Especializacion tesis/MDBDrums/MDB Drums/pipe005_multiplemodelsdata_corrected_over60/train/MusicDelta_BebopJazz_class__HH.npy\n",
            "User must verify if the following files correspoond eaco other :\n",
            " /content/drive/My Drive/Maestria DM y KDD/Especializacion tesis/MDBDrums/MDB Drums/pipe005_multiplemodelsdata_corrected_over60/train/MusicDelta_Shadows_class__HH.txt \n",
            " /content/drive/My Drive/Maestria DM y KDD/Especializacion tesis/MDBDrums/MDB Drums/pipe005_multiplemodelsdata_corrected_over60/train/MusicDelta_Shadows_class__HH.npy\n",
            "User must verify if the following files correspoond eaco other :\n",
            " /content/drive/My Drive/Maestria DM y KDD/Especializacion tesis/MDBDrums/MDB Drums/pipe005_multiplemodelsdata_corrected_over60/train/MusicDelta_Reggae_class__HH.txt \n",
            " /content/drive/My Drive/Maestria DM y KDD/Especializacion tesis/MDBDrums/MDB Drums/pipe005_multiplemodelsdata_corrected_over60/train/MusicDelta_Reggae_class__HH.npy\n",
            "User must verify if the following files correspoond eaco other :\n",
            " /content/drive/My Drive/Maestria DM y KDD/Especializacion tesis/MDBDrums/MDB Drums/pipe005_multiplemodelsdata_corrected_over60/train/MusicDelta_CoolJazz_class__HH.txt \n",
            " /content/drive/My Drive/Maestria DM y KDD/Especializacion tesis/MDBDrums/MDB Drums/pipe005_multiplemodelsdata_corrected_over60/train/MusicDelta_CoolJazz_class__HH.npy\n",
            "User must verify if the following files correspoond eaco other :\n",
            " /content/drive/My Drive/Maestria DM y KDD/Especializacion tesis/MDBDrums/MDB Drums/pipe005_multiplemodelsdata_corrected_over60/train/MusicDelta_Rockabilly_class__HH.txt \n",
            " /content/drive/My Drive/Maestria DM y KDD/Especializacion tesis/MDBDrums/MDB Drums/pipe005_multiplemodelsdata_corrected_over60/train/MusicDelta_Rockabilly_class__HH.npy\n",
            "User must verify if the following files correspoond eaco other :\n",
            " /content/drive/My Drive/Maestria DM y KDD/Especializacion tesis/MDBDrums/MDB Drums/pipe005_multiplemodelsdata_corrected_over60/train/MusicDelta_FunkJazz_class__HH.txt \n",
            " /content/drive/My Drive/Maestria DM y KDD/Especializacion tesis/MDBDrums/MDB Drums/pipe005_multiplemodelsdata_corrected_over60/train/MusicDelta_FunkJazz_class__HH.npy\n",
            "User must verify if the following files correspoond eaco other :\n",
            " /content/drive/My Drive/Maestria DM y KDD/Especializacion tesis/MDBDrums/MDB Drums/pipe005_multiplemodelsdata_corrected_over60/train/MusicDelta_FusionJazz_class__HH.txt \n",
            " /content/drive/My Drive/Maestria DM y KDD/Especializacion tesis/MDBDrums/MDB Drums/pipe005_multiplemodelsdata_corrected_over60/train/MusicDelta_FusionJazz_class__HH.npy\n",
            "User must verify if the following files correspoond eaco other :\n",
            " /content/drive/My Drive/Maestria DM y KDD/Especializacion tesis/MDBDrums/MDB Drums/pipe005_multiplemodelsdata_corrected_over60/train/MusicDelta_80sRock_class__HH.txt \n",
            " /content/drive/My Drive/Maestria DM y KDD/Especializacion tesis/MDBDrums/MDB Drums/pipe005_multiplemodelsdata_corrected_over60/train/MusicDelta_80sRock_class__HH.npy\n",
            " Dataset is of 3247 onsets, \n",
            " with a 33x9 (64-> window size, strides of 16 to a padded signal of len 128\n"
          ]
        }
      ]
    },
    {
      "cell_type": "code",
      "metadata": {
        "colab": {
          "base_uri": "https://localhost:8080/"
        },
        "id": "0lYdBVyHfiq7",
        "outputId": "b73a094c-b8b1-4319-f5eb-a9ac0e2da7f8"
      },
      "source": [
        "print(\"Data shape is:\",data.shape)\n",
        "print(\"Unique labels are:\",set(labels))"
      ],
      "execution_count": 13,
      "outputs": [
        {
          "output_type": "stream",
          "name": "stdout",
          "text": [
            "Data shape is: (3247, 513, 17)\n",
            "Unique labels are: {'HH', 'OTHER'}\n"
          ]
        }
      ]
    },
    {
      "cell_type": "code",
      "metadata": {
        "id": "ZUlvIqGZl9EL",
        "colab": {
          "base_uri": "https://localhost:8080/"
        },
        "outputId": "d67dcf3a-8c0d-4e62-d85b-208442b2387a"
      },
      "source": [
        "# come from this unique_labels = list(set(labels)) \n",
        "unique_labels = ['OTHER',target_label]\n",
        "unique_labels_idx = [idx for idx in range(len(unique_labels))]\n",
        "unique_labels"
      ],
      "execution_count": 14,
      "outputs": [
        {
          "output_type": "execute_result",
          "data": {
            "text/plain": [
              "['OTHER', 'HH']"
            ]
          },
          "metadata": {},
          "execution_count": 14
        }
      ]
    },
    {
      "cell_type": "code",
      "metadata": {
        "id": "GIeld_yZTzF0"
      },
      "source": [
        "def map_labels2idx(label_list2map, unique_labels):\n",
        "  \"map labels from unique_labels to its respective index\"\n",
        "  mapped_labels = [unique_labels.index(label_idx) for label_idx in label_list2map]\n",
        "  return mapped_labels\n",
        "  \n",
        "def map_idx2labels(mapped_labels,unique_labels=unique_labels):\n",
        "  labels = list()\n",
        "  for idx in range(len(mapped_labels)):\n",
        "    mapped_lab = mapped_labels[idx]\n",
        "    label_name = unique_labels[mapped_lab]\n",
        "    labels.append(label_name)\n",
        "  return labels"
      ],
      "execution_count": 15,
      "outputs": []
    },
    {
      "cell_type": "code",
      "metadata": {
        "id": "9RPuOaWmmVJA"
      },
      "source": [
        "labels_indexes = map_labels2idx(labels, unique_labels)\n",
        "nclasses = len(unique_labels_idx)"
      ],
      "execution_count": 16,
      "outputs": []
    },
    {
      "cell_type": "code",
      "source": [
        "print(labels[:5],labels_indexes[:5])"
      ],
      "metadata": {
        "colab": {
          "base_uri": "https://localhost:8080/"
        },
        "id": "upXJ7jhhZQM6",
        "outputId": "589ac13d-2eb8-494c-ab28-eb23871fe2ce"
      },
      "execution_count": 17,
      "outputs": [
        {
          "output_type": "stream",
          "name": "stdout",
          "text": [
            "['HH', 'HH', 'HH', 'HH', 'OTHER'] [1, 1, 1, 1, 0]\n"
          ]
        }
      ]
    },
    {
      "cell_type": "code",
      "metadata": {
        "id": "0M1OHFNq4goG"
      },
      "source": [
        "def seed_worker(worker_id):\n",
        "    worker_seed = torch.initial_seed() % 2**32\n",
        "    np.random.seed(worker_seed)\n",
        "    random.seed(worker_seed)\n",
        "\n",
        "g = torch.Generator()\n",
        "g.manual_seed(myseed)\n",
        "\n",
        "class Dataset(torch.utils.data.Dataset):\n",
        "  \"\"\"\n",
        "  Data loader for mini batch processing in pytorch\n",
        "  Based on https://stanford.edu/~shervine/blog/pytorch-how-to-generate-data-parallel \n",
        "  \"\"\"\n",
        "  def __init__(self, data_tensor, labels):\n",
        "        'Initialization'\n",
        "        self.labels = labels\n",
        "        self.data_tensor = data_tensor\n",
        "\n",
        "  def __len__(self):\n",
        "        'Denotes the total number of samples'\n",
        "        return len(self.labels)\n",
        "\n",
        "  def __getitem__(self, index):\n",
        "        'Generates one sample of data'\n",
        "        X = self.data_tensor[index] #torch.tensor of 65x17 \n",
        "        y = self.labels[index]\n",
        "        return X, y"
      ],
      "execution_count": 83,
      "outputs": []
    },
    {
      "cell_type": "code",
      "metadata": {
        "colab": {
          "base_uri": "https://localhost:8080/"
        },
        "id": "4mKhLesaodf2",
        "outputId": "92e39bd6-cd3a-49b2-c09e-a393bd9c6503"
      },
      "source": [
        "y_train_to_idx = map_labels2idx(y_train, unique_labels)\n",
        "data_tensor_train = torch.tensor(x_train, dtype=torch.float32)\n",
        "N,H,W = data_tensor_train.shape\n",
        "data_tensor_train = data_tensor_train.reshape(N,1,H,W)\n",
        "print(f\"train dataset shape: {data_tensor_train.shape}\")"
      ],
      "execution_count": 84,
      "outputs": [
        {
          "output_type": "stream",
          "name": "stdout",
          "text": [
            "train dataset shape: torch.Size([2597, 1, 513, 17])\n"
          ]
        }
      ]
    },
    {
      "cell_type": "code",
      "metadata": {
        "colab": {
          "base_uri": "https://localhost:8080/"
        },
        "id": "fTILAAxXG8LX",
        "outputId": "1a8ea17d-3e62-4cd0-a70a-73e01099b1e3"
      },
      "source": [
        "# validation\n",
        "y_val_to_idx = map_labels2idx(y_val, unique_labels)\n",
        "data_tensor_val = torch.tensor(x_val, dtype=torch.float32)\n",
        "N,H,W = data_tensor_val.shape\n",
        "data_tensor_val = data_tensor_val.reshape(N,1,H,W)\n",
        "print(f\"val ndataset shape: {data_tensor_val.shape}\")"
      ],
      "execution_count": 85,
      "outputs": [
        {
          "output_type": "stream",
          "name": "stdout",
          "text": [
            "val ndataset shape: torch.Size([650, 1, 513, 17])\n"
          ]
        }
      ]
    },
    {
      "cell_type": "markdown",
      "source": [
        "An example of how the data is mapped:"
      ],
      "metadata": {
        "id": "tzCv3nEZazCr"
      }
    },
    {
      "cell_type": "code",
      "source": [
        "print(f\"[INFO] Example of the mapping:\\n  y_train -> {y_train[:5]} \\n to y_train_to_idx -> {y_train_to_idx[:5]}\")"
      ],
      "metadata": {
        "colab": {
          "base_uri": "https://localhost:8080/"
        },
        "id": "bIRYnJDeZyyN",
        "outputId": "b4e25109-a54e-478e-a58d-9074f1a30651"
      },
      "execution_count": 86,
      "outputs": [
        {
          "output_type": "stream",
          "name": "stdout",
          "text": [
            "[INFO] Example of the mapping:\n",
            "  y_train -> ['OTHER', 'OTHER', 'HH', 'OTHER', 'HH'] \n",
            " to y_train_to_idx -> [0, 0, 1, 0, 1]\n"
          ]
        }
      ]
    },
    {
      "cell_type": "markdown",
      "source": [
        "Scale our data"
      ],
      "metadata": {
        "id": "pRZF6ttO5Rcb"
      }
    },
    {
      "cell_type": "code",
      "metadata": {
        "colab": {
          "base_uri": "https://localhost:8080/"
        },
        "id": "m9sGQw2YuppQ",
        "outputId": "6305e154-28bf-4360-9426-f9eae99ad120"
      },
      "source": [
        "scaling_method = \"meanstd_normalize\"\n",
        "\n",
        "if scaling_method == \"meanstd_normalize\":\n",
        "  train_mean, train_std = data_tensor_train.mean(), data_tensor_train.std()\n",
        "  normalize_train_data = {\"mean\":train_mean, \"std\":train_std}\n",
        "  meanstd_normalize = torchvision.transforms.Normalize(**normalize_train_data, inplace=False) \n",
        "  print(f\"[INFO]] Applying {scaling_method} method\")\n",
        "  data_tensor_train_norm = meanstd_normalize(data_tensor_train)\n",
        "  data_tensor_val_norm = meanstd_normalize(data_tensor_val)\n",
        "elif scaling_method == \"minmax_normalize\":\n",
        "  train_max,trainmin = data_tensor_train.max(),data_tensor_train.min()\n",
        "  train_maxmin_diff  =train_max-trainmin\n",
        "  minmax_normalize = torchvision.transforms.Normalize(mean = trainmin, std = train_maxmin_diff, inplace=False) \n",
        "  print(f\"[INFO]] Applying {scaling_method} method \")\n",
        "  data_tensor_train_norm = minmax_normalize(data_tensor_train)\n",
        "  data_tensor_val_norm = minmax_normalize(data_tensor_val)\n",
        "else:\n",
        "  pass"
      ],
      "execution_count": 87,
      "outputs": [
        {
          "output_type": "stream",
          "name": "stdout",
          "text": [
            "[INFO]] Applying meanstd_normalize method\n"
          ]
        }
      ]
    },
    {
      "cell_type": "code",
      "metadata": {
        "id": "-vWTvmv3bpz_"
      },
      "source": [
        "# CUDA for PyTorch ; try to control as much randomness as possible\n",
        "use_cuda = torch.cuda.is_available()\n",
        "device = torch.device(\"cuda:0\" if use_cuda else \"cpu\")\n",
        "torch.backends.cudnn.benchmark = True\n",
        "torch.backends.cudnn.deterministic=True\n",
        "# \n",
        "# Parameters\n",
        "dataloader_params = {'batch_size': 128,\n",
        "          'shuffle': True,\n",
        "          'num_workers': 2,\n",
        "          'worker_init_fn':seed_worker,\n",
        "          'generator': g}\n",
        "max_epochs = 100\n",
        "\n",
        "# Generators\n",
        "training_set = Dataset(data_tensor_train_norm, y_train_to_idx)\n",
        "training_generator = torch.utils.data.DataLoader(training_set, **dataloader_params)\n",
        "\n",
        "validation_set  = Dataset(data_tensor_val_norm, y_val_to_idx)\n",
        "validation_generator = torch.utils.data.DataLoader(validation_set, **dataloader_params)\n"
      ],
      "execution_count": 102,
      "outputs": []
    },
    {
      "cell_type": "markdown",
      "source": [
        "An example of the features that will be used:"
      ],
      "metadata": {
        "id": "_knPvqbna7L3"
      }
    },
    {
      "cell_type": "code",
      "metadata": {
        "colab": {
          "base_uri": "https://localhost:8080/"
        },
        "id": "u1qZ5iiZcWGC",
        "outputId": "70cd6c57-fc27-4e10-9b69-e27592a7ff0b"
      },
      "source": [
        "nexamples2show = 5\n",
        "testiter = iter(training_set) #start the iterator\n",
        "for i in range(nexamples2show):\n",
        "  first_x,first_y = next(testiter)\n",
        "  print(f\"Observation nubmer {i} has labelidx:{first_y} and shape {first_x.shape}\")\n",
        " "
      ],
      "execution_count": 103,
      "outputs": [
        {
          "output_type": "stream",
          "name": "stdout",
          "text": [
            "Observation nubmer 0 has labelidx:0 and shape torch.Size([1, 513, 17])\n",
            "Observation nubmer 1 has labelidx:0 and shape torch.Size([1, 513, 17])\n",
            "Observation nubmer 2 has labelidx:1 and shape torch.Size([1, 513, 17])\n",
            "Observation nubmer 3 has labelidx:0 and shape torch.Size([1, 513, 17])\n",
            "Observation nubmer 4 has labelidx:1 and shape torch.Size([1, 513, 17])\n"
          ]
        }
      ]
    },
    {
      "cell_type": "markdown",
      "source": [
        "See if there is a huge unbalanced data set or not"
      ],
      "metadata": {
        "id": "-MncC0ztvM0I"
      }
    },
    {
      "cell_type": "code",
      "source": [
        "pd.Series(y_train).value_counts(normalize=False)"
      ],
      "metadata": {
        "colab": {
          "base_uri": "https://localhost:8080/"
        },
        "id": "20mTxnQILcmR",
        "outputId": "77f46223-bcd0-4fe7-c004-d687d702d1f9"
      },
      "execution_count": 104,
      "outputs": [
        {
          "output_type": "execute_result",
          "data": {
            "text/plain": [
              "OTHER    1370\n",
              "HH       1227\n",
              "dtype: int64"
            ]
          },
          "metadata": {},
          "execution_count": 104
        }
      ]
    },
    {
      "cell_type": "code",
      "source": [
        "pd.Series(y_train).value_counts(normalize=True)"
      ],
      "metadata": {
        "colab": {
          "base_uri": "https://localhost:8080/"
        },
        "id": "HXP_61bJsu5k",
        "outputId": "561ad81f-7ccb-4eb1-948e-9fd89216c31b"
      },
      "execution_count": 105,
      "outputs": [
        {
          "output_type": "execute_result",
          "data": {
            "text/plain": [
              "OTHER    0.527532\n",
              "HH       0.472468\n",
              "dtype: float64"
            ]
          },
          "metadata": {},
          "execution_count": 105
        }
      ]
    },
    {
      "cell_type": "code",
      "source": [
        "pd.Series(y_val).value_counts(normalize=False)"
      ],
      "metadata": {
        "colab": {
          "base_uri": "https://localhost:8080/"
        },
        "id": "uFrZ6zbKGnF0",
        "outputId": "d7341810-b26b-44ad-e243-4a83189b58de"
      },
      "execution_count": 106,
      "outputs": [
        {
          "output_type": "execute_result",
          "data": {
            "text/plain": [
              "OTHER    337\n",
              "HH       313\n",
              "dtype: int64"
            ]
          },
          "metadata": {},
          "execution_count": 106
        }
      ]
    },
    {
      "cell_type": "code",
      "source": [
        "# for evaluating f1score etc\n",
        "threshold = pd.Series(y_train).value_counts(normalize=True)[1]\n",
        "# threshold = 0.5\n",
        "threshold_torch = torch.tensor([threshold])\n",
        "print(f\"[INFO] Threshold for this model is {threshold_torch}\")"
      ],
      "metadata": {
        "colab": {
          "base_uri": "https://localhost:8080/"
        },
        "id": "LUnQHGDwskPi",
        "outputId": "32acba19-81c1-4ba5-9068-dbf57bed986e"
      },
      "execution_count": 107,
      "outputs": [
        {
          "output_type": "stream",
          "name": "stdout",
          "text": [
            "[INFO] Threshold for this model is tensor([0.4725], dtype=torch.float64)\n"
          ]
        }
      ]
    },
    {
      "cell_type": "code",
      "metadata": {
        "id": "r4z8GEX95h1p"
      },
      "source": [
        "def evaluate_data_pytorch(data_generator:torch.utils.data.DataLoader,pytorch_net,sklearnmetric:str ='classification_report',prediction_threshold = threshold_torch) ->str:\n",
        "  \"\"\"\n",
        "  Function for evaluating validation set using torch dataloader. \n",
        "  taken/based on https://towardsdatascience.com/beginners-guide-to-loading-image-data-with-pytorch-289c60b7afec\n",
        "  data_generator -> must be pytorch generator \n",
        "  pytorch_net: -> pytorch neural network\n",
        "  \n",
        "  sklearnmetric: sklearn metric that requires y_true and y_pred ; could be classification_report or f1_score or other\n",
        "  prediction_threshold: torch tensor 1d ; just torch.tensor([threshold]) where threshold is a float \n",
        "  \"\"\"\n",
        "  truelabels_val,predictedlabels_val = list(),list()\n",
        "  # since we're not training, we don't need to calculate the gradients for our outputs\n",
        "  with torch.no_grad():\n",
        "      for i, data in enumerate(data_generator, 0):\n",
        "          # get the inputs; data is a list of [inputs, labels]\n",
        "          if not cuda:\n",
        "            inputs, labels = data\n",
        "          if cuda:\n",
        "            inputs, labels = data[0].to(device), data[1].to(device)\n",
        "          #print(inputs.shape)\n",
        "          outputs = net(inputs)\n",
        "          predicted = (outputs>=prediction_threshold).float()*1\n",
        "          #print(predicted)\n",
        "          #total += labels.size(0)\n",
        "          truelabels_val.extend(labels.tolist())\n",
        "          predictedlabels_val.extend(predicted.tolist())\n",
        "          #correct += (predicted == labels).sum().item()\n",
        "  df_val = pd.DataFrame({\"truelabel\":truelabels_val,\"predicted\":predictedlabels_val})\n",
        "  if sklearnmetric == \"classification_report\":\n",
        "    cr = classification_report(y_true=df_val[\"truelabel\"].tolist(),y_pred=df_val[\"predicted\"].tolist(), output_dict = True)\n",
        "  elif sklearnmetric == \"f1_score_weighted\":\n",
        "    cr = f1_score(y_true=df_val[\"truelabel\"].tolist(),y_pred=df_val[\"predicted\"].tolist(),average = 'weighted')\n",
        "  else:\n",
        "    raise ValueError(\"Please  sklearn metric mustbe classification_report or f1_score with avergage weighted\")      \n",
        "  return cr"
      ],
      "execution_count": 108,
      "outputs": []
    },
    {
      "cell_type": "markdown",
      "source": [
        "# Define network architecture CNN"
      ],
      "metadata": {
        "id": "Zg8uhUSf6W56"
      }
    },
    {
      "cell_type": "code",
      "metadata": {
        "id": "k6JRSBtT5jff"
      },
      "source": [
        "cuda = False\n",
        "\n",
        "\n",
        "class Net(nn.Module):\n",
        "    def __init__(self,nchannels,nclasses, unique_labels, meanstd_normalize, prediction_threshold):\n",
        "        \"\"\"\n",
        "        unique_labels: list of labels to be mapped; example: ['OTHER','KD'] \n",
        "        meanstd_normalize:  output from torchvision.transforms.Normalize; for zscaling \n",
        "            o             the data\n",
        "        prediction_threshold: float in (0,1) interval; if proba>threshold then\n",
        "                      predicted class will be TARGET else other. \n",
        "        nclasses of the net; 2 in this case since we are applying binary classif\n",
        "        \"\"\"\n",
        "        # start\n",
        "        super().__init__()\n",
        "        self.prediction_threshold = torch.tensor([prediction_threshold])\n",
        "        # this is the normalizer to used in the predictor then\n",
        "        self.meanstd_normalizer = torchvision.transforms.Normalize(**meanstd_normalize, inplace=False) \n",
        "        # remove it if you want to this is jsut for cleaner predictions (use labels instead of etc)\n",
        "        self.unique_labels = unique_labels\n",
        "        # other attributes\n",
        "        self.nchannels = nchannels\n",
        "        self.nclasses = nclasses\n",
        "        self.conv1 = nn.Conv2d(self.nchannels, 6, 5)\n",
        "        self.pool = nn.MaxPool2d(2, 2)\n",
        "        self.conv2 = nn.Conv2d(6, 16, 5)\n",
        "        self.fc1 = nn.Linear(2000, 120)\n",
        "        self.dropout1 = nn.Dropout(p=0.5, inplace=False)\n",
        "        self.fc2 = nn.Linear(120, 84)\n",
        "        #self.dropout2 = nn.Dropout(p=0.3, inplace=False)\n",
        "        self.fc3 = nn.Linear(84, self.nclasses)\n",
        "    def forward(self, x):\n",
        "        # conv1 \n",
        "        x = self.conv1(x)\n",
        "        #print(\"Conv1:\",x.shape)\n",
        "        x =F.relu(x)\n",
        "        x = self.pool(x)\n",
        "        #print(\"Pool1:\",x.shape)\n",
        "        x = self.conv2(x)\n",
        "        #print(\"Conv2:\",x.shape)\n",
        "        x = F.relu(x)\n",
        "        x = self.pool(x)\n",
        "        #print(\"Pool2:\",x.shape)\n",
        "        # flatten  all dims except the batch; \n",
        "        x = torch.flatten(x, 1) # flatten all dimensions except batch\n",
        "        #print(\"Flattened, except batch:\",x.shape)\n",
        "        x = self.fc1(x)\n",
        "        x=F.relu(x)\n",
        "        x = self.dropout1(x)\n",
        "        x = self.fc2(x)\n",
        "        x = F.relu(x)\n",
        "        #x = self.dropout2(x)\n",
        "        # pass over fc3 omg\n",
        "        x = self.fc3(x)\n",
        "        x = torch.sigmoid(x)\n",
        "        return x\n",
        "    def map_idx2labels(self,mapped_labels,unique_labels):\n",
        "      labels = list()\n",
        "      for idx in range(len(mapped_labels)):\n",
        "        mapped_lab = mapped_labels[idx]\n",
        "        label_name = unique_labels[mapped_lab]\n",
        "        labels.append(label_name)\n",
        "      return labels\n",
        "\n",
        "    def predict(self,x_batch):\n",
        "      \"\"\"\n",
        "      Final prediction function\n",
        "      params:\n",
        "        x_batch -> np.array model dimensions data_lenx513x17 data\n",
        "      return: mapped prediction (either target label or other)\n",
        "      \"\"\"\n",
        "      #x_batch = x_test[:10].copy()\n",
        "      #N = len(x_batch)\n",
        "      data_tensor = torch.tensor(x_batch, dtype=torch.float32)\n",
        "      N,H,W = data_tensor.shape\n",
        "      print(N,H,W)\n",
        "      data_tensor = data_tensor.reshape(N,1,H,W)\n",
        "      # noramalize data\n",
        "      data_tensor = self.meanstd_normalizer(data_tensor)\n",
        "      #forward pass\n",
        "      predictions = self.forward(data_tensor)\n",
        "      if self.prediction_threshold is not None:\n",
        "        predictions = (predictions>=self.prediction_threshold).float()*1\n",
        "      predictions2labels = self.map_idx2labels(predictions,self.unique_labels)\n",
        "      return predictions2labels\n",
        "\n"
      ],
      "execution_count": 109,
      "outputs": []
    },
    {
      "cell_type": "markdown",
      "source": [
        "# Define a few net params"
      ],
      "metadata": {
        "id": "fTJSfMSA6N8s"
      }
    },
    {
      "cell_type": "code",
      "source": [
        "is_weighted = False\n",
        "if is_weighted:\n",
        "  counts_other = y_train.count(\"OTHER\")\n",
        "  counts_traindata = len(y_train)\n",
        "  counts_target = counts_traindata- counts_other\n",
        "  scale_weights_array = counts_other/counts_target\n",
        "  # scale_weights_array = [counts_traindata/counts_target, counts_traindata/counts_other]\n",
        "  weight_to_balance = torch.tensor(scale_weights_array)\n",
        "else:\n",
        "  # equal to torch.tensor([1,1])\n",
        "  weight_to_balance = None\n",
        "print(f\"[INFO] Current weights to loss function {weight_to_balance}\")"
      ],
      "metadata": {
        "colab": {
          "base_uri": "https://localhost:8080/"
        },
        "id": "lFFyvBx5vP3O",
        "outputId": "e975e4ac-279c-43c3-abce-584939f7c62b"
      },
      "execution_count": 110,
      "outputs": [
        {
          "output_type": "stream",
          "name": "stdout",
          "text": [
            "[INFO] Current weights to loss function None\n"
          ]
        }
      ]
    },
    {
      "cell_type": "code",
      "source": [
        "net = Net(nchannels=1,nclasses=1, unique_labels=unique_labels, meanstd_normalize=normalize_train_data, prediction_threshold = threshold)\n",
        "if cuda:\n",
        "  net.to(device)\n",
        "\n",
        "#--- START network params\n",
        "optimizer = optim.SGD(net.parameters(), lr=0.01, momentum=0.9, weight_decay=0.0)\n",
        "n_epochs = 100 \n",
        "# this is like bce but with a logit ; so no need to use a sigmoid layer\n",
        "criterion = nn.BCELoss(weight = weight_to_balance)\n",
        "# if it doesnt improve within  early_stopping_patience iterations\n",
        "early_stopping_patience = 10\n",
        "early_stopping_min_increase = 0.01 # early_stopping_min_increase percent\n",
        "metric_to_monitor = \"f1-score\"\n",
        "#--- END network params"
      ],
      "metadata": {
        "id": "9Uae-8uKdmWZ"
      },
      "execution_count": 124,
      "outputs": []
    },
    {
      "cell_type": "markdown",
      "source": [
        "# Start training the net with early stopping"
      ],
      "metadata": {
        "id": "QHTGvEo56HHZ"
      }
    },
    {
      "cell_type": "code",
      "metadata": {
        "colab": {
          "base_uri": "https://localhost:8080/"
        },
        "id": "nUwU4kGkru_R",
        "outputId": "45ac86db-3727-43fa-8579-8abcabd2d6b9"
      },
      "source": [
        "metadata_results_list = list()\n",
        "# for early stopping\n",
        "early_stopping_counter = 0\n",
        "epoch = 0\n",
        "metric_to_monitor_val_best = 0.0001 # to avoid zero division\n",
        "\n",
        "while (epoch<n_epochs) and  (early_stopping_counter<=early_stopping_patience):\n",
        "  running_loss = 0.0\n",
        "  # BATCH RUN\n",
        "  for i, data in enumerate(training_generator, 0):\n",
        "      # get the inputs; data is a list of [inputs, labels]\n",
        "      if not cuda:\n",
        "        inputs, labels = data\n",
        "      if cuda:\n",
        "        inputs, labels = data[0].to(device), data[1].to(device)\n",
        "      # zero the parameter gradients\n",
        "      optimizer.zero_grad()\n",
        "\n",
        "      # forward + backward + optimize\n",
        "      outputs = net(inputs)\n",
        "      # this is for making the outputs and the labels shapes equal \n",
        "      labels = labels.unsqueeze(1).float()\n",
        "      loss = criterion(outputs, labels)\n",
        "      loss.backward()\n",
        "      optimizer.step()\n",
        "      # print statistics\n",
        "      running_loss += loss.item()\n",
        "\n",
        "\n",
        "  metric_to_monitor_train = evaluate_data_pytorch(training_generator,pytorch_net = net,sklearnmetric='classification_report')['1'][metric_to_monitor]\n",
        "  metric_to_monitor_val = evaluate_data_pytorch(validation_generator,pytorch_net = net,sklearnmetric='classification_report')['1'][metric_to_monitor]\n",
        "\n",
        "\n",
        "  # monitor early stopping ; increase in comparison with best\n",
        "  metric_increase_epoch = metric_to_monitor_val/metric_to_monitor_val_best-1\n",
        "  if metric_increase_epoch<early_stopping_min_increase:\n",
        "    # increase counter if it doesnt increase enough\n",
        "    early_stopping_counter += 1\n",
        "  else: # reset counter\n",
        "    early_stopping_counter = 0\n",
        "  \n",
        "  if metric_to_monitor_val>metric_to_monitor_val_best:\n",
        "    metric_to_monitor_val_best = metric_to_monitor_val\n",
        "  # save results\n",
        "  results_dict = dict()\n",
        "  results_dict[f\"epoch\"] = epoch\n",
        "  results_dict[f\"{metric_to_monitor}_train\"] = metric_to_monitor_train\n",
        "  results_dict[f\"{metric_to_monitor}_val\"] = metric_to_monitor_val\n",
        "  metadata_results_list.append(results_dict)\n",
        "\n",
        "  print(f\"[INFO] Epoch number: {epoch}, iterations with less than {early_stopping_min_increase} \\\n",
        "  improvement:{early_stopping_counter}; improvement_percentage (in comparison with best epoch): {metric_increase_epoch}\")\n",
        "  print(f\"[INFO] {metric_to_monitor} train: {metric_to_monitor_train} and val: {metric_to_monitor_val}  \")\n",
        "  epoch+=1\n",
        "print(f'[INFO] Finished Training in {epoch} epochs')"
      ],
      "execution_count": 125,
      "outputs": [
        {
          "output_type": "stream",
          "name": "stdout",
          "text": [
            "[INFO] Epoch number: 0, iterations with less than 0.01   improvement:0; improvement_percentage (in comparison with best epoch): 5741.574257425743\n",
            "[INFO] f1-score train: 0.6116700201207242 and val: 0.5742574257425743  \n",
            "[INFO] Epoch number: 1, iterations with less than 0.01   improvement:0; improvement_percentage (in comparison with best epoch): 0.08461496951054981\n",
            "[INFO] f1-score train: 0.6438095238095238 and val: 0.622848200312989  \n",
            "[INFO] Epoch number: 2, iterations with less than 0.01   improvement:0; improvement_percentage (in comparison with best epoch): 0.12573865446248078\n",
            "[INFO] f1-score train: 0.695906432748538 and val: 0.701164294954722  \n",
            "[INFO] Epoch number: 3, iterations with less than 0.01   improvement:1; improvement_percentage (in comparison with best epoch): -0.018615333006476997\n",
            "[INFO] f1-score train: 0.691959624086321 and val: 0.6881118881118882  \n",
            "[INFO] Epoch number: 4, iterations with less than 0.01   improvement:0; improvement_percentage (in comparison with best epoch): 0.01646245744225383\n",
            "[INFO] f1-score train: 0.7213445378151261 and val: 0.712707182320442  \n",
            "[INFO] Epoch number: 5, iterations with less than 0.01   improvement:0; improvement_percentage (in comparison with best epoch): 0.021488201720759825\n",
            "[INFO] f1-score train: 0.7206837606837605 and val: 0.7280219780219779  \n",
            "[INFO] Epoch number: 6, iterations with less than 0.01   improvement:1; improvement_percentage (in comparison with best epoch): -0.00030210650627537916\n",
            "[INFO] f1-score train: 0.7374503430841459 and val: 0.727802037845706  \n",
            "[INFO] Epoch number: 7, iterations with less than 0.01   improvement:0; improvement_percentage (in comparison with best epoch): 0.08071845430336011\n",
            "[INFO] f1-score train: 0.7939101373932417 and val: 0.7867867867867868  \n",
            "[INFO] Epoch number: 8, iterations with less than 0.01   improvement:0; improvement_percentage (in comparison with best epoch): 0.06507740202140821\n",
            "[INFO] f1-score train: 0.8318584070796461 and val: 0.8379888268156425  \n",
            "[INFO] Epoch number: 9, iterations with less than 0.01   improvement:0; improvement_percentage (in comparison with best epoch): 0.04580073030777254\n",
            "[INFO] f1-score train: 0.8907363420427554 and val: 0.8763693270735524  \n",
            "[INFO] Epoch number: 10, iterations with less than 0.01   improvement:0; improvement_percentage (in comparison with best epoch): 0.030411083352259727\n",
            "[INFO] f1-score train: 0.9060593737291583 and val: 0.90302066772655  \n",
            "[INFO] Epoch number: 11, iterations with less than 0.01   improvement:1; improvement_percentage (in comparison with best epoch): -0.0009576530493073943\n",
            "[INFO] f1-score train: 0.9176470588235294 and val: 0.9021558872305141  \n",
            "[INFO] Epoch number: 12, iterations with less than 0.01   improvement:0; improvement_percentage (in comparison with best epoch): 0.0110992039191673\n",
            "[INFO] f1-score train: 0.9148020654044751 and val: 0.9130434782608696  \n",
            "[INFO] Epoch number: 13, iterations with less than 0.01   improvement:0; improvement_percentage (in comparison with best epoch): 0.030399999999999983\n",
            "[INFO] f1-score train: 0.939975500204165 and val: 0.9408  \n",
            "[INFO] Epoch number: 14, iterations with less than 0.01   improvement:1; improvement_percentage (in comparison with best epoch): -0.027273138872853653\n",
            "[INFO] f1-score train: 0.9348914858096827 and val: 0.9151414309484193  \n",
            "[INFO] Epoch number: 15, iterations with less than 0.01   improvement:2; improvement_percentage (in comparison with best epoch): -0.019649181986844177\n",
            "[INFO] f1-score train: 0.9341166596726816 and val: 0.922314049586777  \n",
            "[INFO] Epoch number: 16, iterations with less than 0.01   improvement:3; improvement_percentage (in comparison with best epoch): 0.005067656922800312\n",
            "[INFO] f1-score train: 0.945324881141046 and val: 0.9455676516329705  \n",
            "[INFO] Epoch number: 17, iterations with less than 0.01   improvement:4; improvement_percentage (in comparison with best epoch): -0.012704362650813095\n",
            "[INFO] f1-score train: 0.941027801179444 and val: 0.9335548172757475  \n",
            "[INFO] Epoch number: 18, iterations with less than 0.01   improvement:0; improvement_percentage (in comparison with best epoch): 0.010110914304993335\n",
            "[INFO] f1-score train: 0.9551877270892208 and val: 0.9551282051282052  \n",
            "[INFO] Epoch number: 19, iterations with less than 0.01   improvement:1; improvement_percentage (in comparison with best epoch): -0.012219318884106323\n",
            "[INFO] f1-score train: 0.9565573770491804 and val: 0.9434571890145396  \n",
            "[INFO] Epoch number: 20, iterations with less than 0.01   improvement:2; improvement_percentage (in comparison with best epoch): -0.0025617682552453447\n",
            "[INFO] f1-score train: 0.9490445859872612 and val: 0.9526813880126183  \n",
            "[INFO] Epoch number: 21, iterations with less than 0.01   improvement:3; improvement_percentage (in comparison with best epoch): -0.03734066033061578\n",
            "[INFO] f1-score train: 0.9375 and val: 0.9194630872483222  \n",
            "[INFO] Epoch number: 22, iterations with less than 0.01   improvement:4; improvement_percentage (in comparison with best epoch): 0.0014590020426028527\n",
            "[INFO] f1-score train: 0.9604938271604938 and val: 0.9565217391304348  \n",
            "[INFO] Epoch number: 23, iterations with less than 0.01   improvement:5; improvement_percentage (in comparison with best epoch): -0.01253421697161805\n",
            "[INFO] f1-score train: 0.951015531660693 and val: 0.9445324881141045  \n",
            "[INFO] Epoch number: 24, iterations with less than 0.01   improvement:6; improvement_percentage (in comparison with best epoch): -0.006734006734006814\n",
            "[INFO] f1-score train: 0.9553827261563651 and val: 0.9500805152979066  \n",
            "[INFO] Epoch number: 25, iterations with less than 0.01   improvement:7; improvement_percentage (in comparison with best epoch): -0.008854781582054216\n",
            "[INFO] f1-score train: 0.9621489621489621 and val: 0.9480519480519481  \n",
            "[INFO] Epoch number: 26, iterations with less than 0.01   improvement:8; improvement_percentage (in comparison with best epoch): 0.0001459214942360898\n",
            "[INFO] f1-score train: 0.9676891615541922 and val: 0.956661316211878  \n",
            "[INFO] Epoch number: 27, iterations with less than 0.01   improvement:9; improvement_percentage (in comparison with best epoch): -0.024153269861089455\n",
            "[INFO] f1-score train: 0.9525807805287452 and val: 0.9335548172757475  \n",
            "[INFO] Epoch number: 28, iterations with less than 0.01   improvement:10; improvement_percentage (in comparison with best epoch): 0.0011343227148123969\n",
            "[INFO] f1-score train: 0.9584487534626039 and val: 0.9577464788732395  \n",
            "[INFO] Epoch number: 29, iterations with less than 0.01   improvement:11; improvement_percentage (in comparison with best epoch): -0.0056022408963585235\n",
            "[INFO] f1-score train: 0.9684466019417476 and val: 0.9523809523809524  \n",
            "[INFO] Finished Training in 30 epochs\n"
          ]
        }
      ]
    },
    {
      "cell_type": "markdown",
      "source": [
        "# Analyze results over the net"
      ],
      "metadata": {
        "id": "l-2vAIwJu0p-"
      }
    },
    {
      "cell_type": "code",
      "source": [
        "df_results = pd.DataFrame(metadata_results_list)\n",
        "df_results_train = df_results[[\"epoch\",\"f1-score_train\"]].copy().rename(columns={\"f1-score_train\":\"f1-score\"})\n",
        "df_results_train[\"dataset_type\"] = \"training\"\n",
        "df_results_val = df_results[[\"epoch\",\"f1-score_val\"]].copy().rename(columns={\"f1-score_val\":\"f1-score\"})\n",
        "df_results_val[\"dataset_type\"] = \"validation\"\n",
        "df_trainval = pd.concat([df_results_train,df_results_val],axis=0).reset_index(drop=True)\n",
        "fig = px.line(df_trainval, x=\"epoch\", y=\"f1-score\", color='dataset_type')\n",
        "fig.show()"
      ],
      "metadata": {
        "id": "APmf14QYGTqp",
        "colab": {
          "base_uri": "https://localhost:8080/",
          "height": 542
        },
        "outputId": "7726333f-90aa-49cd-eff6-aa739a4aad91"
      },
      "execution_count": 126,
      "outputs": [
        {
          "output_type": "display_data",
          "data": {
            "text/html": [
              "<html>\n",
              "<head><meta charset=\"utf-8\" /></head>\n",
              "<body>\n",
              "    <div>            <script src=\"https://cdnjs.cloudflare.com/ajax/libs/mathjax/2.7.5/MathJax.js?config=TeX-AMS-MML_SVG\"></script><script type=\"text/javascript\">if (window.MathJax) {MathJax.Hub.Config({SVG: {font: \"STIX-Web\"}});}</script>                <script type=\"text/javascript\">window.PlotlyConfig = {MathJaxConfig: 'local'};</script>\n",
              "        <script src=\"https://cdn.plot.ly/plotly-2.8.3.min.js\"></script>                <div id=\"c45ac642-7293-4bc4-a09c-af437b08eb66\" class=\"plotly-graph-div\" style=\"height:525px; width:100%;\"></div>            <script type=\"text/javascript\">                                    window.PLOTLYENV=window.PLOTLYENV || {};                                    if (document.getElementById(\"c45ac642-7293-4bc4-a09c-af437b08eb66\")) {                    Plotly.newPlot(                        \"c45ac642-7293-4bc4-a09c-af437b08eb66\",                        [{\"hovertemplate\":\"dataset_type=training<br>epoch=%{x}<br>f1-score=%{y}<extra></extra>\",\"legendgroup\":\"training\",\"line\":{\"color\":\"#636efa\",\"dash\":\"solid\"},\"marker\":{\"symbol\":\"circle\"},\"mode\":\"lines\",\"name\":\"training\",\"orientation\":\"v\",\"showlegend\":true,\"x\":[0,1,2,3,4,5,6,7,8,9,10,11,12,13,14,15,16,17,18,19,20,21,22,23,24,25,26,27,28,29],\"xaxis\":\"x\",\"y\":[0.6116700201207242,0.6438095238095238,0.695906432748538,0.691959624086321,0.7213445378151261,0.7206837606837605,0.7374503430841459,0.7939101373932417,0.8318584070796461,0.8907363420427554,0.9060593737291583,0.9176470588235294,0.9148020654044751,0.939975500204165,0.9348914858096827,0.9341166596726816,0.945324881141046,0.941027801179444,0.9551877270892208,0.9565573770491804,0.9490445859872612,0.9375,0.9604938271604938,0.951015531660693,0.9553827261563651,0.9621489621489621,0.9676891615541922,0.9525807805287452,0.9584487534626039,0.9684466019417476],\"yaxis\":\"y\",\"type\":\"scatter\"},{\"hovertemplate\":\"dataset_type=validation<br>epoch=%{x}<br>f1-score=%{y}<extra></extra>\",\"legendgroup\":\"validation\",\"line\":{\"color\":\"#EF553B\",\"dash\":\"solid\"},\"marker\":{\"symbol\":\"circle\"},\"mode\":\"lines\",\"name\":\"validation\",\"orientation\":\"v\",\"showlegend\":true,\"x\":[0,1,2,3,4,5,6,7,8,9,10,11,12,13,14,15,16,17,18,19,20,21,22,23,24,25,26,27,28,29],\"xaxis\":\"x\",\"y\":[0.5742574257425743,0.622848200312989,0.701164294954722,0.6881118881118882,0.712707182320442,0.7280219780219779,0.727802037845706,0.7867867867867868,0.8379888268156425,0.8763693270735524,0.90302066772655,0.9021558872305141,0.9130434782608696,0.9408,0.9151414309484193,0.922314049586777,0.9455676516329705,0.9335548172757475,0.9551282051282052,0.9434571890145396,0.9526813880126183,0.9194630872483222,0.9565217391304348,0.9445324881141045,0.9500805152979066,0.9480519480519481,0.956661316211878,0.9335548172757475,0.9577464788732395,0.9523809523809524],\"yaxis\":\"y\",\"type\":\"scatter\"}],                        {\"template\":{\"data\":{\"bar\":[{\"error_x\":{\"color\":\"#2a3f5f\"},\"error_y\":{\"color\":\"#2a3f5f\"},\"marker\":{\"line\":{\"color\":\"#E5ECF6\",\"width\":0.5},\"pattern\":{\"fillmode\":\"overlay\",\"size\":10,\"solidity\":0.2}},\"type\":\"bar\"}],\"barpolar\":[{\"marker\":{\"line\":{\"color\":\"#E5ECF6\",\"width\":0.5},\"pattern\":{\"fillmode\":\"overlay\",\"size\":10,\"solidity\":0.2}},\"type\":\"barpolar\"}],\"carpet\":[{\"aaxis\":{\"endlinecolor\":\"#2a3f5f\",\"gridcolor\":\"white\",\"linecolor\":\"white\",\"minorgridcolor\":\"white\",\"startlinecolor\":\"#2a3f5f\"},\"baxis\":{\"endlinecolor\":\"#2a3f5f\",\"gridcolor\":\"white\",\"linecolor\":\"white\",\"minorgridcolor\":\"white\",\"startlinecolor\":\"#2a3f5f\"},\"type\":\"carpet\"}],\"choropleth\":[{\"colorbar\":{\"outlinewidth\":0,\"ticks\":\"\"},\"type\":\"choropleth\"}],\"contour\":[{\"colorbar\":{\"outlinewidth\":0,\"ticks\":\"\"},\"colorscale\":[[0.0,\"#0d0887\"],[0.1111111111111111,\"#46039f\"],[0.2222222222222222,\"#7201a8\"],[0.3333333333333333,\"#9c179e\"],[0.4444444444444444,\"#bd3786\"],[0.5555555555555556,\"#d8576b\"],[0.6666666666666666,\"#ed7953\"],[0.7777777777777778,\"#fb9f3a\"],[0.8888888888888888,\"#fdca26\"],[1.0,\"#f0f921\"]],\"type\":\"contour\"}],\"contourcarpet\":[{\"colorbar\":{\"outlinewidth\":0,\"ticks\":\"\"},\"type\":\"contourcarpet\"}],\"heatmap\":[{\"colorbar\":{\"outlinewidth\":0,\"ticks\":\"\"},\"colorscale\":[[0.0,\"#0d0887\"],[0.1111111111111111,\"#46039f\"],[0.2222222222222222,\"#7201a8\"],[0.3333333333333333,\"#9c179e\"],[0.4444444444444444,\"#bd3786\"],[0.5555555555555556,\"#d8576b\"],[0.6666666666666666,\"#ed7953\"],[0.7777777777777778,\"#fb9f3a\"],[0.8888888888888888,\"#fdca26\"],[1.0,\"#f0f921\"]],\"type\":\"heatmap\"}],\"heatmapgl\":[{\"colorbar\":{\"outlinewidth\":0,\"ticks\":\"\"},\"colorscale\":[[0.0,\"#0d0887\"],[0.1111111111111111,\"#46039f\"],[0.2222222222222222,\"#7201a8\"],[0.3333333333333333,\"#9c179e\"],[0.4444444444444444,\"#bd3786\"],[0.5555555555555556,\"#d8576b\"],[0.6666666666666666,\"#ed7953\"],[0.7777777777777778,\"#fb9f3a\"],[0.8888888888888888,\"#fdca26\"],[1.0,\"#f0f921\"]],\"type\":\"heatmapgl\"}],\"histogram\":[{\"marker\":{\"pattern\":{\"fillmode\":\"overlay\",\"size\":10,\"solidity\":0.2}},\"type\":\"histogram\"}],\"histogram2d\":[{\"colorbar\":{\"outlinewidth\":0,\"ticks\":\"\"},\"colorscale\":[[0.0,\"#0d0887\"],[0.1111111111111111,\"#46039f\"],[0.2222222222222222,\"#7201a8\"],[0.3333333333333333,\"#9c179e\"],[0.4444444444444444,\"#bd3786\"],[0.5555555555555556,\"#d8576b\"],[0.6666666666666666,\"#ed7953\"],[0.7777777777777778,\"#fb9f3a\"],[0.8888888888888888,\"#fdca26\"],[1.0,\"#f0f921\"]],\"type\":\"histogram2d\"}],\"histogram2dcontour\":[{\"colorbar\":{\"outlinewidth\":0,\"ticks\":\"\"},\"colorscale\":[[0.0,\"#0d0887\"],[0.1111111111111111,\"#46039f\"],[0.2222222222222222,\"#7201a8\"],[0.3333333333333333,\"#9c179e\"],[0.4444444444444444,\"#bd3786\"],[0.5555555555555556,\"#d8576b\"],[0.6666666666666666,\"#ed7953\"],[0.7777777777777778,\"#fb9f3a\"],[0.8888888888888888,\"#fdca26\"],[1.0,\"#f0f921\"]],\"type\":\"histogram2dcontour\"}],\"mesh3d\":[{\"colorbar\":{\"outlinewidth\":0,\"ticks\":\"\"},\"type\":\"mesh3d\"}],\"parcoords\":[{\"line\":{\"colorbar\":{\"outlinewidth\":0,\"ticks\":\"\"}},\"type\":\"parcoords\"}],\"pie\":[{\"automargin\":true,\"type\":\"pie\"}],\"scatter\":[{\"marker\":{\"colorbar\":{\"outlinewidth\":0,\"ticks\":\"\"}},\"type\":\"scatter\"}],\"scatter3d\":[{\"line\":{\"colorbar\":{\"outlinewidth\":0,\"ticks\":\"\"}},\"marker\":{\"colorbar\":{\"outlinewidth\":0,\"ticks\":\"\"}},\"type\":\"scatter3d\"}],\"scattercarpet\":[{\"marker\":{\"colorbar\":{\"outlinewidth\":0,\"ticks\":\"\"}},\"type\":\"scattercarpet\"}],\"scattergeo\":[{\"marker\":{\"colorbar\":{\"outlinewidth\":0,\"ticks\":\"\"}},\"type\":\"scattergeo\"}],\"scattergl\":[{\"marker\":{\"colorbar\":{\"outlinewidth\":0,\"ticks\":\"\"}},\"type\":\"scattergl\"}],\"scattermapbox\":[{\"marker\":{\"colorbar\":{\"outlinewidth\":0,\"ticks\":\"\"}},\"type\":\"scattermapbox\"}],\"scatterpolar\":[{\"marker\":{\"colorbar\":{\"outlinewidth\":0,\"ticks\":\"\"}},\"type\":\"scatterpolar\"}],\"scatterpolargl\":[{\"marker\":{\"colorbar\":{\"outlinewidth\":0,\"ticks\":\"\"}},\"type\":\"scatterpolargl\"}],\"scatterternary\":[{\"marker\":{\"colorbar\":{\"outlinewidth\":0,\"ticks\":\"\"}},\"type\":\"scatterternary\"}],\"surface\":[{\"colorbar\":{\"outlinewidth\":0,\"ticks\":\"\"},\"colorscale\":[[0.0,\"#0d0887\"],[0.1111111111111111,\"#46039f\"],[0.2222222222222222,\"#7201a8\"],[0.3333333333333333,\"#9c179e\"],[0.4444444444444444,\"#bd3786\"],[0.5555555555555556,\"#d8576b\"],[0.6666666666666666,\"#ed7953\"],[0.7777777777777778,\"#fb9f3a\"],[0.8888888888888888,\"#fdca26\"],[1.0,\"#f0f921\"]],\"type\":\"surface\"}],\"table\":[{\"cells\":{\"fill\":{\"color\":\"#EBF0F8\"},\"line\":{\"color\":\"white\"}},\"header\":{\"fill\":{\"color\":\"#C8D4E3\"},\"line\":{\"color\":\"white\"}},\"type\":\"table\"}]},\"layout\":{\"annotationdefaults\":{\"arrowcolor\":\"#2a3f5f\",\"arrowhead\":0,\"arrowwidth\":1},\"autotypenumbers\":\"strict\",\"coloraxis\":{\"colorbar\":{\"outlinewidth\":0,\"ticks\":\"\"}},\"colorscale\":{\"diverging\":[[0,\"#8e0152\"],[0.1,\"#c51b7d\"],[0.2,\"#de77ae\"],[0.3,\"#f1b6da\"],[0.4,\"#fde0ef\"],[0.5,\"#f7f7f7\"],[0.6,\"#e6f5d0\"],[0.7,\"#b8e186\"],[0.8,\"#7fbc41\"],[0.9,\"#4d9221\"],[1,\"#276419\"]],\"sequential\":[[0.0,\"#0d0887\"],[0.1111111111111111,\"#46039f\"],[0.2222222222222222,\"#7201a8\"],[0.3333333333333333,\"#9c179e\"],[0.4444444444444444,\"#bd3786\"],[0.5555555555555556,\"#d8576b\"],[0.6666666666666666,\"#ed7953\"],[0.7777777777777778,\"#fb9f3a\"],[0.8888888888888888,\"#fdca26\"],[1.0,\"#f0f921\"]],\"sequentialminus\":[[0.0,\"#0d0887\"],[0.1111111111111111,\"#46039f\"],[0.2222222222222222,\"#7201a8\"],[0.3333333333333333,\"#9c179e\"],[0.4444444444444444,\"#bd3786\"],[0.5555555555555556,\"#d8576b\"],[0.6666666666666666,\"#ed7953\"],[0.7777777777777778,\"#fb9f3a\"],[0.8888888888888888,\"#fdca26\"],[1.0,\"#f0f921\"]]},\"colorway\":[\"#636efa\",\"#EF553B\",\"#00cc96\",\"#ab63fa\",\"#FFA15A\",\"#19d3f3\",\"#FF6692\",\"#B6E880\",\"#FF97FF\",\"#FECB52\"],\"font\":{\"color\":\"#2a3f5f\"},\"geo\":{\"bgcolor\":\"white\",\"lakecolor\":\"white\",\"landcolor\":\"#E5ECF6\",\"showlakes\":true,\"showland\":true,\"subunitcolor\":\"white\"},\"hoverlabel\":{\"align\":\"left\"},\"hovermode\":\"closest\",\"mapbox\":{\"style\":\"light\"},\"paper_bgcolor\":\"white\",\"plot_bgcolor\":\"#E5ECF6\",\"polar\":{\"angularaxis\":{\"gridcolor\":\"white\",\"linecolor\":\"white\",\"ticks\":\"\"},\"bgcolor\":\"#E5ECF6\",\"radialaxis\":{\"gridcolor\":\"white\",\"linecolor\":\"white\",\"ticks\":\"\"}},\"scene\":{\"xaxis\":{\"backgroundcolor\":\"#E5ECF6\",\"gridcolor\":\"white\",\"gridwidth\":2,\"linecolor\":\"white\",\"showbackground\":true,\"ticks\":\"\",\"zerolinecolor\":\"white\"},\"yaxis\":{\"backgroundcolor\":\"#E5ECF6\",\"gridcolor\":\"white\",\"gridwidth\":2,\"linecolor\":\"white\",\"showbackground\":true,\"ticks\":\"\",\"zerolinecolor\":\"white\"},\"zaxis\":{\"backgroundcolor\":\"#E5ECF6\",\"gridcolor\":\"white\",\"gridwidth\":2,\"linecolor\":\"white\",\"showbackground\":true,\"ticks\":\"\",\"zerolinecolor\":\"white\"}},\"shapedefaults\":{\"line\":{\"color\":\"#2a3f5f\"}},\"ternary\":{\"aaxis\":{\"gridcolor\":\"white\",\"linecolor\":\"white\",\"ticks\":\"\"},\"baxis\":{\"gridcolor\":\"white\",\"linecolor\":\"white\",\"ticks\":\"\"},\"bgcolor\":\"#E5ECF6\",\"caxis\":{\"gridcolor\":\"white\",\"linecolor\":\"white\",\"ticks\":\"\"}},\"title\":{\"x\":0.05},\"xaxis\":{\"automargin\":true,\"gridcolor\":\"white\",\"linecolor\":\"white\",\"ticks\":\"\",\"title\":{\"standoff\":15},\"zerolinecolor\":\"white\",\"zerolinewidth\":2},\"yaxis\":{\"automargin\":true,\"gridcolor\":\"white\",\"linecolor\":\"white\",\"ticks\":\"\",\"title\":{\"standoff\":15},\"zerolinecolor\":\"white\",\"zerolinewidth\":2}}},\"xaxis\":{\"anchor\":\"y\",\"domain\":[0.0,1.0],\"title\":{\"text\":\"epoch\"}},\"yaxis\":{\"anchor\":\"x\",\"domain\":[0.0,1.0],\"title\":{\"text\":\"f1-score\"}},\"legend\":{\"title\":{\"text\":\"dataset_type\"},\"tracegroupgap\":0},\"margin\":{\"t\":60}},                        {\"responsive\": true}                    ).then(function(){\n",
              "                            \n",
              "var gd = document.getElementById('c45ac642-7293-4bc4-a09c-af437b08eb66');\n",
              "var x = new MutationObserver(function (mutations, observer) {{\n",
              "        var display = window.getComputedStyle(gd).display;\n",
              "        if (!display || display === 'none') {{\n",
              "            console.log([gd, 'removed!']);\n",
              "            Plotly.purge(gd);\n",
              "            observer.disconnect();\n",
              "        }}\n",
              "}});\n",
              "\n",
              "// Listen for the removal of the full notebook cells\n",
              "var notebookContainer = gd.closest('#notebook-container');\n",
              "if (notebookContainer) {{\n",
              "    x.observe(notebookContainer, {childList: true});\n",
              "}}\n",
              "\n",
              "// Listen for the clearing of the current output cell\n",
              "var outputEl = gd.closest('.output');\n",
              "if (outputEl) {{\n",
              "    x.observe(outputEl, {childList: true});\n",
              "}}\n",
              "\n",
              "                        })                };                            </script>        </div>\n",
              "</body>\n",
              "</html>"
            ]
          },
          "metadata": {}
        }
      ]
    },
    {
      "cell_type": "code",
      "metadata": {
        "id": "fJvP36TYnGB8",
        "colab": {
          "base_uri": "https://localhost:8080/",
          "height": 295
        },
        "outputId": "1634cce1-4902-44f5-f3e0-8a14fd7d12bd"
      },
      "source": [
        "figpath2save = os.path.join(EXP_PIPE_DATA,f\"BinaryClassBCE_nn_fig_model_{target_label}.jpeg\")\n",
        "sns_plot = sns.lineplot(x = df_trainval[\"epoch\"], y = df_trainval[\"f1-score\"] , hue = df_trainval[\"dataset_type\"])\n",
        "sns_plot.set( title = f\"CNN training for {target_label}\")\n",
        "fig = sns_plot.get_figure()\n",
        "fig.savefig(figpath2save)\n",
        "fig.show()"
      ],
      "execution_count": 127,
      "outputs": [
        {
          "output_type": "display_data",
          "data": {
            "text/plain": [
              "<Figure size 432x288 with 1 Axes>"
            ],
            "image/png": "[encoded data removed]"
          },
          "metadata": {
            "needs_background": "light"
          }
        }
      ]
    },
    {
      "cell_type": "markdown",
      "source": [
        "# Save model and perform some checks"
      ],
      "metadata": {
        "id": "Jcn0SYnrvCjc"
      }
    },
    {
      "cell_type": "code",
      "metadata": {
        "id": "Yb5BzMAvqaT5",
        "colab": {
          "base_uri": "https://localhost:8080/"
        },
        "outputId": "ed2d2457-f589-4d9b-8406-c9f1a5dff1ba"
      },
      "source": [
        "modelpath2save = os.path.join(EXP_PIPE_DATA,f\"BinaryClassBCEnn_model_{target_label}.pth\")\n",
        "# os.remove(modelpath2save)\n",
        "if os.path.exists(modelpath2save):\n",
        "  print(f\"[INFO] Model already exist on this path {modelpath2save}\")\n",
        "else:\n",
        "  print(f\"[INFO] Model saved on this path {modelpath2save}\")\n",
        "  torch.save(net,modelpath2save)"
      ],
      "execution_count": 128,
      "outputs": [
        {
          "output_type": "stream",
          "name": "stdout",
          "text": [
            "[INFO] Model saved on this path /content/drive/My Drive/Maestria DM y KDD/Especializacion tesis/MDBDrums/MDB Drums/pipe005_multiplemodelsdata_corrected_over60/BinaryClassBCEnn_model_HH.pth\n"
          ]
        }
      ]
    },
    {
      "cell_type": "code",
      "metadata": {
        "id": "gbVqqn_e0qO6"
      },
      "source": [
        "loaded_net = torch.load(modelpath2save)\n"
      ],
      "execution_count": 120,
      "outputs": []
    },
    {
      "cell_type": "code",
      "metadata": {
        "id": "dxpEiM8R1c_M",
        "colab": {
          "base_uri": "https://localhost:8080/"
        },
        "outputId": "0d50f9b8-765c-478e-dd0a-19a5af957a9b"
      },
      "source": [
        "# important attributes\n",
        "loaded_net.prediction_threshold\n",
        "loaded_net.meanstd_normalizer\n",
        "loaded_net.unique_labels"
      ],
      "execution_count": 121,
      "outputs": [
        {
          "output_type": "execute_result",
          "data": {
            "text/plain": [
              "['OTHER', 'HH']"
            ]
          },
          "metadata": {},
          "execution_count": 121
        }
      ]
    },
    {
      "cell_type": "code",
      "source": [
        "# function for predicting with raw data not normalized but after stft and stuff is applied\n",
        "loaded_net.predict"
      ],
      "metadata": {
        "id": "AdHrp2YP84Ed",
        "colab": {
          "base_uri": "https://localhost:8080/"
        },
        "outputId": "caf70d4e-7a96-476d-ba34-783d0f2fe50b"
      },
      "execution_count": 122,
      "outputs": [
        {
          "output_type": "execute_result",
          "data": {
            "text/plain": [
              "<bound method Net.predict of Net(\n",
              "  (meanstd_normalizer): Normalize(mean=0.14862293004989624, std=1.0505046844482422)\n",
              "  (conv1): Conv2d(1, 6, kernel_size=(5, 5), stride=(1, 1))\n",
              "  (pool): MaxPool2d(kernel_size=2, stride=2, padding=0, dilation=1, ceil_mode=False)\n",
              "  (conv2): Conv2d(6, 16, kernel_size=(5, 5), stride=(1, 1))\n",
              "  (fc1): Linear(in_features=2000, out_features=120, bias=True)\n",
              "  (dropout1): Dropout(p=0.5, inplace=False)\n",
              "  (fc2): Linear(in_features=120, out_features=84, bias=True)\n",
              "  (fc3): Linear(in_features=84, out_features=1, bias=True)\n",
              ")>"
            ]
          },
          "metadata": {},
          "execution_count": 122
        }
      ]
    },
    {
      "cell_type": "code",
      "source": [
        "loaded_net.predict"
      ],
      "metadata": {
        "id": "P56SDoII85zN",
        "colab": {
          "base_uri": "https://localhost:8080/"
        },
        "outputId": "7ca13042-2ffc-447d-8cc2-33b4858d89c0"
      },
      "execution_count": 123,
      "outputs": [
        {
          "output_type": "execute_result",
          "data": {
            "text/plain": [
              "<bound method Net.predict of Net(\n",
              "  (meanstd_normalizer): Normalize(mean=0.14862293004989624, std=1.0505046844482422)\n",
              "  (conv1): Conv2d(1, 6, kernel_size=(5, 5), stride=(1, 1))\n",
              "  (pool): MaxPool2d(kernel_size=2, stride=2, padding=0, dilation=1, ceil_mode=False)\n",
              "  (conv2): Conv2d(6, 16, kernel_size=(5, 5), stride=(1, 1))\n",
              "  (fc1): Linear(in_features=2000, out_features=120, bias=True)\n",
              "  (dropout1): Dropout(p=0.5, inplace=False)\n",
              "  (fc2): Linear(in_features=120, out_features=84, bias=True)\n",
              "  (fc3): Linear(in_features=84, out_features=1, bias=True)\n",
              ")>"
            ]
          },
          "metadata": {},
          "execution_count": 123
        }
      ]
    },
    {
      "cell_type": "code",
      "source": [
        ""
      ],
      "metadata": {
        "id": "oqNUYP4FGCAr"
      },
      "execution_count": null,
      "outputs": []
    }
  ]
}
