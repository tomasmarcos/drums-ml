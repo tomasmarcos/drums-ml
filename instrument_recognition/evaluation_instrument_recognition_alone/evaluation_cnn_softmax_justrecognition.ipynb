{
  "nbformat": 4,
  "nbformat_minor": 0,
  "metadata": {
    "colab": {
      "provenance": [],
      "collapsed_sections": []
    },
    "kernelspec": {
      "name": "python3",
      "display_name": "Python 3"
    },
    "language_info": {
      "name": "python"
    }
  },
  "cells": [
    {
      "cell_type": "code",
      "source": [
        "!pip uninstall scikit-learn  -y && pip install scikit-learn==0.22.2.post1"
      ],
      "metadata": {
        "colab": {
          "base_uri": "https://localhost:8080/"
        },
        "id": "eYG4dD5puRLV",
        "outputId": "57ea0978-2e16-4626-cd3d-b9ef3b5ac7ce"
      },
      "execution_count": null,
      "outputs": [
        {
          "output_type": "stream",
          "name": "stdout",
          "text": [
            "Found existing installation: scikit-learn 1.0.2\n",
            "Uninstalling scikit-learn-1.0.2:\n",
            "  Successfully uninstalled scikit-learn-1.0.2\n",
            "Looking in indexes: https://pypi.org/simple, https://us-python.pkg.dev/colab-wheels/public/simple/\n",
            "Collecting scikit-learn==0.22.2.post1\n",
            "  Downloading scikit_learn-0.22.2.post1-cp37-cp37m-manylinux1_x86_64.whl (7.1 MB)\n",
            "\u001b[K     |████████████████████████████████| 7.1 MB 33.9 MB/s \n",
            "\u001b[?25hRequirement already satisfied: scipy>=0.17.0 in /usr/local/lib/python3.7/dist-packages (from scikit-learn==0.22.2.post1) (1.7.3)\n",
            "Requirement already satisfied: numpy>=1.11.0 in /usr/local/lib/python3.7/dist-packages (from scikit-learn==0.22.2.post1) (1.21.6)\n",
            "Requirement already satisfied: joblib>=0.11 in /usr/local/lib/python3.7/dist-packages (from scikit-learn==0.22.2.post1) (1.1.0)\n",
            "Installing collected packages: scikit-learn\n",
            "\u001b[31mERROR: pip's dependency resolver does not currently take into account all the packages that are installed. This behaviour is the source of the following dependency conflicts.\n",
            "yellowbrick 1.5 requires scikit-learn>=1.0.0, but you have scikit-learn 0.22.2.post1 which is incompatible.\n",
            "imbalanced-learn 0.8.1 requires scikit-learn>=0.24, but you have scikit-learn 0.22.2.post1 which is incompatible.\u001b[0m\n",
            "Successfully installed scikit-learn-0.22.2.post1\n"
          ]
        }
      ]
    },
    {
      "cell_type": "code",
      "metadata": {
        "id": "LJo_DYYBFIRR"
      },
      "source": [
        "SCRIPT_INTRODUCTION = \"\"\"\n",
        "   ==================== [Kopie von ESP_Pipe003_For_GitHub_evaluationJustRecognition_REFACTORED_nn] ====================\n",
        "  This Script was intended to build a recognition evaluation, for the onsets, using SVM/NN models . Copy this notebooks as a reference\n",
        "  to make it for other models. \n",
        "  ==================== ==================[ INFO ] ==============================\n",
        "\"\"\"\n",
        "\n",
        "import librosa\n",
        "from google.colab import drive\n",
        "import os,sys,re,pandas as pd,numpy as np\n",
        "import glob\n",
        "import logging\n",
        "from sympy import Interval\n",
        "import warnings"
      ],
      "execution_count": null,
      "outputs": []
    },
    {
      "cell_type": "code",
      "metadata": {
        "id": "rCaPwqEcFcqY",
        "colab": {
          "base_uri": "https://localhost:8080/",
          "height": 54
        },
        "outputId": "5b522549-4787-413e-eaaa-31fc5357e739"
      },
      "source": [
        "ROOT_DIR = \"/content/drive\"\n",
        "drive.mount(ROOT_DIR)\n",
        "MUSIC_DIR = os.path.join(ROOT_DIR,'My Drive/Maestria DM y KDD/Especializacion tesis/MDBDrums/MDB Drums')\n",
        "MUSIC_DIR"
      ],
      "execution_count": null,
      "outputs": [
        {
          "output_type": "stream",
          "name": "stdout",
          "text": [
            "Mounted at /content/drive\n"
          ]
        },
        {
          "output_type": "execute_result",
          "data": {
            "text/plain": [
              "'/content/drive/My Drive/Maestria DM y KDD/Especializacion tesis/MDBDrums/MDB Drums'"
            ],
            "application/vnd.google.colaboratory.intrinsic+json": {
              "type": "string"
            }
          },
          "metadata": {},
          "execution_count": 3
        }
      ]
    },
    {
      "cell_type": "code",
      "metadata": {
        "colab": {
          "base_uri": "https://localhost:8080/"
        },
        "id": "-V4bu9odTJ3Q",
        "outputId": "b31ea9fb-f08d-4f1d-c4ef-39c76e8581ee"
      },
      "source": [
        "%cd \"/content/drive/My Drive/Colab Notebooks/tesis_esp/\"\n",
        "import eval_utils\n",
        "import pred_utils"
      ],
      "execution_count": null,
      "outputs": [
        {
          "output_type": "stream",
          "name": "stdout",
          "text": [
            "/content/drive/My Drive/Colab Notebooks/tesis_esp\n"
          ]
        }
      ]
    },
    {
      "cell_type": "markdown",
      "source": [
        "# Load models"
      ],
      "metadata": {
        "id": "l9uPWQq4069T"
      }
    },
    {
      "cell_type": "code",
      "source": [
        "# TORCH MODULES\n",
        "import torch.optim as optim\n",
        "import torch.nn.functional as F\n",
        "import torchvision\n",
        "import torch\n",
        "import torch.nn as nn\n",
        "# Load the Net module\n",
        "\n",
        "# I unfortunately didn mange hwo to load the models without defyining the class\n",
        "class Net(nn.Module):\n",
        "  \"Generic class for our NN. This must be loaded, if not loaded torch.load our model will throw an errror\"\n",
        "  def __init__(self,nchannels,nclasses, unique_labels, meanstd_normalize):\n",
        "      # start\n",
        "      super().__init__()\n",
        "      # this is the normalizer to used in the predictor then\n",
        "      self.meanstd_normalizer = torchvision.transforms.Normalize(**meanstd_normalize, inplace=False) \n",
        "      # remove it if you want to this is jsut for cleaner predictions (use labels instead of etc)\n",
        "      self.unique_labels = unique_labels\n",
        "      # other attributes\n",
        "      self.nchannels = nchannels\n",
        "      self.nclasses = nclasses\n",
        "      self.conv1 = nn.Conv2d(self.nchannels, 6, 5)\n",
        "      self.pool = nn.MaxPool2d(2, 2)\n",
        "      self.conv2 = nn.Conv2d(6, 16, 5)\n",
        "      self.fc1 = nn.Linear(2000, 120)\n",
        "      self.dropout1 = nn.Dropout(p=0.5, inplace=False)\n",
        "      self.fc2 = nn.Linear(120, 84)\n",
        "      #self.dropout2 = nn.Dropout(p=0.3, inplace=False)\n",
        "      self.fc3 = nn.Linear(84, self.nclasses)\n",
        "  def forward(self, x):\n",
        "      \"Prints are commented for debugging purposes\"\n",
        "      # conv1 \n",
        "      x = self.conv1(x)\n",
        "      #print(\"Conv1:\",x.shape)\n",
        "      x =F.relu(x)\n",
        "      x = self.pool(x)\n",
        "      #print(\"Pool1:\",x.shape)\n",
        "      x = self.conv2(x)\n",
        "      #print(\"Conv2:\",x.shape)\n",
        "      x = F.relu(x)\n",
        "      x = self.pool(x)\n",
        "      #print(\"Pool2:\",x.shape)\n",
        "      # flatten  all dims except the batch; \n",
        "      x = torch.flatten(x, 1) # flatten all dimensions except batch\n",
        "      #print(\"Flattened, except batch:\",x.shape)\n",
        "      x = self.fc1(x)\n",
        "      x=F.relu(x)\n",
        "      x = self.dropout1(x)\n",
        "      x = self.fc2(x)\n",
        "      # pass over relu\n",
        "      x = F.relu(x)\n",
        "      #\n",
        "      #x = self.dropout2(x)\n",
        "      # pass over fc3 omg\n",
        "      x = self.fc3(x)\n",
        "      #https://pytorch.org/docs/stable/generated/torch.nn.CrossEntropyLoss.html#torch.nn.CrossEntropyLoss\n",
        "      return x\n",
        "  def map_idx2labels(self,mapped_labels,unique_labels):\n",
        "    labels = list()\n",
        "    for idx in range(len(mapped_labels)):\n",
        "      mapped_lab = mapped_labels[idx]\n",
        "      label_name = unique_labels[mapped_lab]\n",
        "      labels.append(label_name)\n",
        "    return labels\n",
        "\n",
        "  def predict(self,x_batch):\n",
        "    \"\"\"\n",
        "    Final prediction function\n",
        "    params:\n",
        "      x_batch -> np.array model dimensions data_lenx513x17 data\n",
        "    return: mapped prediction (either target label or other)\n",
        "    \"\"\"\n",
        "    #x_batch = x_test[:10].copy()\n",
        "    #N = len(x_batch)\n",
        "    data_tensor = torch.tensor(x_batch, dtype=torch.float32)\n",
        "    N,H,W = data_tensor.shape\n",
        "    #print(N,H,W)\n",
        "    data_tensor = data_tensor.reshape(N,1,H,W)\n",
        "    # noramalize data\n",
        "    data_tensor = self.meanstd_normalizer(data_tensor)\n",
        "    #forward pass\n",
        "    predictions = self.forward(data_tensor)\n",
        "    # calculate the .max(1) for each batch and convert them to list\n",
        "    predictions = predictions.argmax(1).tolist()\n",
        "    predictions2labels = self.map_idx2labels(predictions,self.unique_labels)\n",
        "    return predictions2labels"
      ],
      "metadata": {
        "id": "OcYixxVqE7Za"
      },
      "execution_count": null,
      "outputs": []
    },
    {
      "cell_type": "markdown",
      "source": [
        "# You should take models from ./models instead of using this path"
      ],
      "metadata": {
        "id": "2_dNCg4E2v_f"
      }
    },
    {
      "cell_type": "code",
      "source": [
        "EXP_PIPE_DATA = os.path.join(MUSIC_DIR,'pipe005_multiplemodelsdata_corrected_over60')\n",
        "model_type = \"NN\""
      ],
      "metadata": {
        "id": "IVLLrbnB2zXD"
      },
      "execution_count": null,
      "outputs": []
    },
    {
      "cell_type": "code",
      "source": [
        "\n",
        "if model_type == \"SVC\":\n",
        "  print(\"[INFO ]Loading SVC models\")\n",
        "  # load all models SVC classifier, each of them has it own aparameters ; to acces to them use model_hh.best_estimator_\n",
        "  model_tt = pred_utils.load_model(os.path.join(EXP_PIPE_DATA,'model_TT.joblib'))\n",
        "  model_cy = pred_utils.load_model(os.path.join(EXP_PIPE_DATA,'model_CY.joblib'))\n",
        "  model_kd = pred_utils.load_model(os.path.join(EXP_PIPE_DATA,'model_KD.joblib'))\n",
        "  model_sd = pred_utils.load_model(os.path.join(EXP_PIPE_DATA,'model_SD.joblib'))\n",
        "  model_hh = pred_utils.load_model(os.path.join(EXP_PIPE_DATA,'model_HH.joblib'))\n",
        "  model_ot = pred_utils.load_model(os.path.join(EXP_PIPE_DATA,'model_OT.joblib'))\n",
        "elif model_type == \"NN\":\n",
        "  print(\"[INFO ]Loading NN  models\")\n",
        "  model_tt = pred_utils.load_model(os.path.join(EXP_PIPE_DATA,'nn_model_TT.pth'))\n",
        "  model_cy = pred_utils.load_model(os.path.join(EXP_PIPE_DATA,'nn_model_CY.pth'))\n",
        "  model_kd = pred_utils.load_model(os.path.join(EXP_PIPE_DATA,'nn_model_KD.pth'))\n",
        "  model_sd = pred_utils.load_model(os.path.join(EXP_PIPE_DATA,'nn_model_SD.pth'))\n",
        "  model_hh = pred_utils.load_model(os.path.join(EXP_PIPE_DATA,'nn_model_HH.pth'))\n",
        "  model_ot = pred_utils.load_model(os.path.join(EXP_PIPE_DATA,'nn_model_OT.pth'))\n",
        "else:\n",
        "  raise ValueError(\"Param: model_type must be 'SVC' or 'NN' for now, please choose a valid model\")\n",
        "\n",
        "models_list = [model_tt,model_cy,model_kd,model_sd,model_hh,model_ot]"
      ],
      "metadata": {
        "colab": {
          "base_uri": "https://localhost:8080/"
        },
        "id": "JprOWg9C08Gl",
        "outputId": "a4d47019-1a88-44de-b04b-0fbd9dfda74f"
      },
      "execution_count": null,
      "outputs": [
        {
          "output_type": "stream",
          "name": "stdout",
          "text": [
            "[INFO ]Loading NN  models\n"
          ]
        }
      ]
    },
    {
      "cell_type": "code",
      "metadata": {
        "id": "NfET4sWrFelp",
        "colab": {
          "base_uri": "https://localhost:8080/",
          "height": 36
        },
        "outputId": "0f2ca1c3-4640-4e3e-b4c9-da04ca8a304b"
      },
      "source": [
        "AUDIO_DIR = os.path.join(MUSIC_DIR,'audio','drum_only')\n",
        "ANNOTATIONS_DIR = os.path.join(MUSIC_DIR,'annotations','class')\n",
        "ANNOTATIONS_DIR_TEST = os.path.join(ANNOTATIONS_DIR,'test')\n",
        "ANNOTATIONS_DIR_TEST"
      ],
      "execution_count": null,
      "outputs": [
        {
          "output_type": "execute_result",
          "data": {
            "text/plain": [
              "'/content/drive/My Drive/Maestria DM y KDD/Especializacion tesis/MDBDrums/MDB Drums/annotations/class/test'"
            ],
            "application/vnd.google.colaboratory.intrinsic+json": {
              "type": "string"
            }
          },
          "metadata": {},
          "execution_count": 16
        }
      ]
    },
    {
      "cell_type": "code",
      "metadata": {
        "id": "OKYGgm_aG6x0",
        "colab": {
          "base_uri": "https://localhost:8080/"
        },
        "outputId": "4bc63478-45c6-49c4-d910-d4f7b451a0b8"
      },
      "source": [
        "annotations_test_filepaths = glob.glob(ANNOTATIONS_DIR_TEST+\"/*.txt\")\n",
        "annotations_test_filepaths"
      ],
      "execution_count": null,
      "outputs": [
        {
          "output_type": "execute_result",
          "data": {
            "text/plain": [
              "['/content/drive/My Drive/Maestria DM y KDD/Especializacion tesis/MDBDrums/MDB Drums/annotations/class/test/MusicDelta_Hendrix_class.txt',\n",
              " '/content/drive/My Drive/Maestria DM y KDD/Especializacion tesis/MDBDrums/MDB Drums/annotations/class/test/MusicDelta_SwingJazz_class.txt',\n",
              " '/content/drive/My Drive/Maestria DM y KDD/Especializacion tesis/MDBDrums/MDB Drums/annotations/class/test/MusicDelta_FreeJazz_class.txt',\n",
              " '/content/drive/My Drive/Maestria DM y KDD/Especializacion tesis/MDBDrums/MDB Drums/annotations/class/test/MusicDelta_Beatles_class.txt',\n",
              " '/content/drive/My Drive/Maestria DM y KDD/Especializacion tesis/MDBDrums/MDB Drums/annotations/class/test/MusicDelta_Country1_class.txt',\n",
              " '/content/drive/My Drive/Maestria DM y KDD/Especializacion tesis/MDBDrums/MDB Drums/annotations/class/test/MusicDelta_SpeedMetal_class.txt',\n",
              " '/content/drive/My Drive/Maestria DM y KDD/Especializacion tesis/MDBDrums/MDB Drums/annotations/class/test/MusicDelta_Punk_class.txt',\n",
              " '/content/drive/My Drive/Maestria DM y KDD/Especializacion tesis/MDBDrums/MDB Drums/annotations/class/test/MusicDelta_ModalJazz_class.txt',\n",
              " '/content/drive/My Drive/Maestria DM y KDD/Especializacion tesis/MDBDrums/MDB Drums/annotations/class/test/MusicDelta_Gospel_class.txt',\n",
              " '/content/drive/My Drive/Maestria DM y KDD/Especializacion tesis/MDBDrums/MDB Drums/annotations/class/test/MusicDelta_LatinJazz_class.txt',\n",
              " '/content/drive/My Drive/Maestria DM y KDD/Especializacion tesis/MDBDrums/MDB Drums/annotations/class/test/MusicDelta_Grunge_class.txt']"
            ]
          },
          "metadata": {},
          "execution_count": 17
        }
      ]
    },
    {
      "cell_type": "code",
      "metadata": {
        "id": "Rts2xCUMNduK"
      },
      "source": [
        "# step 1 load the annotations dataset you want to scan\n",
        "# step 2 load the corresponding .wav\n",
        "# step 3 for each sound of the annotations, add the label (break step inot more steps)#\n",
        "# step 4 use evalmetrics class\n",
        "config_signal_params = {\"hop_size\":256,\"n_fft\":1024,\"desired_signal_size_for_padding\":4096,\"seconds_window\":0.05}\n",
        "hop_size, n_fft, desired_signal_size_for_padding, seconds_window  = config_signal_params.values()"
      ],
      "execution_count": null,
      "outputs": []
    },
    {
      "cell_type": "code",
      "metadata": {
        "id": "61Kl7HR1O04o"
      },
      "source": [
        "# step1\n",
        "annotation_path = annotations_test_filepaths[0]\n",
        "\n",
        "def pipeline_generate_datasets(annotation_path: str, flatten_data = False):\n",
        "  \"\"\"\n",
        "  --------------------------------------------------------------------------------\n",
        "  Given an annotation path, this function will geneate datasets with \n",
        "  predictions on a .wav and its annotation (loading the .txt);\n",
        "   this is a pre function for calculatiing precision and recall\n",
        "   --------------------------------------------------------------------------------\n",
        "  args: \n",
        "    annotation_path -> .wav song ; a .txt with the same name must exist\n",
        "    drum_types_detector -> DrumTypesDetector class with all params and models loaded\n",
        "  return:\n",
        "    df_annotation -> annotations loaded into dataframe\n",
        "    df_predicted -> predictiosn from the model (comes from pred_utils models)\n",
        "  In case you wanna change the models you ened to change : pred_utils.config_signal_params, sklearn_models_list within the function; the rest will be the same\n",
        "  \"\"\"\n",
        "  df_annotation = eval_utils.load_labels(annotation_path,set2df = True)\n",
        "  # step 2: load correponsding .wav\n",
        "  # 2.a search path\n",
        "  wav_path = eval_utils.search_correspondingpath_given_annotation(annotation_path_txt = annotation_path, audio_directory = AUDIO_DIR)\n",
        "  # 2.b now load the wav\n",
        "  signal,sampling_rate = librosa.load(wav_path)\n",
        "  # 3.c) now use annotations onset, here you could use an onset detection method aswell  and DruMTypesDetector's instance to create a dataset with annotations and predictions \n",
        "  # 3.c.i) first set onset time to onset_sample\n",
        "  df_annotation[\"onset_sample\"] = (df_annotation[\"onset_time\"].astype(\"float\")*sampling_rate).astype(\"int\")\n",
        "  onsets_annotation_list = df_annotation[\"onset_sample\"].tolist()\n",
        "  # 3.d) now perform the predicts and put this into a dataframe\n",
        "  drum_types_detector = pred_utils.DrumTypesDetector(config_signal_params,\n",
        "                                        sklearn_models_list = models_list,\n",
        "                                        flatten_data = flatten_data)\n",
        "  drum_types_detector(wav_path, presettled_onsets= onsets_annotation_list)\n",
        "  df_predicted = pd.DataFrame(drum_types_detector.list_formatted_onsets, columns=[\"onset_time\",\"predicted_drumtype\"])\n",
        "  # now write annotation path for both datasets\n",
        "  df_predicted[\"annotation_path\"] = annotation_path\n",
        "  df_annotation[\"annotation_path\"] = annotation_path\n",
        "  return df_annotation, df_predicted\n",
        "# now compute the metrics\n",
        "\n",
        "\n"
      ],
      "execution_count": null,
      "outputs": []
    },
    {
      "cell_type": "markdown",
      "source": [
        "# Run prediction  pipeline for all songs "
      ],
      "metadata": {
        "id": "EBAhhyI1DbVF"
      }
    },
    {
      "cell_type": "code",
      "metadata": {
        "colab": {
          "base_uri": "https://localhost:8080/"
        },
        "id": "rIqnAgmhhApE",
        "outputId": "a1ac03c5-7038-493b-ad78-43e1d89ac162"
      },
      "source": [
        "# build a huge dataset with this pipeline\n",
        "annotation_list, predicted_list = list(), list()\n",
        "#  vbuild a dataset with all path\n",
        "counter = 0\n",
        "total_files2process = len(annotations_test_filepaths)\n",
        "for annotation_path in annotations_test_filepaths:\n",
        "  print(\"Proportion of processed:\",round(counter/total_files2process,2))\n",
        "  df_annotation, df_predicted = pipeline_generate_datasets(\n",
        "                            annotation_path,\n",
        "                            )\n",
        "  annotation_list.append(df_annotation)\n",
        "  predicted_list.append(df_predicted)\n",
        "  counter += 1\n",
        "# now create a df based on the list of dfs\n",
        "df_annotation_all = pd.concat(annotation_list)\n",
        "df_predicted_all = pd.concat(predicted_list)"
      ],
      "execution_count": null,
      "outputs": [
        {
          "output_type": "stream",
          "name": "stdout",
          "text": [
            "Proportion of processed: 0.0\n",
            "Proportion of processed: 0.09\n",
            "Proportion of processed: 0.18\n",
            "Proportion of processed: 0.27\n",
            "Proportion of processed: 0.36\n",
            "Proportion of processed: 0.45\n",
            "Proportion of processed: 0.55\n",
            "Proportion of processed: 0.64\n",
            "Proportion of processed: 0.73\n",
            "Proportion of processed: 0.82\n",
            "Proportion of processed: 0.91\n"
          ]
        }
      ]
    },
    {
      "cell_type": "code",
      "metadata": {
        "colab": {
          "base_uri": "https://localhost:8080/"
        },
        "id": "OcjjxX2thDUj",
        "outputId": "228b0c50-4210-4cac-f520-e24d6fb58c5a"
      },
      "source": [
        "# criterion; this criterion is for onset detection;\n",
        "# but take into account that you are passing five models, \n",
        "# for example if the HH is on second 0.02 and SD on 0.03 ; using window time\n",
        "# you can recognize the HH at second 0.03 and SD at second 0.02; and this will be correct (since it is part of the same STFT / sound)\n",
        "# therefore teheres no need to change sample criterion so much (0.01 is min in recognition)\n",
        "seconds_criterion = 0.03\n",
        "# this is for all of our songs (see it in the librosa.laod return)\n",
        "sampling_rate =  int(44100/2)\n",
        "# add onset_sample which if forgot\n",
        "df_predicted_all[\"onset_sample\"] = (df_predicted_all[\"onset_time\"]*sampling_rate).astype(\"int\")\n",
        "df_predicted_all[\"drum_type\"] = df_predicted_all[\"predicted_drumtype\"]\n",
        "#\n",
        "samples_criterion = int(seconds_criterion*sampling_rate)\n",
        "# all drumtypes\n",
        "drum_types_list = [\"KD\",\"SD\",\"HH\",\"CY\",\"OT\",\"TT\"]\n",
        "\n",
        "# list all the metrics for each drumtype\n",
        "metrics_dict_list = list()\n",
        "for drum_type in drum_types_list:\n",
        "  compute_metrics = eval_utils.ComputeMetrics(true_labels = df_annotation_all, predicted_labels = df_predicted_all, samples_criterion = samples_criterion, filter_drumtype = drum_type)\n",
        "  metrics_dict = compute_metrics()\n",
        "  metrics_dict[\"drum_type\"] = drum_type\n",
        "  metrics_dict_list.append(metrics_dict)"
      ],
      "execution_count": null,
      "outputs": [
        {
          "output_type": "stream",
          "name": "stdout",
          "text": [
            "['/content/drive/My Drive/Maestria DM y KDD/Especializacion tesis/MDBDrums/MDB Drums/annotations/class/test/MusicDelta_Hendrix_class.txt', '/content/drive/My Drive/Maestria DM y KDD/Especializacion tesis/MDBDrums/MDB Drums/annotations/class/test/MusicDelta_SwingJazz_class.txt', '/content/drive/My Drive/Maestria DM y KDD/Especializacion tesis/MDBDrums/MDB Drums/annotations/class/test/MusicDelta_FreeJazz_class.txt', '/content/drive/My Drive/Maestria DM y KDD/Especializacion tesis/MDBDrums/MDB Drums/annotations/class/test/MusicDelta_Beatles_class.txt', '/content/drive/My Drive/Maestria DM y KDD/Especializacion tesis/MDBDrums/MDB Drums/annotations/class/test/MusicDelta_Country1_class.txt', '/content/drive/My Drive/Maestria DM y KDD/Especializacion tesis/MDBDrums/MDB Drums/annotations/class/test/MusicDelta_SpeedMetal_class.txt', '/content/drive/My Drive/Maestria DM y KDD/Especializacion tesis/MDBDrums/MDB Drums/annotations/class/test/MusicDelta_Punk_class.txt', '/content/drive/My Drive/Maestria DM y KDD/Especializacion tesis/MDBDrums/MDB Drums/annotations/class/test/MusicDelta_ModalJazz_class.txt', '/content/drive/My Drive/Maestria DM y KDD/Especializacion tesis/MDBDrums/MDB Drums/annotations/class/test/MusicDelta_Gospel_class.txt', '/content/drive/My Drive/Maestria DM y KDD/Especializacion tesis/MDBDrums/MDB Drums/annotations/class/test/MusicDelta_LatinJazz_class.txt', '/content/drive/My Drive/Maestria DM y KDD/Especializacion tesis/MDBDrums/MDB Drums/annotations/class/test/MusicDelta_Grunge_class.txt']\n",
            "[INFO] Filtering KD since self.filter_drmtypes is not None\n"
          ]
        },
        {
          "output_type": "stream",
          "name": "stderr",
          "text": [
            "/content/drive/My Drive/Colab Notebooks/tesis_esp/eval_utils.py:107: UserWarning: lets debug this please, n_detected_onsets_within_range > 1!\n",
            "  warnings.warn(\"lets debug this please, n_detected_onsets_within_range > 1!\")\n"
          ]
        },
        {
          "output_type": "stream",
          "name": "stdout",
          "text": [
            "[INFO] Filtering KD since self.filter_drmtypes is not None\n",
            "[INFO] Filtering KD since self.filter_drmtypes is not None\n",
            "[INFO] Filtering KD since self.filter_drmtypes is not None\n",
            "[INFO] Filtering KD since self.filter_drmtypes is not None\n",
            "[INFO] Filtering KD since self.filter_drmtypes is not None\n",
            "[INFO] Filtering KD since self.filter_drmtypes is not None\n",
            "[INFO] Filtering KD since self.filter_drmtypes is not None\n",
            "[INFO] Filtering KD since self.filter_drmtypes is not None\n",
            "[INFO] Filtering KD since self.filter_drmtypes is not None\n",
            "[INFO] Filtering KD since self.filter_drmtypes is not None\n",
            "['/content/drive/My Drive/Maestria DM y KDD/Especializacion tesis/MDBDrums/MDB Drums/annotations/class/test/MusicDelta_Hendrix_class.txt', '/content/drive/My Drive/Maestria DM y KDD/Especializacion tesis/MDBDrums/MDB Drums/annotations/class/test/MusicDelta_SwingJazz_class.txt', '/content/drive/My Drive/Maestria DM y KDD/Especializacion tesis/MDBDrums/MDB Drums/annotations/class/test/MusicDelta_FreeJazz_class.txt', '/content/drive/My Drive/Maestria DM y KDD/Especializacion tesis/MDBDrums/MDB Drums/annotations/class/test/MusicDelta_Beatles_class.txt', '/content/drive/My Drive/Maestria DM y KDD/Especializacion tesis/MDBDrums/MDB Drums/annotations/class/test/MusicDelta_Country1_class.txt', '/content/drive/My Drive/Maestria DM y KDD/Especializacion tesis/MDBDrums/MDB Drums/annotations/class/test/MusicDelta_SpeedMetal_class.txt', '/content/drive/My Drive/Maestria DM y KDD/Especializacion tesis/MDBDrums/MDB Drums/annotations/class/test/MusicDelta_Punk_class.txt', '/content/drive/My Drive/Maestria DM y KDD/Especializacion tesis/MDBDrums/MDB Drums/annotations/class/test/MusicDelta_ModalJazz_class.txt', '/content/drive/My Drive/Maestria DM y KDD/Especializacion tesis/MDBDrums/MDB Drums/annotations/class/test/MusicDelta_Gospel_class.txt', '/content/drive/My Drive/Maestria DM y KDD/Especializacion tesis/MDBDrums/MDB Drums/annotations/class/test/MusicDelta_LatinJazz_class.txt', '/content/drive/My Drive/Maestria DM y KDD/Especializacion tesis/MDBDrums/MDB Drums/annotations/class/test/MusicDelta_Grunge_class.txt']\n",
            "[INFO] Filtering SD since self.filter_drmtypes is not None\n",
            "[INFO] Filtering SD since self.filter_drmtypes is not None\n",
            "[INFO] Filtering SD since self.filter_drmtypes is not None\n",
            "[INFO] Filtering SD since self.filter_drmtypes is not None\n",
            "[INFO] Filtering SD since self.filter_drmtypes is not None\n",
            "[INFO] Filtering SD since self.filter_drmtypes is not None\n",
            "[INFO] Filtering SD since self.filter_drmtypes is not None\n",
            "[INFO] Filtering SD since self.filter_drmtypes is not None\n",
            "[INFO] Filtering SD since self.filter_drmtypes is not None\n",
            "[INFO] Filtering SD since self.filter_drmtypes is not None\n",
            "[INFO] Filtering SD since self.filter_drmtypes is not None\n",
            "['/content/drive/My Drive/Maestria DM y KDD/Especializacion tesis/MDBDrums/MDB Drums/annotations/class/test/MusicDelta_Hendrix_class.txt', '/content/drive/My Drive/Maestria DM y KDD/Especializacion tesis/MDBDrums/MDB Drums/annotations/class/test/MusicDelta_SwingJazz_class.txt', '/content/drive/My Drive/Maestria DM y KDD/Especializacion tesis/MDBDrums/MDB Drums/annotations/class/test/MusicDelta_FreeJazz_class.txt', '/content/drive/My Drive/Maestria DM y KDD/Especializacion tesis/MDBDrums/MDB Drums/annotations/class/test/MusicDelta_Beatles_class.txt', '/content/drive/My Drive/Maestria DM y KDD/Especializacion tesis/MDBDrums/MDB Drums/annotations/class/test/MusicDelta_Country1_class.txt', '/content/drive/My Drive/Maestria DM y KDD/Especializacion tesis/MDBDrums/MDB Drums/annotations/class/test/MusicDelta_SpeedMetal_class.txt', '/content/drive/My Drive/Maestria DM y KDD/Especializacion tesis/MDBDrums/MDB Drums/annotations/class/test/MusicDelta_Punk_class.txt', '/content/drive/My Drive/Maestria DM y KDD/Especializacion tesis/MDBDrums/MDB Drums/annotations/class/test/MusicDelta_ModalJazz_class.txt', '/content/drive/My Drive/Maestria DM y KDD/Especializacion tesis/MDBDrums/MDB Drums/annotations/class/test/MusicDelta_Gospel_class.txt', '/content/drive/My Drive/Maestria DM y KDD/Especializacion tesis/MDBDrums/MDB Drums/annotations/class/test/MusicDelta_LatinJazz_class.txt', '/content/drive/My Drive/Maestria DM y KDD/Especializacion tesis/MDBDrums/MDB Drums/annotations/class/test/MusicDelta_Grunge_class.txt']\n",
            "[INFO] Filtering HH since self.filter_drmtypes is not None\n",
            "[INFO] Filtering HH since self.filter_drmtypes is not None\n",
            "[INFO] Filtering HH since self.filter_drmtypes is not None\n",
            "[INFO] Filtering HH since self.filter_drmtypes is not None\n",
            "[INFO] Filtering HH since self.filter_drmtypes is not None\n",
            "[INFO] Filtering HH since self.filter_drmtypes is not None\n",
            "[INFO] Filtering HH since self.filter_drmtypes is not None\n",
            "[INFO] Filtering HH since self.filter_drmtypes is not None\n",
            "[INFO] Filtering HH since self.filter_drmtypes is not None\n",
            "[INFO] Filtering HH since self.filter_drmtypes is not None\n",
            "[INFO] Filtering HH since self.filter_drmtypes is not None\n",
            "['/content/drive/My Drive/Maestria DM y KDD/Especializacion tesis/MDBDrums/MDB Drums/annotations/class/test/MusicDelta_Hendrix_class.txt', '/content/drive/My Drive/Maestria DM y KDD/Especializacion tesis/MDBDrums/MDB Drums/annotations/class/test/MusicDelta_SwingJazz_class.txt', '/content/drive/My Drive/Maestria DM y KDD/Especializacion tesis/MDBDrums/MDB Drums/annotations/class/test/MusicDelta_FreeJazz_class.txt', '/content/drive/My Drive/Maestria DM y KDD/Especializacion tesis/MDBDrums/MDB Drums/annotations/class/test/MusicDelta_Beatles_class.txt', '/content/drive/My Drive/Maestria DM y KDD/Especializacion tesis/MDBDrums/MDB Drums/annotations/class/test/MusicDelta_Country1_class.txt', '/content/drive/My Drive/Maestria DM y KDD/Especializacion tesis/MDBDrums/MDB Drums/annotations/class/test/MusicDelta_SpeedMetal_class.txt', '/content/drive/My Drive/Maestria DM y KDD/Especializacion tesis/MDBDrums/MDB Drums/annotations/class/test/MusicDelta_Punk_class.txt', '/content/drive/My Drive/Maestria DM y KDD/Especializacion tesis/MDBDrums/MDB Drums/annotations/class/test/MusicDelta_ModalJazz_class.txt', '/content/drive/My Drive/Maestria DM y KDD/Especializacion tesis/MDBDrums/MDB Drums/annotations/class/test/MusicDelta_Gospel_class.txt', '/content/drive/My Drive/Maestria DM y KDD/Especializacion tesis/MDBDrums/MDB Drums/annotations/class/test/MusicDelta_LatinJazz_class.txt', '/content/drive/My Drive/Maestria DM y KDD/Especializacion tesis/MDBDrums/MDB Drums/annotations/class/test/MusicDelta_Grunge_class.txt']\n",
            "[INFO] Filtering CY since self.filter_drmtypes is not None\n",
            "[INFO] Filtering CY since self.filter_drmtypes is not None\n",
            "[INFO] Filtering CY since self.filter_drmtypes is not None\n",
            "[INFO] Filtering CY since self.filter_drmtypes is not None\n",
            "[INFO] Filtering CY since self.filter_drmtypes is not None\n",
            "[INFO] Filtering CY since self.filter_drmtypes is not None\n",
            "[INFO] Filtering CY since self.filter_drmtypes is not None\n",
            "[INFO] Filtering CY since self.filter_drmtypes is not None\n",
            "[INFO] Filtering CY since self.filter_drmtypes is not None\n",
            "[INFO] Filtering CY since self.filter_drmtypes is not None\n",
            "[INFO] Filtering CY since self.filter_drmtypes is not None\n",
            "['/content/drive/My Drive/Maestria DM y KDD/Especializacion tesis/MDBDrums/MDB Drums/annotations/class/test/MusicDelta_Hendrix_class.txt', '/content/drive/My Drive/Maestria DM y KDD/Especializacion tesis/MDBDrums/MDB Drums/annotations/class/test/MusicDelta_SwingJazz_class.txt', '/content/drive/My Drive/Maestria DM y KDD/Especializacion tesis/MDBDrums/MDB Drums/annotations/class/test/MusicDelta_FreeJazz_class.txt', '/content/drive/My Drive/Maestria DM y KDD/Especializacion tesis/MDBDrums/MDB Drums/annotations/class/test/MusicDelta_Beatles_class.txt', '/content/drive/My Drive/Maestria DM y KDD/Especializacion tesis/MDBDrums/MDB Drums/annotations/class/test/MusicDelta_Country1_class.txt', '/content/drive/My Drive/Maestria DM y KDD/Especializacion tesis/MDBDrums/MDB Drums/annotations/class/test/MusicDelta_SpeedMetal_class.txt', '/content/drive/My Drive/Maestria DM y KDD/Especializacion tesis/MDBDrums/MDB Drums/annotations/class/test/MusicDelta_Punk_class.txt', '/content/drive/My Drive/Maestria DM y KDD/Especializacion tesis/MDBDrums/MDB Drums/annotations/class/test/MusicDelta_ModalJazz_class.txt', '/content/drive/My Drive/Maestria DM y KDD/Especializacion tesis/MDBDrums/MDB Drums/annotations/class/test/MusicDelta_Gospel_class.txt', '/content/drive/My Drive/Maestria DM y KDD/Especializacion tesis/MDBDrums/MDB Drums/annotations/class/test/MusicDelta_LatinJazz_class.txt', '/content/drive/My Drive/Maestria DM y KDD/Especializacion tesis/MDBDrums/MDB Drums/annotations/class/test/MusicDelta_Grunge_class.txt']\n",
            "[INFO] Filtering OT since self.filter_drmtypes is not None\n",
            "[INFO] Filtering OT since self.filter_drmtypes is not None\n",
            "[INFO] Filtering OT since self.filter_drmtypes is not None\n",
            "[INFO] Filtering OT since self.filter_drmtypes is not None\n",
            "[INFO] Filtering OT since self.filter_drmtypes is not None\n",
            "[INFO] Filtering OT since self.filter_drmtypes is not None\n",
            "[INFO] Filtering OT since self.filter_drmtypes is not None\n",
            "[INFO] Filtering OT since self.filter_drmtypes is not None\n",
            "[INFO] Filtering OT since self.filter_drmtypes is not None\n",
            "[INFO] Filtering OT since self.filter_drmtypes is not None\n",
            "[INFO] Filtering OT since self.filter_drmtypes is not None\n",
            "['/content/drive/My Drive/Maestria DM y KDD/Especializacion tesis/MDBDrums/MDB Drums/annotations/class/test/MusicDelta_Hendrix_class.txt', '/content/drive/My Drive/Maestria DM y KDD/Especializacion tesis/MDBDrums/MDB Drums/annotations/class/test/MusicDelta_SwingJazz_class.txt', '/content/drive/My Drive/Maestria DM y KDD/Especializacion tesis/MDBDrums/MDB Drums/annotations/class/test/MusicDelta_FreeJazz_class.txt', '/content/drive/My Drive/Maestria DM y KDD/Especializacion tesis/MDBDrums/MDB Drums/annotations/class/test/MusicDelta_Beatles_class.txt', '/content/drive/My Drive/Maestria DM y KDD/Especializacion tesis/MDBDrums/MDB Drums/annotations/class/test/MusicDelta_Country1_class.txt', '/content/drive/My Drive/Maestria DM y KDD/Especializacion tesis/MDBDrums/MDB Drums/annotations/class/test/MusicDelta_SpeedMetal_class.txt', '/content/drive/My Drive/Maestria DM y KDD/Especializacion tesis/MDBDrums/MDB Drums/annotations/class/test/MusicDelta_Punk_class.txt', '/content/drive/My Drive/Maestria DM y KDD/Especializacion tesis/MDBDrums/MDB Drums/annotations/class/test/MusicDelta_ModalJazz_class.txt', '/content/drive/My Drive/Maestria DM y KDD/Especializacion tesis/MDBDrums/MDB Drums/annotations/class/test/MusicDelta_Gospel_class.txt', '/content/drive/My Drive/Maestria DM y KDD/Especializacion tesis/MDBDrums/MDB Drums/annotations/class/test/MusicDelta_LatinJazz_class.txt', '/content/drive/My Drive/Maestria DM y KDD/Especializacion tesis/MDBDrums/MDB Drums/annotations/class/test/MusicDelta_Grunge_class.txt']\n",
            "[INFO] Filtering TT since self.filter_drmtypes is not None\n",
            "[INFO] Filtering TT since self.filter_drmtypes is not None\n",
            "[INFO] Filtering TT since self.filter_drmtypes is not None\n",
            "[INFO] Filtering TT since self.filter_drmtypes is not None\n",
            "[INFO] Filtering TT since self.filter_drmtypes is not None\n",
            "[INFO] Filtering TT since self.filter_drmtypes is not None\n",
            "[INFO] Filtering TT since self.filter_drmtypes is not None\n",
            "[INFO] Filtering TT since self.filter_drmtypes is not None\n",
            "[INFO] Filtering TT since self.filter_drmtypes is not None\n",
            "[INFO] Filtering TT since self.filter_drmtypes is not None\n",
            "[INFO] Filtering TT since self.filter_drmtypes is not None\n"
          ]
        },
        {
          "output_type": "stream",
          "name": "stderr",
          "text": [
            "/content/drive/My Drive/Colab Notebooks/tesis_esp/eval_utils.py:148: RuntimeWarning: invalid value encountered in long_scalars\n",
            "  self.precision = np.sum(total_matches_precision)/self.precision_denominator\n"
          ]
        }
      ]
    },
    {
      "cell_type": "code",
      "source": [
        "metrics_dict_list"
      ],
      "metadata": {
        "colab": {
          "base_uri": "https://localhost:8080/"
        },
        "id": "V_1IM_P5BWB9",
        "outputId": "f2b9d629-5d9f-47b4-dfd7-ac262a588787"
      },
      "execution_count": null,
      "outputs": [
        {
          "output_type": "execute_result",
          "data": {
            "text/plain": [
              "[{'recall': 0.9772209567198178,\n",
              "  'precision': 0.9732658959537572,\n",
              "  'f1_score': 0.9752394164390428,\n",
              "  'drum_type': 'KD'},\n",
              " {'recall': 0.9525925925925925,\n",
              "  'precision': 0.9319764327798608,\n",
              "  'f1_score': 0.9421717479002989,\n",
              "  'drum_type': 'SD'},\n",
              " {'recall': 0.7915057915057915,\n",
              "  'precision': 0.8250975292587777,\n",
              "  'f1_score': 0.8079526555179584,\n",
              "  'drum_type': 'HH'},\n",
              " {'recall': 0.5333333333333333,\n",
              "  'precision': 0.7577807848443843,\n",
              "  'f1_score': 0.626048071548351,\n",
              "  'drum_type': 'CY'},\n",
              " {'recall': 0.0, 'precision': nan, 'f1_score': nan, 'drum_type': 'OT'},\n",
              " {'recall': 0.013333333333333334,\n",
              "  'precision': 0.5,\n",
              "  'f1_score': 0.025974025974025976,\n",
              "  'drum_type': 'TT'}]"
            ]
          },
          "metadata": {},
          "execution_count": 22
        }
      ]
    },
    {
      "cell_type": "code",
      "metadata": {
        "id": "LU7ij0sPJJv9"
      },
      "source": [],
      "execution_count": null,
      "outputs": []
    }
  ]
}