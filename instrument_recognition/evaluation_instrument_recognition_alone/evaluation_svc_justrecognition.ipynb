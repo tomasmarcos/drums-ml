{
  "nbformat": 4,
  "nbformat_minor": 0,
  "metadata": {
    "colab": {
      "provenance": [],
      "collapsed_sections": []
    },
    "kernelspec": {
      "name": "python3",
      "display_name": "Python 3"
    },
    "language_info": {
      "name": "python"
    }
  },
  "cells": [
    {
      "cell_type": "code",
      "metadata": {
        "id": "LJo_DYYBFIRR"
      },
      "source": [
        "SCRIPT_INTRODUCTION = \"\"\"\n",
        "   ==================== [_Kopie von ESP_Pipe003_evaluationJustRecognition_REFACTORED_NEWsvc] ====================\n",
        "  This Script was intended to build a recognition evaluation, for the onsets, using SVM models. Copy this notebooks as a reference\n",
        "  to make it for other models. metrics_dict_list -> results \n",
        "  ==================== ==================[ INFO ] ==============================\n",
        "\"\"\"\n",
        "\n",
        "import librosa\n",
        "from google.colab import drive\n",
        "import os,sys,re,pandas as pd,numpy as np\n",
        "import glob\n",
        "import logging\n",
        "from sympy import Interval\n",
        "import warnings"
      ],
      "execution_count": null,
      "outputs": []
    },
    {
      "cell_type": "code",
      "metadata": {
        "id": "rCaPwqEcFcqY",
        "colab": {
          "base_uri": "https://localhost:8080/"
        },
        "outputId": "1fb80ebd-e62d-4fdf-c786-de135b1b6433"
      },
      "source": [
        "ROOT_DIR = \"/content/drive\"\n",
        "drive.mount(ROOT_DIR)\n",
        "MUSIC_DIR = os.path.join(ROOT_DIR,'My Drive/Maestria DM y KDD/Especializacion tesis/MDBDrums/MDB Drums')\n",
        "AUDIO_DIR = os.path.join(MUSIC_DIR,'audio','drum_only')\n",
        "ANNOTATIONS_DIR = os.path.join(MUSIC_DIR,'annotations','class')\n",
        "ANNOTATIONS_DIR_TEST = os.path.join(ANNOTATIONS_DIR,'test')\n",
        "EXP_PIPE_DATA = os.path.join(MUSIC_DIR,'pipe005_multiplemodelsdata_corrected_over60')\n",
        "annotations_test_filepaths = glob.glob(ANNOTATIONS_DIR_TEST+\"/*.txt\")\n",
        "annotations_test_filepaths"
      ],
      "execution_count": null,
      "outputs": [
        {
          "output_type": "stream",
          "name": "stdout",
          "text": [
            "Drive already mounted at /content/drive; to attempt to forcibly remount, call drive.mount(\"/content/drive\", force_remount=True).\n"
          ]
        },
        {
          "output_type": "execute_result",
          "data": {
            "text/plain": [
              "['/content/drive/My Drive/Maestria DM y KDD/Especializacion tesis/MDBDrums/MDB Drums/annotations/class/test/MusicDelta_Hendrix_class.txt',\n",
              " '/content/drive/My Drive/Maestria DM y KDD/Especializacion tesis/MDBDrums/MDB Drums/annotations/class/test/MusicDelta_SwingJazz_class.txt',\n",
              " '/content/drive/My Drive/Maestria DM y KDD/Especializacion tesis/MDBDrums/MDB Drums/annotations/class/test/MusicDelta_FreeJazz_class.txt',\n",
              " '/content/drive/My Drive/Maestria DM y KDD/Especializacion tesis/MDBDrums/MDB Drums/annotations/class/test/MusicDelta_Beatles_class.txt',\n",
              " '/content/drive/My Drive/Maestria DM y KDD/Especializacion tesis/MDBDrums/MDB Drums/annotations/class/test/MusicDelta_Country1_class.txt',\n",
              " '/content/drive/My Drive/Maestria DM y KDD/Especializacion tesis/MDBDrums/MDB Drums/annotations/class/test/MusicDelta_SpeedMetal_class.txt',\n",
              " '/content/drive/My Drive/Maestria DM y KDD/Especializacion tesis/MDBDrums/MDB Drums/annotations/class/test/MusicDelta_Punk_class.txt',\n",
              " '/content/drive/My Drive/Maestria DM y KDD/Especializacion tesis/MDBDrums/MDB Drums/annotations/class/test/MusicDelta_ModalJazz_class.txt',\n",
              " '/content/drive/My Drive/Maestria DM y KDD/Especializacion tesis/MDBDrums/MDB Drums/annotations/class/test/MusicDelta_Gospel_class.txt',\n",
              " '/content/drive/My Drive/Maestria DM y KDD/Especializacion tesis/MDBDrums/MDB Drums/annotations/class/test/MusicDelta_LatinJazz_class.txt',\n",
              " '/content/drive/My Drive/Maestria DM y KDD/Especializacion tesis/MDBDrums/MDB Drums/annotations/class/test/MusicDelta_Grunge_class.txt']"
            ]
          },
          "metadata": {},
          "execution_count": 6
        }
      ]
    },
    {
      "cell_type": "markdown",
      "source": [
        "# Change cd path to ./utils folder , or use sys.insert.path(\"path_to_utils\")"
      ],
      "metadata": {
        "id": "NfLWuZlOvBnD"
      }
    },
    {
      "cell_type": "code",
      "metadata": {
        "colab": {
          "base_uri": "https://localhost:8080/"
        },
        "id": "-V4bu9odTJ3Q",
        "outputId": "f89f440d-0bc1-4bee-a0a9-801d6a26504c"
      },
      "source": [
        "%cd \"/content/drive/My Drive/Colab Notebooks/tesis_esp/\"\n",
        "import eval_utils\n",
        "import pred_utils"
      ],
      "execution_count": null,
      "outputs": [
        {
          "output_type": "stream",
          "name": "stdout",
          "text": [
            "/content/drive/My Drive/Colab Notebooks/tesis_esp\n"
          ]
        }
      ]
    },
    {
      "cell_type": "markdown",
      "source": [
        "# Load models"
      ],
      "metadata": {
        "id": "l9uPWQq4069T"
      }
    },
    {
      "cell_type": "code",
      "source": [
        "class ModelWrapper():\n",
        "  def __init__(self, model,target_label):\n",
        "    \"\"\"\n",
        "    This is just for converting the binary predictions to a string\n",
        "    Params:\n",
        "      model [binary_clf]: any binary classifier that will apply the predict \n",
        "                          method (output must be either 1 or 0)\n",
        "      target_label [str]: convert the 1 to target_label ; the zeros to other (both strings)\n",
        "\n",
        "    \"\"\"\n",
        "    self.model = model\n",
        "    self.target_label = target_label\n",
        "    self.predictions = None\n",
        "  def prediction_to_label(self, predictions):\n",
        "    predictions = np.select([predictions == 1,predictions == 0],[self.target_label,\"OTHER\"], default=\"ERROR\")\n",
        "    predictions_error = predictions[predictions == \"ERROR\"]\n",
        "    if len(predictions_error)>1:\n",
        "      raise ValueError(\"[ERROR] Default predictions are >1; check your predicted output\")\n",
        "    return predictions\n",
        "  def predict(self, X):\n",
        "    \"\"\"\n",
        "    Params:\n",
        "      X [np.ndarray,pd.DataFrame]: input for predicitng\n",
        "    Return:\n",
        "      predictions_labelized\n",
        "    \"\"\"\n",
        "    self.predictions = self.model.predict(X)\n",
        "    self.predictions_labelized = self.prediction_to_label(self.predictions)\n",
        "    return self.predictions_labelized\n"
      ],
      "metadata": {
        "id": "8pnXul7E6wz1"
      },
      "execution_count": null,
      "outputs": []
    },
    {
      "cell_type": "markdown",
      "source": [
        "# You can find models in ./models, remember to change the paths. "
      ],
      "metadata": {
        "id": "jIbalky8u5Qb"
      }
    },
    {
      "cell_type": "code",
      "source": [
        "model_type = \"SVC\"\n",
        "\n",
        "if model_type == \"SVC\":\n",
        "  print(\"[INFO ]Loading SVC models\")\n",
        "  # load all models SVC classifier, each of them has it own aparameters ; to acces to them use model_hh.best_estimator_\n",
        "  model_tt = pred_utils.load_model(os.path.join(EXP_PIPE_DATA,'v2_svc_model_TT.joblib'))\n",
        "  model_cy = pred_utils.load_model(os.path.join(EXP_PIPE_DATA,'v2_svc_model_CY.joblib'))\n",
        "  model_kd = pred_utils.load_model(os.path.join(EXP_PIPE_DATA,'v2_svc_model_KD.joblib'))\n",
        "  model_sd = pred_utils.load_model(os.path.join(EXP_PIPE_DATA,'v2_svc_model_SD.joblib'))\n",
        "  model_hh = pred_utils.load_model(os.path.join(EXP_PIPE_DATA,'v2_svc_model_HH.joblib'))\n",
        "  model_ot = pred_utils.load_model(os.path.join(EXP_PIPE_DATA,'v2_svc_model_OT.joblib'))\n",
        "elif model_type == \"NN\":\n",
        "  print(\"[INFO ]Loading NN  models\")\n",
        "  model_tt = pred_utils.load_model(os.path.join(EXP_PIPE_DATA,'nn_model_TT.pth'))\n",
        "  model_cy = pred_utils.oad_model(os.path.join(EXP_PIPE_DATA,'nn_model_CY.pth'))\n",
        "  model_kd = pred_utils.load_model(os.path.join(EXP_PIPE_DATA,'nn_model_KD.pth'))\n",
        "  model_sd = pred_utils.load_model(os.path.join(EXP_PIPE_DATA,'nn_model_SD.pth'))\n",
        "  model_hh = pred_utils.load_model(os.path.join(EXP_PIPE_DATA,'nn_model_HH.pth'))\n",
        "  model_ot = pred_utils.load_model(os.path.join(EXP_PIPE_DATA,'nn_model_OT.pth'))\n",
        "else:\n",
        "  raise ValueError(\"Param: model_type must be 'SVC' or 'NN' for now, please choose a valid model\")\n",
        "\n",
        "models_list = [model_tt,model_cy,model_kd,model_sd,model_hh,model_ot]"
      ],
      "metadata": {
        "colab": {
          "base_uri": "https://localhost:8080/"
        },
        "id": "JprOWg9C08Gl",
        "outputId": "62bb97a9-ef91-4302-9613-df999d18d081"
      },
      "execution_count": null,
      "outputs": [
        {
          "output_type": "stream",
          "name": "stdout",
          "text": [
            "[INFO ]Loading SVC models\n"
          ]
        }
      ]
    },
    {
      "cell_type": "markdown",
      "source": [
        "## Convert models from 1 or 0z to target -  other"
      ],
      "metadata": {
        "id": "9op2cklg-xMo"
      }
    },
    {
      "cell_type": "code",
      "source": [
        "models_list = [\n",
        "              ModelWrapper(model_tt, \"TT\"),\n",
        "               ModelWrapper(model_cy,\"CY\"),\n",
        "               ModelWrapper(model_kd,\"KD\"),\n",
        "               ModelWrapper(model_sd,\"SD\"),\n",
        "               ModelWrapper(model_hh,\"HH\"),\n",
        "               ModelWrapper(model_ot,\"OT\"),\n",
        "               ]"
      ],
      "metadata": {
        "id": "XJrDiOft9iSM"
      },
      "execution_count": null,
      "outputs": []
    },
    {
      "cell_type": "code",
      "metadata": {
        "id": "Rts2xCUMNduK"
      },
      "source": [
        "# step 1 load the annotations dataset you want to scan\n",
        "# step 2 load the corresponding .wav\n",
        "# step 3 for each sound of the annotations, add the label (break step inot more steps)#\n",
        "# step 4 use evalmetrics class\n",
        "config_signal_params = {\"hop_size\":256,\"n_fft\":1024,\"desired_signal_size_for_padding\":4096,\"seconds_window\":0.05}\n",
        "hop_size, n_fft, desired_signal_size_for_padding, seconds_window  = config_signal_params.values()"
      ],
      "execution_count": null,
      "outputs": []
    },
    {
      "cell_type": "code",
      "metadata": {
        "id": "61Kl7HR1O04o"
      },
      "source": [
        "# step1\n",
        "\n",
        "def pipeline_generate_datasets(annotation_path: str):\n",
        "  \"\"\"\n",
        "  --------------------------------------------------------------------------------\n",
        "  Given an annotation path, this function will geneate datasets with \n",
        "  predictions on a .wav and its annotation (loading the .txt);\n",
        "   this is a pre function for calculatiing precision and recall\n",
        "   --------------------------------------------------------------------------------\n",
        "  args: \n",
        "    annotation_path -> .wav song ; a .txt with the same name must exist\n",
        "    drum_types_detector -> DrumTypesDetector class with all params and models loaded\n",
        "  return:\n",
        "    df_annotation -> annotations loaded into dataframe\n",
        "    df_predicted -> predictiosn from the model (comes from pred_utils models)\n",
        "  In case you wanna change the models you ened to change : pred_utils.config_signal_params, sklearn_models_list within the function; the rest will be the same\n",
        "  \"\"\"\n",
        "  df_annotation = eval_utils.load_labels(annotation_path,set2df = True)\n",
        "  # step 2: load correponsding .wav\n",
        "  # 2.a search path\n",
        "  wav_path = eval_utils.search_correspondingpath_given_annotation(annotation_path_txt = annotation_path, audio_directory = AUDIO_DIR)\n",
        "  # 2.b now load the wav\n",
        "  signal,sampling_rate = librosa.load(wav_path)\n",
        "  # 3.c) now use annotations onset, here you could use an onset detection method aswell  and DruMTypesDetector's instance to create a dataset with annotations and predictions \n",
        "  # 3.c.i) first set onset time to onset_sample\n",
        "  df_annotation[\"onset_sample\"] = (df_annotation[\"onset_time\"].astype(\"float\")*sampling_rate).astype(\"int\")\n",
        "  onsets_annotation_list = df_annotation[\"onset_sample\"].tolist()\n",
        "  # 3.d) now perform the predicts and put this into a dataframe\n",
        "  drum_types_detector = pred_utils.DrumTypesDetector(config_signal_params,\n",
        "                                        sklearn_models_list = models_list,\n",
        "                                        flatten_data = True)\n",
        "  drum_types_detector(wav_path, presettled_onsets= onsets_annotation_list)\n",
        "  df_predicted = pd.DataFrame(drum_types_detector.list_formatted_onsets, columns=[\"onset_time\",\"predicted_drumtype\"])\n",
        "  # now write annotation path for both datasets\n",
        "  df_predicted[\"annotation_path\"] = annotation_path\n",
        "  df_annotation[\"annotation_path\"] = annotation_path\n",
        "  return df_annotation, df_predicted\n",
        "# now compute the metrics\n",
        "\n",
        "\n"
      ],
      "execution_count": null,
      "outputs": []
    },
    {
      "cell_type": "markdown",
      "source": [
        "# Run prediction  pipeline for all songs "
      ],
      "metadata": {
        "id": "EBAhhyI1DbVF"
      }
    },
    {
      "cell_type": "code",
      "metadata": {
        "colab": {
          "base_uri": "https://localhost:8080/"
        },
        "id": "rIqnAgmhhApE",
        "outputId": "3e3bb37a-b649-49d2-cae9-2c159fd6eb07"
      },
      "source": [
        "# build a huge dataset with this pipeline\n",
        "annotation_list, predicted_list = list(), list()\n",
        "#  vbuild a dataset with all path\n",
        "counter = 0\n",
        "total_files2process = len(annotations_test_filepaths)\n",
        "for annotation_path in annotations_test_filepaths:\n",
        "  print(\"Proportion of processed:\",round(counter/total_files2process,2))\n",
        "  df_annotation, df_predicted = pipeline_generate_datasets(\n",
        "                            annotation_path,\n",
        "                            )\n",
        "  annotation_list.append(df_annotation)\n",
        "  predicted_list.append(df_predicted)\n",
        "  counter += 1\n",
        "# now create a df based on the list of dfs\n",
        "df_annotation_all = pd.concat(annotation_list)\n",
        "df_predicted_all = pd.concat(predicted_list)"
      ],
      "execution_count": null,
      "outputs": [
        {
          "output_type": "stream",
          "name": "stdout",
          "text": [
            "Proportion of processed: 0.0\n",
            "Proportion of processed: 0.09\n",
            "Proportion of processed: 0.18\n",
            "Proportion of processed: 0.27\n",
            "Proportion of processed: 0.36\n",
            "Proportion of processed: 0.45\n",
            "Proportion of processed: 0.55\n",
            "Proportion of processed: 0.64\n",
            "Proportion of processed: 0.73\n",
            "Proportion of processed: 0.82\n",
            "Proportion of processed: 0.91\n"
          ]
        }
      ]
    },
    {
      "cell_type": "code",
      "source": [
        "df_annotation_all.head()"
      ],
      "metadata": {
        "colab": {
          "base_uri": "https://localhost:8080/",
          "height": 206
        },
        "id": "9fOqBlqT4hta",
        "outputId": "d5299043-9b7e-4fbc-f73e-ec1596c0f232"
      },
      "execution_count": null,
      "outputs": [
        {
          "output_type": "execute_result",
          "data": {
            "text/plain": [
              "  onset_time drum_type  onset_sample  \\\n",
              "0   0.020000        KD           441   \n",
              "1   0.020408        HH           449   \n",
              "2   0.290000        KD          6394   \n",
              "3   0.295918        HH          6524   \n",
              "4   0.570000        SD         12568   \n",
              "\n",
              "                                     annotation_path  \n",
              "0  /content/drive/My Drive/Maestria DM y KDD/Espe...  \n",
              "1  /content/drive/My Drive/Maestria DM y KDD/Espe...  \n",
              "2  /content/drive/My Drive/Maestria DM y KDD/Espe...  \n",
              "3  /content/drive/My Drive/Maestria DM y KDD/Espe...  \n",
              "4  /content/drive/My Drive/Maestria DM y KDD/Espe...  "
            ],
            "text/html": [
              "\n",
              "  <div id=\"df-c109bedb-baf8-4a92-8e3e-8edef7a60d35\">\n",
              "    <div class=\"colab-df-container\">\n",
              "      <div>\n",
              "<style scoped>\n",
              "    .dataframe tbody tr th:only-of-type {\n",
              "        vertical-align: middle;\n",
              "    }\n",
              "\n",
              "    .dataframe tbody tr th {\n",
              "        vertical-align: top;\n",
              "    }\n",
              "\n",
              "    .dataframe thead th {\n",
              "        text-align: right;\n",
              "    }\n",
              "</style>\n",
              "<table border=\"1\" class=\"dataframe\">\n",
              "  <thead>\n",
              "    <tr style=\"text-align: right;\">\n",
              "      <th></th>\n",
              "      <th>onset_time</th>\n",
              "      <th>drum_type</th>\n",
              "      <th>onset_sample</th>\n",
              "      <th>annotation_path</th>\n",
              "    </tr>\n",
              "  </thead>\n",
              "  <tbody>\n",
              "    <tr>\n",
              "      <th>0</th>\n",
              "      <td>0.020000</td>\n",
              "      <td>KD</td>\n",
              "      <td>441</td>\n",
              "      <td>/content/drive/My Drive/Maestria DM y KDD/Espe...</td>\n",
              "    </tr>\n",
              "    <tr>\n",
              "      <th>1</th>\n",
              "      <td>0.020408</td>\n",
              "      <td>HH</td>\n",
              "      <td>449</td>\n",
              "      <td>/content/drive/My Drive/Maestria DM y KDD/Espe...</td>\n",
              "    </tr>\n",
              "    <tr>\n",
              "      <th>2</th>\n",
              "      <td>0.290000</td>\n",
              "      <td>KD</td>\n",
              "      <td>6394</td>\n",
              "      <td>/content/drive/My Drive/Maestria DM y KDD/Espe...</td>\n",
              "    </tr>\n",
              "    <tr>\n",
              "      <th>3</th>\n",
              "      <td>0.295918</td>\n",
              "      <td>HH</td>\n",
              "      <td>6524</td>\n",
              "      <td>/content/drive/My Drive/Maestria DM y KDD/Espe...</td>\n",
              "    </tr>\n",
              "    <tr>\n",
              "      <th>4</th>\n",
              "      <td>0.570000</td>\n",
              "      <td>SD</td>\n",
              "      <td>12568</td>\n",
              "      <td>/content/drive/My Drive/Maestria DM y KDD/Espe...</td>\n",
              "    </tr>\n",
              "  </tbody>\n",
              "</table>\n",
              "</div>\n",
              "      <button class=\"colab-df-convert\" onclick=\"convertToInteractive('df-c109bedb-baf8-4a92-8e3e-8edef7a60d35')\"\n",
              "              title=\"Convert this dataframe to an interactive table.\"\n",
              "              style=\"display:none;\">\n",
              "        \n",
              "  <svg xmlns=\"http://www.w3.org/2000/svg\" height=\"24px\"viewBox=\"0 0 24 24\"\n",
              "       width=\"24px\">\n",
              "    <path d=\"M0 0h24v24H0V0z\" fill=\"none\"/>\n",
              "    <path d=\"M18.56 5.44l.94 2.06.94-2.06 2.06-.94-2.06-.94-.94-2.06-.94 2.06-2.06.94zm-11 1L8.5 8.5l.94-2.06 2.06-.94-2.06-.94L8.5 2.5l-.94 2.06-2.06.94zm10 10l.94 2.06.94-2.06 2.06-.94-2.06-.94-.94-2.06-.94 2.06-2.06.94z\"/><path d=\"M17.41 7.96l-1.37-1.37c-.4-.4-.92-.59-1.43-.59-.52 0-1.04.2-1.43.59L10.3 9.45l-7.72 7.72c-.78.78-.78 2.05 0 2.83L4 21.41c.39.39.9.59 1.41.59.51 0 1.02-.2 1.41-.59l7.78-7.78 2.81-2.81c.8-.78.8-2.07 0-2.86zM5.41 20L4 18.59l7.72-7.72 1.47 1.35L5.41 20z\"/>\n",
              "  </svg>\n",
              "      </button>\n",
              "      \n",
              "  <style>\n",
              "    .colab-df-container {\n",
              "      display:flex;\n",
              "      flex-wrap:wrap;\n",
              "      gap: 12px;\n",
              "    }\n",
              "\n",
              "    .colab-df-convert {\n",
              "      background-color: #E8F0FE;\n",
              "      border: none;\n",
              "      border-radius: 50%;\n",
              "      cursor: pointer;\n",
              "      display: none;\n",
              "      fill: #1967D2;\n",
              "      height: 32px;\n",
              "      padding: 0 0 0 0;\n",
              "      width: 32px;\n",
              "    }\n",
              "\n",
              "    .colab-df-convert:hover {\n",
              "      background-color: #E2EBFA;\n",
              "      box-shadow: 0px 1px 2px rgba(60, 64, 67, 0.3), 0px 1px 3px 1px rgba(60, 64, 67, 0.15);\n",
              "      fill: #174EA6;\n",
              "    }\n",
              "\n",
              "    [theme=dark] .colab-df-convert {\n",
              "      background-color: #3B4455;\n",
              "      fill: #D2E3FC;\n",
              "    }\n",
              "\n",
              "    [theme=dark] .colab-df-convert:hover {\n",
              "      background-color: #434B5C;\n",
              "      box-shadow: 0px 1px 3px 1px rgba(0, 0, 0, 0.15);\n",
              "      filter: drop-shadow(0px 1px 2px rgba(0, 0, 0, 0.3));\n",
              "      fill: #FFFFFF;\n",
              "    }\n",
              "  </style>\n",
              "\n",
              "      <script>\n",
              "        const buttonEl =\n",
              "          document.querySelector('#df-c109bedb-baf8-4a92-8e3e-8edef7a60d35 button.colab-df-convert');\n",
              "        buttonEl.style.display =\n",
              "          google.colab.kernel.accessAllowed ? 'block' : 'none';\n",
              "\n",
              "        async function convertToInteractive(key) {\n",
              "          const element = document.querySelector('#df-c109bedb-baf8-4a92-8e3e-8edef7a60d35');\n",
              "          const dataTable =\n",
              "            await google.colab.kernel.invokeFunction('convertToInteractive',\n",
              "                                                     [key], {});\n",
              "          if (!dataTable) return;\n",
              "\n",
              "          const docLinkHtml = 'Like what you see? Visit the ' +\n",
              "            '<a target=\"_blank\" href=https://colab.research.google.com/notebooks/data_table.ipynb>data table notebook</a>'\n",
              "            + ' to learn more about interactive tables.';\n",
              "          element.innerHTML = '';\n",
              "          dataTable['output_type'] = 'display_data';\n",
              "          await google.colab.output.renderOutput(dataTable, element);\n",
              "          const docLink = document.createElement('div');\n",
              "          docLink.innerHTML = docLinkHtml;\n",
              "          element.appendChild(docLink);\n",
              "        }\n",
              "      </script>\n",
              "    </div>\n",
              "  </div>\n",
              "  "
            ]
          },
          "metadata": {},
          "execution_count": 17
        }
      ]
    },
    {
      "cell_type": "code",
      "source": [
        "df_predicted_all.head()"
      ],
      "metadata": {
        "colab": {
          "base_uri": "https://localhost:8080/",
          "height": 206
        },
        "id": "1WMfQp4s4Bsg",
        "outputId": "7c6cf0f6-77f5-4f73-abc4-409c49dbe266"
      },
      "execution_count": null,
      "outputs": [
        {
          "output_type": "execute_result",
          "data": {
            "text/plain": [
              "   onset_time predicted_drumtype  \\\n",
              "0    0.020000                 CY   \n",
              "1    0.020000                 SD   \n",
              "2    0.020000                 HH   \n",
              "3    0.020363                 CY   \n",
              "4    0.020363                 SD   \n",
              "\n",
              "                                     annotation_path  \n",
              "0  /content/drive/My Drive/Maestria DM y KDD/Espe...  \n",
              "1  /content/drive/My Drive/Maestria DM y KDD/Espe...  \n",
              "2  /content/drive/My Drive/Maestria DM y KDD/Espe...  \n",
              "3  /content/drive/My Drive/Maestria DM y KDD/Espe...  \n",
              "4  /content/drive/My Drive/Maestria DM y KDD/Espe...  "
            ],
            "text/html": [
              "\n",
              "  <div id=\"df-dc7cdc72-2378-43a0-8fd7-f4d0f468984b\">\n",
              "    <div class=\"colab-df-container\">\n",
              "      <div>\n",
              "<style scoped>\n",
              "    .dataframe tbody tr th:only-of-type {\n",
              "        vertical-align: middle;\n",
              "    }\n",
              "\n",
              "    .dataframe tbody tr th {\n",
              "        vertical-align: top;\n",
              "    }\n",
              "\n",
              "    .dataframe thead th {\n",
              "        text-align: right;\n",
              "    }\n",
              "</style>\n",
              "<table border=\"1\" class=\"dataframe\">\n",
              "  <thead>\n",
              "    <tr style=\"text-align: right;\">\n",
              "      <th></th>\n",
              "      <th>onset_time</th>\n",
              "      <th>predicted_drumtype</th>\n",
              "      <th>annotation_path</th>\n",
              "    </tr>\n",
              "  </thead>\n",
              "  <tbody>\n",
              "    <tr>\n",
              "      <th>0</th>\n",
              "      <td>0.020000</td>\n",
              "      <td>CY</td>\n",
              "      <td>/content/drive/My Drive/Maestria DM y KDD/Espe...</td>\n",
              "    </tr>\n",
              "    <tr>\n",
              "      <th>1</th>\n",
              "      <td>0.020000</td>\n",
              "      <td>SD</td>\n",
              "      <td>/content/drive/My Drive/Maestria DM y KDD/Espe...</td>\n",
              "    </tr>\n",
              "    <tr>\n",
              "      <th>2</th>\n",
              "      <td>0.020000</td>\n",
              "      <td>HH</td>\n",
              "      <td>/content/drive/My Drive/Maestria DM y KDD/Espe...</td>\n",
              "    </tr>\n",
              "    <tr>\n",
              "      <th>3</th>\n",
              "      <td>0.020363</td>\n",
              "      <td>CY</td>\n",
              "      <td>/content/drive/My Drive/Maestria DM y KDD/Espe...</td>\n",
              "    </tr>\n",
              "    <tr>\n",
              "      <th>4</th>\n",
              "      <td>0.020363</td>\n",
              "      <td>SD</td>\n",
              "      <td>/content/drive/My Drive/Maestria DM y KDD/Espe...</td>\n",
              "    </tr>\n",
              "  </tbody>\n",
              "</table>\n",
              "</div>\n",
              "      <button class=\"colab-df-convert\" onclick=\"convertToInteractive('df-dc7cdc72-2378-43a0-8fd7-f4d0f468984b')\"\n",
              "              title=\"Convert this dataframe to an interactive table.\"\n",
              "              style=\"display:none;\">\n",
              "        \n",
              "  <svg xmlns=\"http://www.w3.org/2000/svg\" height=\"24px\"viewBox=\"0 0 24 24\"\n",
              "       width=\"24px\">\n",
              "    <path d=\"M0 0h24v24H0V0z\" fill=\"none\"/>\n",
              "    <path d=\"M18.56 5.44l.94 2.06.94-2.06 2.06-.94-2.06-.94-.94-2.06-.94 2.06-2.06.94zm-11 1L8.5 8.5l.94-2.06 2.06-.94-2.06-.94L8.5 2.5l-.94 2.06-2.06.94zm10 10l.94 2.06.94-2.06 2.06-.94-2.06-.94-.94-2.06-.94 2.06-2.06.94z\"/><path d=\"M17.41 7.96l-1.37-1.37c-.4-.4-.92-.59-1.43-.59-.52 0-1.04.2-1.43.59L10.3 9.45l-7.72 7.72c-.78.78-.78 2.05 0 2.83L4 21.41c.39.39.9.59 1.41.59.51 0 1.02-.2 1.41-.59l7.78-7.78 2.81-2.81c.8-.78.8-2.07 0-2.86zM5.41 20L4 18.59l7.72-7.72 1.47 1.35L5.41 20z\"/>\n",
              "  </svg>\n",
              "      </button>\n",
              "      \n",
              "  <style>\n",
              "    .colab-df-container {\n",
              "      display:flex;\n",
              "      flex-wrap:wrap;\n",
              "      gap: 12px;\n",
              "    }\n",
              "\n",
              "    .colab-df-convert {\n",
              "      background-color: #E8F0FE;\n",
              "      border: none;\n",
              "      border-radius: 50%;\n",
              "      cursor: pointer;\n",
              "      display: none;\n",
              "      fill: #1967D2;\n",
              "      height: 32px;\n",
              "      padding: 0 0 0 0;\n",
              "      width: 32px;\n",
              "    }\n",
              "\n",
              "    .colab-df-convert:hover {\n",
              "      background-color: #E2EBFA;\n",
              "      box-shadow: 0px 1px 2px rgba(60, 64, 67, 0.3), 0px 1px 3px 1px rgba(60, 64, 67, 0.15);\n",
              "      fill: #174EA6;\n",
              "    }\n",
              "\n",
              "    [theme=dark] .colab-df-convert {\n",
              "      background-color: #3B4455;\n",
              "      fill: #D2E3FC;\n",
              "    }\n",
              "\n",
              "    [theme=dark] .colab-df-convert:hover {\n",
              "      background-color: #434B5C;\n",
              "      box-shadow: 0px 1px 3px 1px rgba(0, 0, 0, 0.15);\n",
              "      filter: drop-shadow(0px 1px 2px rgba(0, 0, 0, 0.3));\n",
              "      fill: #FFFFFF;\n",
              "    }\n",
              "  </style>\n",
              "\n",
              "      <script>\n",
              "        const buttonEl =\n",
              "          document.querySelector('#df-dc7cdc72-2378-43a0-8fd7-f4d0f468984b button.colab-df-convert');\n",
              "        buttonEl.style.display =\n",
              "          google.colab.kernel.accessAllowed ? 'block' : 'none';\n",
              "\n",
              "        async function convertToInteractive(key) {\n",
              "          const element = document.querySelector('#df-dc7cdc72-2378-43a0-8fd7-f4d0f468984b');\n",
              "          const dataTable =\n",
              "            await google.colab.kernel.invokeFunction('convertToInteractive',\n",
              "                                                     [key], {});\n",
              "          if (!dataTable) return;\n",
              "\n",
              "          const docLinkHtml = 'Like what you see? Visit the ' +\n",
              "            '<a target=\"_blank\" href=https://colab.research.google.com/notebooks/data_table.ipynb>data table notebook</a>'\n",
              "            + ' to learn more about interactive tables.';\n",
              "          element.innerHTML = '';\n",
              "          dataTable['output_type'] = 'display_data';\n",
              "          await google.colab.output.renderOutput(dataTable, element);\n",
              "          const docLink = document.createElement('div');\n",
              "          docLink.innerHTML = docLinkHtml;\n",
              "          element.appendChild(docLink);\n",
              "        }\n",
              "      </script>\n",
              "    </div>\n",
              "  </div>\n",
              "  "
            ]
          },
          "metadata": {},
          "execution_count": 14
        }
      ]
    },
    {
      "cell_type": "markdown",
      "source": [
        "# Once you have predictions and annotations, compute the required metrics for each drum_type"
      ],
      "metadata": {
        "id": "8iCOqJ9nHbIO"
      }
    },
    {
      "cell_type": "code",
      "metadata": {
        "colab": {
          "base_uri": "https://localhost:8080/"
        },
        "id": "OcjjxX2thDUj",
        "outputId": "be4470d1-a886-46fe-db51-b8bde118f865"
      },
      "source": [
        "# criterion; this criterion is for onset detection;\n",
        "# but take into account that you are passing five models, \n",
        "# for example if the HH is on second 0.02 and SD on 0.03 ; using window time\n",
        "# you can recognize the HH at second 0.03 and SD at second 0.02; and this will be correct (since it is part of the same STFT / sound)\n",
        "# therefore teheres no need to change sample criterion so much (0.01 is min in recognition)\n",
        "seconds_criterion = 0.03\n",
        "# this is for all of our songs (see it in the librosa.laod return)\n",
        "sampling_rate =  int(44100/2)\n",
        "# add onset_sample which if forgot\n",
        "df_predicted_all[\"onset_sample\"] = (df_predicted_all[\"onset_time\"]*sampling_rate).astype(\"int\")\n",
        "df_predicted_all[\"drum_type\"] = df_predicted_all[\"predicted_drumtype\"]\n",
        "#\n",
        "samples_criterion = int(seconds_criterion*sampling_rate)\n",
        "# all drumtypes\n",
        "drum_types_list = [\"KD\",\"SD\",\"HH\",\"CY\",\"OT\",\"TT\"]\n",
        "\n",
        "# list all the metrics for each drumtype\n",
        "metrics_dict_list = list()\n",
        "for drum_type in drum_types_list:\n",
        "  compute_metrics = eval_utils.ComputeMetrics(true_labels = df_annotation_all, predicted_labels = df_predicted_all, samples_criterion = samples_criterion, filter_drumtype = drum_type)\n",
        "  metrics_dict = compute_metrics()\n",
        "  metrics_dict[\"drum_type\"] = drum_type\n",
        "  metrics_dict_list.append(metrics_dict)"
      ],
      "execution_count": null,
      "outputs": [
        {
          "output_type": "stream",
          "name": "stderr",
          "text": [
            "/content/drive/My Drive/Colab Notebooks/tesis_esp/eval_utils.py:106: UserWarning: [WARNING] n_detected_onsets_within_range > 1!\n",
            "  warnings.warn(\"[WARNING] n_detected_onsets_within_range > 1!\")\n",
            "/content/drive/My Drive/Colab Notebooks/tesis_esp/eval_utils.py:153: RuntimeWarning: invalid value encountered in double_scalars\n",
            "  f1 = 2 * (self.precision * self.recall )/(self.precision + self.recall)\n"
          ]
        }
      ]
    },
    {
      "cell_type": "code",
      "source": [
        "metrics_dict_list"
      ],
      "metadata": {
        "colab": {
          "base_uri": "https://localhost:8080/"
        },
        "id": "V_1IM_P5BWB9",
        "outputId": "d767ecb8-7c72-439e-e14f-868209656e82"
      },
      "execution_count": null,
      "outputs": [
        {
          "output_type": "execute_result",
          "data": {
            "text/plain": [
              "[{'recall': 0.9498861047835991,\n",
              "  'precision': 0.9775112443778111,\n",
              "  'f1_score': 0.9635007007851274,\n",
              "  'drum_type': 'KD'},\n",
              " {'recall': 0.945925925925926,\n",
              "  'precision': 0.7879890809827116,\n",
              "  'f1_score': 0.8597645191121712,\n",
              "  'drum_type': 'SD'},\n",
              " {'recall': 0.8861003861003861,\n",
              "  'precision': 0.7031618688060406,\n",
              "  'f1_score': 0.7841021851699197,\n",
              "  'drum_type': 'HH'},\n",
              " {'recall': 0.37142857142857144,\n",
              "  'precision': 0.6076696165191741,\n",
              "  'f1_score': 0.4610484634587243,\n",
              "  'drum_type': 'CY'},\n",
              " {'recall': 0.0, 'precision': 0.0, 'f1_score': nan, 'drum_type': 'OT'},\n",
              " {'recall': 0.08,\n",
              "  'precision': 0.8571428571428571,\n",
              "  'f1_score': 0.14634146341463417,\n",
              "  'drum_type': 'TT'}]"
            ]
          },
          "metadata": {},
          "execution_count": 16
        }
      ]
    },
    {
      "cell_type": "code",
      "source": [],
      "metadata": {
        "id": "PEyH05DE4FIp"
      },
      "execution_count": null,
      "outputs": []
    }
  ]
}