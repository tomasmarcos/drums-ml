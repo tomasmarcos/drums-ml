{
  "nbformat": 4,
  "nbformat_minor": 0,
  "metadata": {
    "colab": {
      "provenance": [],
      "collapsed_sections": []
    },
    "kernelspec": {
      "name": "python3",
      "display_name": "Python 3"
    },
    "language_info": {
      "name": "python"
    }
  },
  "cells": [
    {
      "cell_type": "code",
      "metadata": {
        "id": "LJo_DYYBFIRR"
      },
      "source": [
        "SCRIPT_INTRODUCTION = \"\"\"\n",
        "   ==================== [_Kopie von ESP_Pipe003_evaluationJustRecognition_REFACTORED_NEWnn] ====================\n",
        "  This Script was intended to build a recognition evaluation, for the onsets, using SVM models. Copy this notebooks as a reference\n",
        "  to make it for other models. \n",
        "  ==================== ==================[ INFO ] ==============================\n",
        "\"\"\"\n",
        "\n",
        "import librosa\n",
        "from google.colab import drive\n",
        "import os,sys,re,pandas as pd,numpy as np\n",
        "import glob\n",
        "import logging\n",
        "from sympy import Interval\n",
        "import warnings\n",
        "# torch\n",
        "import torch.nn as nn\n",
        "import torch.nn.functional as F\n",
        "import torchvision\n",
        "import torch\n",
        "import torch.optim as optim"
      ],
      "execution_count": null,
      "outputs": []
    },
    {
      "cell_type": "code",
      "metadata": {
        "id": "rCaPwqEcFcqY",
        "colab": {
          "base_uri": "https://localhost:8080/"
        },
        "outputId": "d439dc3e-632c-4a29-fb91-5ec1624c5c06"
      },
      "source": [
        "ROOT_DIR = \"/content/drive\"\n",
        "drive.mount(ROOT_DIR)\n",
        "MUSIC_DIR = os.path.join(ROOT_DIR,'My Drive/Maestria DM y KDD/Especializacion tesis/MDBDrums/MDB Drums')\n",
        "AUDIO_DIR = os.path.join(MUSIC_DIR,'audio','drum_only')\n",
        "ANNOTATIONS_DIR = os.path.join(MUSIC_DIR,'annotations','class')\n",
        "ANNOTATIONS_DIR_TEST = os.path.join(ANNOTATIONS_DIR,'test')\n",
        "EXP_PIPE_DATA = os.path.join(MUSIC_DIR,'pipe005_multiplemodelsdata_corrected_over60')\n",
        "annotations_test_filepaths = glob.glob(ANNOTATIONS_DIR_TEST+\"/*.txt\")\n",
        "annotations_test_filepaths"
      ],
      "execution_count": null,
      "outputs": [
        {
          "output_type": "stream",
          "name": "stdout",
          "text": [
            "Mounted at /content/drive\n"
          ]
        },
        {
          "output_type": "execute_result",
          "data": {
            "text/plain": [
              "['/content/drive/My Drive/Maestria DM y KDD/Especializacion tesis/MDBDrums/MDB Drums/annotations/class/test/MusicDelta_Hendrix_class.txt',\n",
              " '/content/drive/My Drive/Maestria DM y KDD/Especializacion tesis/MDBDrums/MDB Drums/annotations/class/test/MusicDelta_SwingJazz_class.txt',\n",
              " '/content/drive/My Drive/Maestria DM y KDD/Especializacion tesis/MDBDrums/MDB Drums/annotations/class/test/MusicDelta_FreeJazz_class.txt',\n",
              " '/content/drive/My Drive/Maestria DM y KDD/Especializacion tesis/MDBDrums/MDB Drums/annotations/class/test/MusicDelta_Beatles_class.txt',\n",
              " '/content/drive/My Drive/Maestria DM y KDD/Especializacion tesis/MDBDrums/MDB Drums/annotations/class/test/MusicDelta_Country1_class.txt',\n",
              " '/content/drive/My Drive/Maestria DM y KDD/Especializacion tesis/MDBDrums/MDB Drums/annotations/class/test/MusicDelta_SpeedMetal_class.txt',\n",
              " '/content/drive/My Drive/Maestria DM y KDD/Especializacion tesis/MDBDrums/MDB Drums/annotations/class/test/MusicDelta_Punk_class.txt',\n",
              " '/content/drive/My Drive/Maestria DM y KDD/Especializacion tesis/MDBDrums/MDB Drums/annotations/class/test/MusicDelta_ModalJazz_class.txt',\n",
              " '/content/drive/My Drive/Maestria DM y KDD/Especializacion tesis/MDBDrums/MDB Drums/annotations/class/test/MusicDelta_Gospel_class.txt',\n",
              " '/content/drive/My Drive/Maestria DM y KDD/Especializacion tesis/MDBDrums/MDB Drums/annotations/class/test/MusicDelta_LatinJazz_class.txt',\n",
              " '/content/drive/My Drive/Maestria DM y KDD/Especializacion tesis/MDBDrums/MDB Drums/annotations/class/test/MusicDelta_Grunge_class.txt']"
            ]
          },
          "metadata": {},
          "execution_count": 2
        }
      ]
    },
    {
      "cell_type": "markdown",
      "source": [
        "# Change cd path to ./utils folder , or use sys.insert.path(\"path_to_utils\")"
      ],
      "metadata": {
        "id": "qzSzcfedvQcq"
      }
    },
    {
      "cell_type": "code",
      "metadata": {
        "colab": {
          "base_uri": "https://localhost:8080/"
        },
        "id": "-V4bu9odTJ3Q",
        "outputId": "23d01cdc-cd55-47bf-b650-a17df1d7c884"
      },
      "source": [
        "%cd \"/content/drive/My Drive/Colab Notebooks/tesis_esp/\"\n",
        "import eval_utils\n",
        "import pred_utils"
      ],
      "execution_count": null,
      "outputs": [
        {
          "output_type": "stream",
          "name": "stdout",
          "text": [
            "/content/drive/My Drive/Colab Notebooks/tesis_esp\n"
          ]
        }
      ]
    },
    {
      "cell_type": "markdown",
      "source": [
        "# Load models"
      ],
      "metadata": {
        "id": "l9uPWQq4069T"
      }
    },
    {
      "cell_type": "code",
      "source": [
        "class ModelWrapper():\n",
        "  def __init__(self, model,target_label):\n",
        "    \"\"\"\n",
        "    This is just for converting the binary predictions to a string\n",
        "    Params:\n",
        "      model [binary_clf]: any binary classifier that will apply the predict \n",
        "                          method (output must be either 1 or 0)\n",
        "      target_label [str]: convert the 1 to target_label ; the zeros to other (both strings)\n",
        "\n",
        "    \"\"\"\n",
        "    self.model = model\n",
        "    self.target_label = target_label\n",
        "    self.predictions = None\n",
        "  def prediction_to_label(self, predictions):\n",
        "    predictions = np.select([predictions == 1,predictions == 0],[self.target_label,\"OTHER\"], default=\"ERROR\")\n",
        "    predictions_error = predictions[predictions == \"ERROR\"]\n",
        "    if len(predictions_error)>1:\n",
        "      raise ValueError(\"[ERROR] Default predictions are >1; check your predicted output\")\n",
        "    return predictions\n",
        "  def predict(self, X):\n",
        "    \"\"\"\n",
        "    Params:\n",
        "      X [np.ndarray,pd.DataFrame]: input for predicitng\n",
        "    Return:\n",
        "      predictions_labelized\n",
        "    \"\"\"\n",
        "    self.predictions = self.model.predict(X)\n",
        "    self.predictions_labelized = self.prediction_to_label(self.predictions)\n",
        "    return self.predictions_labelized\n"
      ],
      "metadata": {
        "id": "8pnXul7E6wz1"
      },
      "execution_count": null,
      "outputs": []
    },
    {
      "cell_type": "code",
      "source": [
        "class Net(nn.Module):\n",
        "    def __init__(self,nchannels,nclasses, unique_labels, meanstd_normalize, prediction_threshold):\n",
        "        \"\"\"\n",
        "        unique_labels: list of labels to be mapped; example: ['OTHER','KD'] \n",
        "        meanstd_normalize:  output from torchvision.transforms.Normalize; for zscaling \n",
        "            o             the data\n",
        "        prediction_threshold: float in (0,1) interval; if proba>threshold then\n",
        "                      predicted class will be TARGET else other. \n",
        "        nclasses of the net; 2 in this case since we are applying binary classif\n",
        "        \"\"\"\n",
        "        # start\n",
        "        super().__init__()\n",
        "        self.prediction_threshold = torch.tensor([prediction_threshold])\n",
        "        # this is the normalizer to used in the predictor then\n",
        "        self.meanstd_normalizer = torchvision.transforms.Normalize(**meanstd_normalize, inplace=False) \n",
        "        # remove it if you want to this is jsut for cleaner predictions (use labels instead of etc)\n",
        "        self.unique_labels = unique_labels\n",
        "        # other attributes\n",
        "        self.nchannels = nchannels\n",
        "        self.nclasses = nclasses\n",
        "        self.conv1 = nn.Conv2d(self.nchannels, 6, 5)\n",
        "        self.pool = nn.MaxPool2d(2, 2)\n",
        "        self.conv2 = nn.Conv2d(6, 16, 5)\n",
        "        self.fc1 = nn.Linear(2000, 120)\n",
        "        self.dropout1 = nn.Dropout(p=0.5, inplace=False)\n",
        "        self.fc2 = nn.Linear(120, 84)\n",
        "        #self.dropout2 = nn.Dropout(p=0.3, inplace=False)\n",
        "        self.fc3 = nn.Linear(84, self.nclasses)\n",
        "    def forward(self, x):\n",
        "        # conv1 \n",
        "        x = self.conv1(x)\n",
        "        #print(\"Conv1:\",x.shape)\n",
        "        x =F.relu(x)\n",
        "        x = self.pool(x)\n",
        "        #print(\"Pool1:\",x.shape)\n",
        "        x = self.conv2(x)\n",
        "        #print(\"Conv2:\",x.shape)\n",
        "        x = F.relu(x)\n",
        "        x = self.pool(x)\n",
        "        #print(\"Pool2:\",x.shape)\n",
        "        # flatten  all dims except the batch; \n",
        "        x = torch.flatten(x, 1) # flatten all dimensions except batch\n",
        "        #print(\"Flattened, except batch:\",x.shape)\n",
        "        x = self.fc1(x)\n",
        "        x=F.relu(x)\n",
        "        x = self.dropout1(x)\n",
        "        x = self.fc2(x)\n",
        "        x = F.relu(x)\n",
        "        #x = self.dropout2(x)\n",
        "        # pass over fc3 omg\n",
        "        x = self.fc3(x)\n",
        "        x = torch.sigmoid(x)\n",
        "        return x\n",
        "    def map_idx2labels(self,mapped_labels,unique_labels):\n",
        "      labels = list()\n",
        "      for idx in range(len(mapped_labels)):\n",
        "        mapped_lab = mapped_labels[idx]\n",
        "        label_name = unique_labels[mapped_lab]\n",
        "        labels.append(label_name)\n",
        "      return labels\n",
        "\n",
        "    def predict(self,x_batch, predictions_to_labels = False):\n",
        "      \"\"\"\n",
        "      Final prediction function\n",
        "      params:\n",
        "        x_batch -> np.array model dimensions data_lenx513x17 data\n",
        "      return: mapped prediction (either target label or other)\n",
        "      \"\"\"\n",
        "      #x_batch = x_test[:10].copy()\n",
        "      #N = len(x_batch)\n",
        "      data_tensor = torch.tensor(x_batch, dtype=torch.float32)\n",
        "      N,H,W = data_tensor.shape\n",
        "      data_tensor = data_tensor.reshape(N,1,H,W)\n",
        "      # noramalize data\n",
        "      data_tensor = self.meanstd_normalizer(data_tensor)\n",
        "      #forward pass\n",
        "      predictions = self.forward(data_tensor)\n",
        "      if self.prediction_threshold is not None:\n",
        "        predictions = (predictions>=self.prediction_threshold).float()*1\n",
        "      if predictions_to_labels:\n",
        "        predictions = self.map_idx2labels(predictions,self.unique_labels)\n",
        "      return predictions\n",
        "\n"
      ],
      "metadata": {
        "id": "9KtYRYzx42_o"
      },
      "execution_count": null,
      "outputs": []
    },
    {
      "cell_type": "markdown",
      "source": [
        "# You can find models in ./models, remember to change the paths. "
      ],
      "metadata": {
        "id": "MgyNRcBivOgW"
      }
    },
    {
      "cell_type": "code",
      "source": [
        "model_type = \"NN\"\n",
        "\n",
        "if model_type == \"SVC\":\n",
        "  print(\"[INFO ]Loading SVC models\")\n",
        "  # load all models SVC classifier, each of them has it own aparameters ; to acces to them use model_hh.best_estimator_\n",
        "  model_tt = pred_utils.load_model(os.path.join(EXP_PIPE_DATA,'v2_svc_model_TT.joblib'))\n",
        "  model_cy = pred_utils.load_model(os.path.join(EXP_PIPE_DATA,'v2_svc_model_CY.joblib'))\n",
        "  model_kd = pred_utils.load_model(os.path.join(EXP_PIPE_DATA,'v2_svc_model_KD.joblib'))\n",
        "  model_sd = pred_utils.load_model(os.path.join(EXP_PIPE_DATA,'v2_svc_model_SD.joblib'))\n",
        "  model_hh = pred_utils.load_model(os.path.join(EXP_PIPE_DATA,'v2_svc_model_HH.joblib'))\n",
        "  model_ot = pred_utils.load_model(os.path.join(EXP_PIPE_DATA,'v2_svc_model_OT.joblib'))\n",
        "elif model_type == \"NN\":\n",
        "  print(\"[INFO ]Loading NN  models\")\n",
        "  model_tt = pred_utils.load_model(os.path.join(EXP_PIPE_DATA,'BinaryClassBCEnn_model_TT.pth'))\n",
        "  model_cy = pred_utils.load_model(os.path.join(EXP_PIPE_DATA,'BinaryClassBCEnn_model_CY.pth'))\n",
        "  model_kd = pred_utils.load_model(os.path.join(EXP_PIPE_DATA,'BinaryClassBCEnn_model_KD.pth'))\n",
        "  model_sd = pred_utils.load_model(os.path.join(EXP_PIPE_DATA,'BinaryClassBCEnn_model_SD.pth'))\n",
        "  model_hh = pred_utils.load_model(os.path.join(EXP_PIPE_DATA,'BinaryClassBCEnn_model_HH.pth'))\n",
        "  model_ot = pred_utils.load_model(os.path.join(EXP_PIPE_DATA,'BinaryClassBCEnn_model_OT.pth'))\n",
        "else:\n",
        "  raise ValueError(\"Param: model_type must be 'SVC' or 'NN' for now, please choose a valid model\")\n",
        "\n",
        "models_list = [model_tt,model_cy,model_kd,model_sd,model_hh,model_ot]"
      ],
      "metadata": {
        "colab": {
          "base_uri": "https://localhost:8080/"
        },
        "id": "JprOWg9C08Gl",
        "outputId": "801f7c88-d63d-4233-9bde-1546fad1c452"
      },
      "execution_count": null,
      "outputs": [
        {
          "output_type": "stream",
          "name": "stdout",
          "text": [
            "[INFO ]Loading NN  models\n"
          ]
        }
      ]
    },
    {
      "cell_type": "markdown",
      "source": [
        "## Convert models from 1 or 0z to target -  other"
      ],
      "metadata": {
        "id": "9op2cklg-xMo"
      }
    },
    {
      "cell_type": "code",
      "source": [
        "\n",
        "models_list = [\n",
        "              ModelWrapper(model_tt, \"TT\"),\n",
        "               ModelWrapper(model_cy,\"CY\"),\n",
        "               ModelWrapper(model_kd,\"KD\"),\n",
        "               ModelWrapper(model_sd,\"SD\"),\n",
        "               ModelWrapper(model_hh,\"HH\"),\n",
        "               ModelWrapper(model_ot,\"OT\"),\n",
        "               ]\n"
      ],
      "metadata": {
        "id": "XJrDiOft9iSM"
      },
      "execution_count": null,
      "outputs": []
    },
    {
      "cell_type": "code",
      "metadata": {
        "id": "Rts2xCUMNduK"
      },
      "source": [
        "# step 1 load the annotations dataset you want to scan\n",
        "# step 2 load the corresponding .wav\n",
        "# step 3 for each sound of the annotations, add the label (break step inot more steps)#\n",
        "# step 4 use evalmetrics class\n",
        "config_signal_params = {\"hop_size\":256,\"n_fft\":1024,\"desired_signal_size_for_padding\":4096,\"seconds_window\":0.05}\n",
        "hop_size, n_fft, desired_signal_size_for_padding, seconds_window  = config_signal_params.values()"
      ],
      "execution_count": null,
      "outputs": []
    },
    {
      "cell_type": "code",
      "metadata": {
        "id": "61Kl7HR1O04o"
      },
      "source": [
        "# step1\n",
        "\n",
        "def pipeline_generate_datasets(annotation_path: str):\n",
        "  \"\"\"\n",
        "  --------------------------------------------------------------------------------\n",
        "  Given an annotation path, this function will geneate datasets with \n",
        "  predictions on a .wav and its annotation (loading the .txt);\n",
        "   this is a pre function for calculatiing precision and recall\n",
        "   --------------------------------------------------------------------------------\n",
        "  args: \n",
        "    annotation_path -> .wav song ; a .txt with the same name must exist\n",
        "    drum_types_detector -> DrumTypesDetector class with all params and models loaded\n",
        "  return:\n",
        "    df_annotation -> annotations loaded into dataframe\n",
        "    df_predicted -> predictiosn from the model (comes from pred_utils models)\n",
        "  In case you wanna change the models you ened to change : pred_utils.config_signal_params, sklearn_models_list within the function; the rest will be the same\n",
        "  \"\"\"\n",
        "  df_annotation = eval_utils.load_labels(annotation_path,set2df = True)\n",
        "  # step 2: load correponsding .wav\n",
        "  # 2.a search path\n",
        "  wav_path = eval_utils.search_correspondingpath_given_annotation(annotation_path_txt = annotation_path, audio_directory = AUDIO_DIR)\n",
        "  # 2.b now load the wav\n",
        "  signal,sampling_rate = librosa.load(wav_path)\n",
        "  # 3.c) now use annotations onset, here you could use an onset detection method aswell  and DruMTypesDetector's instance to create a dataset with annotations and predictions \n",
        "  # 3.c.i) first set onset time to onset_sample\n",
        "  df_annotation[\"onset_sample\"] = (df_annotation[\"onset_time\"].astype(\"float\")*sampling_rate).astype(\"int\")\n",
        "  onsets_annotation_list = df_annotation[\"onset_sample\"].tolist()\n",
        "  # 3.d) now perform the predicts and put this into a dataframe\n",
        "  drum_types_detector = pred_utils.DrumTypesDetector(config_signal_params,\n",
        "                                        sklearn_models_list = models_list,\n",
        "                                        flatten_data = False)\n",
        "  drum_types_detector(wav_path, presettled_onsets= onsets_annotation_list)\n",
        "  df_predicted = pd.DataFrame(drum_types_detector.list_formatted_onsets, columns=[\"onset_time\",\"predicted_drumtype\"])\n",
        "  # now write annotation path for both datasets\n",
        "  df_predicted[\"annotation_path\"] = annotation_path\n",
        "  df_annotation[\"annotation_path\"] = annotation_path\n",
        "  return df_annotation, df_predicted\n",
        "# now compute the metrics\n",
        "\n",
        "\n"
      ],
      "execution_count": null,
      "outputs": []
    },
    {
      "cell_type": "markdown",
      "source": [
        "# Run prediction  pipeline for all songs "
      ],
      "metadata": {
        "id": "EBAhhyI1DbVF"
      }
    },
    {
      "cell_type": "code",
      "metadata": {
        "colab": {
          "base_uri": "https://localhost:8080/"
        },
        "id": "rIqnAgmhhApE",
        "outputId": "f2b26c14-e9d0-4b07-9511-55fe42e5487a"
      },
      "source": [
        "# build a huge dataset with this pipeline\n",
        "annotation_list, predicted_list = list(), list()\n",
        "#  vbuild a dataset with all path\n",
        "counter = 0\n",
        "total_files2process = len(annotations_test_filepaths)\n",
        "for annotation_path in annotations_test_filepaths:\n",
        "  print(\"Proportion of processed:\",round(counter/total_files2process,2))\n",
        "  df_annotation, df_predicted = pipeline_generate_datasets(\n",
        "                            annotation_path,\n",
        "                            )\n",
        "  annotation_list.append(df_annotation)\n",
        "  predicted_list.append(df_predicted)\n",
        "  counter += 1\n",
        "# now create a df based on the list of dfs\n",
        "df_annotation_all = pd.concat(annotation_list)\n",
        "df_predicted_all = pd.concat(predicted_list)"
      ],
      "execution_count": null,
      "outputs": [
        {
          "output_type": "stream",
          "name": "stdout",
          "text": [
            "Proportion of processed: 0.0\n",
            "Proportion of processed: 0.09\n",
            "Proportion of processed: 0.18\n",
            "Proportion of processed: 0.27\n",
            "Proportion of processed: 0.36\n",
            "Proportion of processed: 0.45\n",
            "Proportion of processed: 0.55\n",
            "Proportion of processed: 0.64\n",
            "Proportion of processed: 0.73\n",
            "Proportion of processed: 0.82\n",
            "Proportion of processed: 0.91\n"
          ]
        }
      ]
    },
    {
      "cell_type": "code",
      "source": [
        "df_annotation_all.head()"
      ],
      "metadata": {
        "id": "9fOqBlqT4hta",
        "colab": {
          "base_uri": "https://localhost:8080/",
          "height": 206
        },
        "outputId": "4567a56e-9355-4cf8-ea1e-259465905dd6"
      },
      "execution_count": null,
      "outputs": [
        {
          "output_type": "execute_result",
          "data": {
            "text/plain": [
              "  onset_time drum_type  onset_sample  \\\n",
              "0   0.020000        KD           441   \n",
              "1   0.020408        HH           449   \n",
              "2   0.290000        KD          6394   \n",
              "3   0.295918        HH          6524   \n",
              "4   0.570000        SD         12568   \n",
              "\n",
              "                                     annotation_path  \n",
              "0  /content/drive/My Drive/Maestria DM y KDD/Espe...  \n",
              "1  /content/drive/My Drive/Maestria DM y KDD/Espe...  \n",
              "2  /content/drive/My Drive/Maestria DM y KDD/Espe...  \n",
              "3  /content/drive/My Drive/Maestria DM y KDD/Espe...  \n",
              "4  /content/drive/My Drive/Maestria DM y KDD/Espe...  "
            ],
            "text/html": [
              "\n",
              "  <div id=\"df-b5a0c823-4701-4aa9-a14f-7af86b53c6b8\">\n",
              "    <div class=\"colab-df-container\">\n",
              "      <div>\n",
              "<style scoped>\n",
              "    .dataframe tbody tr th:only-of-type {\n",
              "        vertical-align: middle;\n",
              "    }\n",
              "\n",
              "    .dataframe tbody tr th {\n",
              "        vertical-align: top;\n",
              "    }\n",
              "\n",
              "    .dataframe thead th {\n",
              "        text-align: right;\n",
              "    }\n",
              "</style>\n",
              "<table border=\"1\" class=\"dataframe\">\n",
              "  <thead>\n",
              "    <tr style=\"text-align: right;\">\n",
              "      <th></th>\n",
              "      <th>onset_time</th>\n",
              "      <th>drum_type</th>\n",
              "      <th>onset_sample</th>\n",
              "      <th>annotation_path</th>\n",
              "    </tr>\n",
              "  </thead>\n",
              "  <tbody>\n",
              "    <tr>\n",
              "      <th>0</th>\n",
              "      <td>0.020000</td>\n",
              "      <td>KD</td>\n",
              "      <td>441</td>\n",
              "      <td>/content/drive/My Drive/Maestria DM y KDD/Espe...</td>\n",
              "    </tr>\n",
              "    <tr>\n",
              "      <th>1</th>\n",
              "      <td>0.020408</td>\n",
              "      <td>HH</td>\n",
              "      <td>449</td>\n",
              "      <td>/content/drive/My Drive/Maestria DM y KDD/Espe...</td>\n",
              "    </tr>\n",
              "    <tr>\n",
              "      <th>2</th>\n",
              "      <td>0.290000</td>\n",
              "      <td>KD</td>\n",
              "      <td>6394</td>\n",
              "      <td>/content/drive/My Drive/Maestria DM y KDD/Espe...</td>\n",
              "    </tr>\n",
              "    <tr>\n",
              "      <th>3</th>\n",
              "      <td>0.295918</td>\n",
              "      <td>HH</td>\n",
              "      <td>6524</td>\n",
              "      <td>/content/drive/My Drive/Maestria DM y KDD/Espe...</td>\n",
              "    </tr>\n",
              "    <tr>\n",
              "      <th>4</th>\n",
              "      <td>0.570000</td>\n",
              "      <td>SD</td>\n",
              "      <td>12568</td>\n",
              "      <td>/content/drive/My Drive/Maestria DM y KDD/Espe...</td>\n",
              "    </tr>\n",
              "  </tbody>\n",
              "</table>\n",
              "</div>\n",
              "      <button class=\"colab-df-convert\" onclick=\"convertToInteractive('df-b5a0c823-4701-4aa9-a14f-7af86b53c6b8')\"\n",
              "              title=\"Convert this dataframe to an interactive table.\"\n",
              "              style=\"display:none;\">\n",
              "        \n",
              "  <svg xmlns=\"http://www.w3.org/2000/svg\" height=\"24px\"viewBox=\"0 0 24 24\"\n",
              "       width=\"24px\">\n",
              "    <path d=\"M0 0h24v24H0V0z\" fill=\"none\"/>\n",
              "    <path d=\"M18.56 5.44l.94 2.06.94-2.06 2.06-.94-2.06-.94-.94-2.06-.94 2.06-2.06.94zm-11 1L8.5 8.5l.94-2.06 2.06-.94-2.06-.94L8.5 2.5l-.94 2.06-2.06.94zm10 10l.94 2.06.94-2.06 2.06-.94-2.06-.94-.94-2.06-.94 2.06-2.06.94z\"/><path d=\"M17.41 7.96l-1.37-1.37c-.4-.4-.92-.59-1.43-.59-.52 0-1.04.2-1.43.59L10.3 9.45l-7.72 7.72c-.78.78-.78 2.05 0 2.83L4 21.41c.39.39.9.59 1.41.59.51 0 1.02-.2 1.41-.59l7.78-7.78 2.81-2.81c.8-.78.8-2.07 0-2.86zM5.41 20L4 18.59l7.72-7.72 1.47 1.35L5.41 20z\"/>\n",
              "  </svg>\n",
              "      </button>\n",
              "      \n",
              "  <style>\n",
              "    .colab-df-container {\n",
              "      display:flex;\n",
              "      flex-wrap:wrap;\n",
              "      gap: 12px;\n",
              "    }\n",
              "\n",
              "    .colab-df-convert {\n",
              "      background-color: #E8F0FE;\n",
              "      border: none;\n",
              "      border-radius: 50%;\n",
              "      cursor: pointer;\n",
              "      display: none;\n",
              "      fill: #1967D2;\n",
              "      height: 32px;\n",
              "      padding: 0 0 0 0;\n",
              "      width: 32px;\n",
              "    }\n",
              "\n",
              "    .colab-df-convert:hover {\n",
              "      background-color: #E2EBFA;\n",
              "      box-shadow: 0px 1px 2px rgba(60, 64, 67, 0.3), 0px 1px 3px 1px rgba(60, 64, 67, 0.15);\n",
              "      fill: #174EA6;\n",
              "    }\n",
              "\n",
              "    [theme=dark] .colab-df-convert {\n",
              "      background-color: #3B4455;\n",
              "      fill: #D2E3FC;\n",
              "    }\n",
              "\n",
              "    [theme=dark] .colab-df-convert:hover {\n",
              "      background-color: #434B5C;\n",
              "      box-shadow: 0px 1px 3px 1px rgba(0, 0, 0, 0.15);\n",
              "      filter: drop-shadow(0px 1px 2px rgba(0, 0, 0, 0.3));\n",
              "      fill: #FFFFFF;\n",
              "    }\n",
              "  </style>\n",
              "\n",
              "      <script>\n",
              "        const buttonEl =\n",
              "          document.querySelector('#df-b5a0c823-4701-4aa9-a14f-7af86b53c6b8 button.colab-df-convert');\n",
              "        buttonEl.style.display =\n",
              "          google.colab.kernel.accessAllowed ? 'block' : 'none';\n",
              "\n",
              "        async function convertToInteractive(key) {\n",
              "          const element = document.querySelector('#df-b5a0c823-4701-4aa9-a14f-7af86b53c6b8');\n",
              "          const dataTable =\n",
              "            await google.colab.kernel.invokeFunction('convertToInteractive',\n",
              "                                                     [key], {});\n",
              "          if (!dataTable) return;\n",
              "\n",
              "          const docLinkHtml = 'Like what you see? Visit the ' +\n",
              "            '<a target=\"_blank\" href=https://colab.research.google.com/notebooks/data_table.ipynb>data table notebook</a>'\n",
              "            + ' to learn more about interactive tables.';\n",
              "          element.innerHTML = '';\n",
              "          dataTable['output_type'] = 'display_data';\n",
              "          await google.colab.output.renderOutput(dataTable, element);\n",
              "          const docLink = document.createElement('div');\n",
              "          docLink.innerHTML = docLinkHtml;\n",
              "          element.appendChild(docLink);\n",
              "        }\n",
              "      </script>\n",
              "    </div>\n",
              "  </div>\n",
              "  "
            ]
          },
          "metadata": {},
          "execution_count": 76
        }
      ]
    },
    {
      "cell_type": "code",
      "source": [
        "df_predicted_all.head()"
      ],
      "metadata": {
        "id": "1WMfQp4s4Bsg",
        "colab": {
          "base_uri": "https://localhost:8080/",
          "height": 206
        },
        "outputId": "38e33ab3-1d03-414b-9981-1e3c41a5ec98"
      },
      "execution_count": null,
      "outputs": [
        {
          "output_type": "execute_result",
          "data": {
            "text/plain": [
              "   onset_time predicted_drumtype  \\\n",
              "0        0.02            [OTHER]   \n",
              "1        0.02               [CY]   \n",
              "2        0.02               [KD]   \n",
              "3        0.02            [OTHER]   \n",
              "4        0.02               [HH]   \n",
              "\n",
              "                                     annotation_path  \n",
              "0  /content/drive/My Drive/Maestria DM y KDD/Espe...  \n",
              "1  /content/drive/My Drive/Maestria DM y KDD/Espe...  \n",
              "2  /content/drive/My Drive/Maestria DM y KDD/Espe...  \n",
              "3  /content/drive/My Drive/Maestria DM y KDD/Espe...  \n",
              "4  /content/drive/My Drive/Maestria DM y KDD/Espe...  "
            ],
            "text/html": [
              "\n",
              "  <div id=\"df-fbe1a77e-a9ba-4532-b749-b07f5f246bf0\">\n",
              "    <div class=\"colab-df-container\">\n",
              "      <div>\n",
              "<style scoped>\n",
              "    .dataframe tbody tr th:only-of-type {\n",
              "        vertical-align: middle;\n",
              "    }\n",
              "\n",
              "    .dataframe tbody tr th {\n",
              "        vertical-align: top;\n",
              "    }\n",
              "\n",
              "    .dataframe thead th {\n",
              "        text-align: right;\n",
              "    }\n",
              "</style>\n",
              "<table border=\"1\" class=\"dataframe\">\n",
              "  <thead>\n",
              "    <tr style=\"text-align: right;\">\n",
              "      <th></th>\n",
              "      <th>onset_time</th>\n",
              "      <th>predicted_drumtype</th>\n",
              "      <th>annotation_path</th>\n",
              "    </tr>\n",
              "  </thead>\n",
              "  <tbody>\n",
              "    <tr>\n",
              "      <th>0</th>\n",
              "      <td>0.02</td>\n",
              "      <td>[OTHER]</td>\n",
              "      <td>/content/drive/My Drive/Maestria DM y KDD/Espe...</td>\n",
              "    </tr>\n",
              "    <tr>\n",
              "      <th>1</th>\n",
              "      <td>0.02</td>\n",
              "      <td>[CY]</td>\n",
              "      <td>/content/drive/My Drive/Maestria DM y KDD/Espe...</td>\n",
              "    </tr>\n",
              "    <tr>\n",
              "      <th>2</th>\n",
              "      <td>0.02</td>\n",
              "      <td>[KD]</td>\n",
              "      <td>/content/drive/My Drive/Maestria DM y KDD/Espe...</td>\n",
              "    </tr>\n",
              "    <tr>\n",
              "      <th>3</th>\n",
              "      <td>0.02</td>\n",
              "      <td>[OTHER]</td>\n",
              "      <td>/content/drive/My Drive/Maestria DM y KDD/Espe...</td>\n",
              "    </tr>\n",
              "    <tr>\n",
              "      <th>4</th>\n",
              "      <td>0.02</td>\n",
              "      <td>[HH]</td>\n",
              "      <td>/content/drive/My Drive/Maestria DM y KDD/Espe...</td>\n",
              "    </tr>\n",
              "  </tbody>\n",
              "</table>\n",
              "</div>\n",
              "      <button class=\"colab-df-convert\" onclick=\"convertToInteractive('df-fbe1a77e-a9ba-4532-b749-b07f5f246bf0')\"\n",
              "              title=\"Convert this dataframe to an interactive table.\"\n",
              "              style=\"display:none;\">\n",
              "        \n",
              "  <svg xmlns=\"http://www.w3.org/2000/svg\" height=\"24px\"viewBox=\"0 0 24 24\"\n",
              "       width=\"24px\">\n",
              "    <path d=\"M0 0h24v24H0V0z\" fill=\"none\"/>\n",
              "    <path d=\"M18.56 5.44l.94 2.06.94-2.06 2.06-.94-2.06-.94-.94-2.06-.94 2.06-2.06.94zm-11 1L8.5 8.5l.94-2.06 2.06-.94-2.06-.94L8.5 2.5l-.94 2.06-2.06.94zm10 10l.94 2.06.94-2.06 2.06-.94-2.06-.94-.94-2.06-.94 2.06-2.06.94z\"/><path d=\"M17.41 7.96l-1.37-1.37c-.4-.4-.92-.59-1.43-.59-.52 0-1.04.2-1.43.59L10.3 9.45l-7.72 7.72c-.78.78-.78 2.05 0 2.83L4 21.41c.39.39.9.59 1.41.59.51 0 1.02-.2 1.41-.59l7.78-7.78 2.81-2.81c.8-.78.8-2.07 0-2.86zM5.41 20L4 18.59l7.72-7.72 1.47 1.35L5.41 20z\"/>\n",
              "  </svg>\n",
              "      </button>\n",
              "      \n",
              "  <style>\n",
              "    .colab-df-container {\n",
              "      display:flex;\n",
              "      flex-wrap:wrap;\n",
              "      gap: 12px;\n",
              "    }\n",
              "\n",
              "    .colab-df-convert {\n",
              "      background-color: #E8F0FE;\n",
              "      border: none;\n",
              "      border-radius: 50%;\n",
              "      cursor: pointer;\n",
              "      display: none;\n",
              "      fill: #1967D2;\n",
              "      height: 32px;\n",
              "      padding: 0 0 0 0;\n",
              "      width: 32px;\n",
              "    }\n",
              "\n",
              "    .colab-df-convert:hover {\n",
              "      background-color: #E2EBFA;\n",
              "      box-shadow: 0px 1px 2px rgba(60, 64, 67, 0.3), 0px 1px 3px 1px rgba(60, 64, 67, 0.15);\n",
              "      fill: #174EA6;\n",
              "    }\n",
              "\n",
              "    [theme=dark] .colab-df-convert {\n",
              "      background-color: #3B4455;\n",
              "      fill: #D2E3FC;\n",
              "    }\n",
              "\n",
              "    [theme=dark] .colab-df-convert:hover {\n",
              "      background-color: #434B5C;\n",
              "      box-shadow: 0px 1px 3px 1px rgba(0, 0, 0, 0.15);\n",
              "      filter: drop-shadow(0px 1px 2px rgba(0, 0, 0, 0.3));\n",
              "      fill: #FFFFFF;\n",
              "    }\n",
              "  </style>\n",
              "\n",
              "      <script>\n",
              "        const buttonEl =\n",
              "          document.querySelector('#df-fbe1a77e-a9ba-4532-b749-b07f5f246bf0 button.colab-df-convert');\n",
              "        buttonEl.style.display =\n",
              "          google.colab.kernel.accessAllowed ? 'block' : 'none';\n",
              "\n",
              "        async function convertToInteractive(key) {\n",
              "          const element = document.querySelector('#df-fbe1a77e-a9ba-4532-b749-b07f5f246bf0');\n",
              "          const dataTable =\n",
              "            await google.colab.kernel.invokeFunction('convertToInteractive',\n",
              "                                                     [key], {});\n",
              "          if (!dataTable) return;\n",
              "\n",
              "          const docLinkHtml = 'Like what you see? Visit the ' +\n",
              "            '<a target=\"_blank\" href=https://colab.research.google.com/notebooks/data_table.ipynb>data table notebook</a>'\n",
              "            + ' to learn more about interactive tables.';\n",
              "          element.innerHTML = '';\n",
              "          dataTable['output_type'] = 'display_data';\n",
              "          await google.colab.output.renderOutput(dataTable, element);\n",
              "          const docLink = document.createElement('div');\n",
              "          docLink.innerHTML = docLinkHtml;\n",
              "          element.appendChild(docLink);\n",
              "        }\n",
              "      </script>\n",
              "    </div>\n",
              "  </div>\n",
              "  "
            ]
          },
          "metadata": {},
          "execution_count": 77
        }
      ]
    },
    {
      "cell_type": "code",
      "source": [
        "unlist_labels = lambda x : x[0]\n",
        "df_predicted_all[\"predicted_drumtype\"] = df_predicted_all[\"predicted_drumtype\"].apply(unlist_labels)\n",
        "df_predicted_all.head()"
      ],
      "metadata": {
        "colab": {
          "base_uri": "https://localhost:8080/",
          "height": 206
        },
        "id": "4rc3lEjE8WqS",
        "outputId": "0f597553-8d8b-4d25-faf7-4455535ba6f4"
      },
      "execution_count": null,
      "outputs": [
        {
          "output_type": "execute_result",
          "data": {
            "text/plain": [
              "   onset_time predicted_drumtype  \\\n",
              "0        0.02              OTHER   \n",
              "1        0.02                 CY   \n",
              "2        0.02                 KD   \n",
              "3        0.02              OTHER   \n",
              "4        0.02                 HH   \n",
              "\n",
              "                                     annotation_path  \n",
              "0  /content/drive/My Drive/Maestria DM y KDD/Espe...  \n",
              "1  /content/drive/My Drive/Maestria DM y KDD/Espe...  \n",
              "2  /content/drive/My Drive/Maestria DM y KDD/Espe...  \n",
              "3  /content/drive/My Drive/Maestria DM y KDD/Espe...  \n",
              "4  /content/drive/My Drive/Maestria DM y KDD/Espe...  "
            ],
            "text/html": [
              "\n",
              "  <div id=\"df-cf79eb37-ce89-40e9-bc40-523b5aa268ee\">\n",
              "    <div class=\"colab-df-container\">\n",
              "      <div>\n",
              "<style scoped>\n",
              "    .dataframe tbody tr th:only-of-type {\n",
              "        vertical-align: middle;\n",
              "    }\n",
              "\n",
              "    .dataframe tbody tr th {\n",
              "        vertical-align: top;\n",
              "    }\n",
              "\n",
              "    .dataframe thead th {\n",
              "        text-align: right;\n",
              "    }\n",
              "</style>\n",
              "<table border=\"1\" class=\"dataframe\">\n",
              "  <thead>\n",
              "    <tr style=\"text-align: right;\">\n",
              "      <th></th>\n",
              "      <th>onset_time</th>\n",
              "      <th>predicted_drumtype</th>\n",
              "      <th>annotation_path</th>\n",
              "    </tr>\n",
              "  </thead>\n",
              "  <tbody>\n",
              "    <tr>\n",
              "      <th>0</th>\n",
              "      <td>0.02</td>\n",
              "      <td>OTHER</td>\n",
              "      <td>/content/drive/My Drive/Maestria DM y KDD/Espe...</td>\n",
              "    </tr>\n",
              "    <tr>\n",
              "      <th>1</th>\n",
              "      <td>0.02</td>\n",
              "      <td>CY</td>\n",
              "      <td>/content/drive/My Drive/Maestria DM y KDD/Espe...</td>\n",
              "    </tr>\n",
              "    <tr>\n",
              "      <th>2</th>\n",
              "      <td>0.02</td>\n",
              "      <td>KD</td>\n",
              "      <td>/content/drive/My Drive/Maestria DM y KDD/Espe...</td>\n",
              "    </tr>\n",
              "    <tr>\n",
              "      <th>3</th>\n",
              "      <td>0.02</td>\n",
              "      <td>OTHER</td>\n",
              "      <td>/content/drive/My Drive/Maestria DM y KDD/Espe...</td>\n",
              "    </tr>\n",
              "    <tr>\n",
              "      <th>4</th>\n",
              "      <td>0.02</td>\n",
              "      <td>HH</td>\n",
              "      <td>/content/drive/My Drive/Maestria DM y KDD/Espe...</td>\n",
              "    </tr>\n",
              "  </tbody>\n",
              "</table>\n",
              "</div>\n",
              "      <button class=\"colab-df-convert\" onclick=\"convertToInteractive('df-cf79eb37-ce89-40e9-bc40-523b5aa268ee')\"\n",
              "              title=\"Convert this dataframe to an interactive table.\"\n",
              "              style=\"display:none;\">\n",
              "        \n",
              "  <svg xmlns=\"http://www.w3.org/2000/svg\" height=\"24px\"viewBox=\"0 0 24 24\"\n",
              "       width=\"24px\">\n",
              "    <path d=\"M0 0h24v24H0V0z\" fill=\"none\"/>\n",
              "    <path d=\"M18.56 5.44l.94 2.06.94-2.06 2.06-.94-2.06-.94-.94-2.06-.94 2.06-2.06.94zm-11 1L8.5 8.5l.94-2.06 2.06-.94-2.06-.94L8.5 2.5l-.94 2.06-2.06.94zm10 10l.94 2.06.94-2.06 2.06-.94-2.06-.94-.94-2.06-.94 2.06-2.06.94z\"/><path d=\"M17.41 7.96l-1.37-1.37c-.4-.4-.92-.59-1.43-.59-.52 0-1.04.2-1.43.59L10.3 9.45l-7.72 7.72c-.78.78-.78 2.05 0 2.83L4 21.41c.39.39.9.59 1.41.59.51 0 1.02-.2 1.41-.59l7.78-7.78 2.81-2.81c.8-.78.8-2.07 0-2.86zM5.41 20L4 18.59l7.72-7.72 1.47 1.35L5.41 20z\"/>\n",
              "  </svg>\n",
              "      </button>\n",
              "      \n",
              "  <style>\n",
              "    .colab-df-container {\n",
              "      display:flex;\n",
              "      flex-wrap:wrap;\n",
              "      gap: 12px;\n",
              "    }\n",
              "\n",
              "    .colab-df-convert {\n",
              "      background-color: #E8F0FE;\n",
              "      border: none;\n",
              "      border-radius: 50%;\n",
              "      cursor: pointer;\n",
              "      display: none;\n",
              "      fill: #1967D2;\n",
              "      height: 32px;\n",
              "      padding: 0 0 0 0;\n",
              "      width: 32px;\n",
              "    }\n",
              "\n",
              "    .colab-df-convert:hover {\n",
              "      background-color: #E2EBFA;\n",
              "      box-shadow: 0px 1px 2px rgba(60, 64, 67, 0.3), 0px 1px 3px 1px rgba(60, 64, 67, 0.15);\n",
              "      fill: #174EA6;\n",
              "    }\n",
              "\n",
              "    [theme=dark] .colab-df-convert {\n",
              "      background-color: #3B4455;\n",
              "      fill: #D2E3FC;\n",
              "    }\n",
              "\n",
              "    [theme=dark] .colab-df-convert:hover {\n",
              "      background-color: #434B5C;\n",
              "      box-shadow: 0px 1px 3px 1px rgba(0, 0, 0, 0.15);\n",
              "      filter: drop-shadow(0px 1px 2px rgba(0, 0, 0, 0.3));\n",
              "      fill: #FFFFFF;\n",
              "    }\n",
              "  </style>\n",
              "\n",
              "      <script>\n",
              "        const buttonEl =\n",
              "          document.querySelector('#df-cf79eb37-ce89-40e9-bc40-523b5aa268ee button.colab-df-convert');\n",
              "        buttonEl.style.display =\n",
              "          google.colab.kernel.accessAllowed ? 'block' : 'none';\n",
              "\n",
              "        async function convertToInteractive(key) {\n",
              "          const element = document.querySelector('#df-cf79eb37-ce89-40e9-bc40-523b5aa268ee');\n",
              "          const dataTable =\n",
              "            await google.colab.kernel.invokeFunction('convertToInteractive',\n",
              "                                                     [key], {});\n",
              "          if (!dataTable) return;\n",
              "\n",
              "          const docLinkHtml = 'Like what you see? Visit the ' +\n",
              "            '<a target=\"_blank\" href=https://colab.research.google.com/notebooks/data_table.ipynb>data table notebook</a>'\n",
              "            + ' to learn more about interactive tables.';\n",
              "          element.innerHTML = '';\n",
              "          dataTable['output_type'] = 'display_data';\n",
              "          await google.colab.output.renderOutput(dataTable, element);\n",
              "          const docLink = document.createElement('div');\n",
              "          docLink.innerHTML = docLinkHtml;\n",
              "          element.appendChild(docLink);\n",
              "        }\n",
              "      </script>\n",
              "    </div>\n",
              "  </div>\n",
              "  "
            ]
          },
          "metadata": {},
          "execution_count": 78
        }
      ]
    },
    {
      "cell_type": "code",
      "source": [
        "df_predicted_all[\"predicted_drumtype\"].unique()"
      ],
      "metadata": {
        "colab": {
          "base_uri": "https://localhost:8080/"
        },
        "id": "57rs9erC83OK",
        "outputId": "971bee1b-e0d8-4d04-fe07-6257d61d2fde"
      },
      "execution_count": null,
      "outputs": [
        {
          "output_type": "execute_result",
          "data": {
            "text/plain": [
              "array(['OTHER', 'CY', 'KD', 'HH', 'OT', 'SD', 'TT'], dtype=object)"
            ]
          },
          "metadata": {},
          "execution_count": 79
        }
      ]
    },
    {
      "cell_type": "markdown",
      "source": [
        "# Once you have predictions and annotations, compute the required metrics for each drum_type"
      ],
      "metadata": {
        "id": "8iCOqJ9nHbIO"
      }
    },
    {
      "cell_type": "code",
      "metadata": {
        "id": "OcjjxX2thDUj"
      },
      "source": [
        "# criterion; this criterion is for onset detection;\n",
        "# but take into account that you are passing five models, \n",
        "# for example if the HH is on second 0.02 and SD on 0.03 ; using window time\n",
        "# you can recognize the HH at second 0.03 and SD at second 0.02; and this will be correct (since it is part of the same STFT / sound)\n",
        "# therefore teheres no need to change sample criterion so much (0.01 is min in recognition)\n",
        "seconds_criterion = 0.03\n",
        "# this is for all of our songs (see it in the librosa.laod return)\n",
        "sampling_rate =  int(44100/2)\n",
        "# add onset_sample which if forgot\n",
        "df_predicted_all[\"onset_sample\"] = (df_predicted_all[\"onset_time\"]*sampling_rate).astype(\"int\")\n",
        "df_predicted_all[\"drum_type\"] = df_predicted_all[\"predicted_drumtype\"]\n",
        "#\n",
        "samples_criterion = int(seconds_criterion*sampling_rate)\n",
        "# all drumtypes\n",
        "drum_types_list = [\"KD\",\"SD\",\"HH\",\"CY\",\"OT\",\"TT\"]\n",
        "\n",
        "# list all the metrics for each drumtype\n",
        "metrics_dict_list = list()\n",
        "for drum_type in drum_types_list:\n",
        "  compute_metrics = eval_utils.ComputeMetrics(true_labels = df_annotation_all, predicted_labels = df_predicted_all, samples_criterion = samples_criterion, filter_drumtype = drum_type)\n",
        "  metrics_dict = compute_metrics()\n",
        "  metrics_dict[\"drum_type\"] = drum_type\n",
        "  metrics_dict_list.append(metrics_dict)"
      ],
      "execution_count": null,
      "outputs": []
    },
    {
      "cell_type": "code",
      "source": [
        "metrics_dict_list"
      ],
      "metadata": {
        "colab": {
          "base_uri": "https://localhost:8080/"
        },
        "id": "V_1IM_P5BWB9",
        "outputId": "a46f0f4b-3f7c-48bf-d1e3-37f758feb864"
      },
      "execution_count": null,
      "outputs": [
        {
          "output_type": "execute_result",
          "data": {
            "text/plain": [
              "[{'recall': 0.989749430523918,\n",
              "  'precision': 0.9340136054421768,\n",
              "  'f1_score': 0.9610741206738507,\n",
              "  'drum_type': 'KD'},\n",
              " {'recall': 0.9496296296296296,\n",
              "  'precision': 0.9091891891891892,\n",
              "  'f1_score': 0.9289694985352404,\n",
              "  'drum_type': 'SD'},\n",
              " {'recall': 0.8445945945945946,\n",
              "  'precision': 0.7437266417512013,\n",
              "  'f1_score': 0.7909577572912337,\n",
              "  'drum_type': 'HH'},\n",
              " {'recall': 0.8816326530612245,\n",
              "  'precision': 0.5798082346305696,\n",
              "  'f1_score': 0.6995532648213374,\n",
              "  'drum_type': 'CY'},\n",
              " {'recall': 0.0625,\n",
              "  'precision': 0.041666666666666664,\n",
              "  'f1_score': 0.05,\n",
              "  'drum_type': 'OT'},\n",
              " {'recall': 0.13333333333333333,\n",
              "  'precision': 0.1724137931034483,\n",
              "  'f1_score': 0.15037593984962408,\n",
              "  'drum_type': 'TT'}]"
            ]
          },
          "metadata": {},
          "execution_count": 83
        }
      ]
    },
    {
      "cell_type": "code",
      "source": [],
      "metadata": {
        "id": "PEyH05DE4FIp"
      },
      "execution_count": null,
      "outputs": []
    }
  ]
}